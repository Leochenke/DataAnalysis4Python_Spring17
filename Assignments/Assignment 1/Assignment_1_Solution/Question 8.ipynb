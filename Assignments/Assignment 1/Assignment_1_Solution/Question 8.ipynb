{
 "cells": [
  {
   "cell_type": "markdown",
   "metadata": {},
   "source": [
    "# Question 8\n",
    "- Use nps_chat and wordlist corpus.\n",
    "- If you find a word in nps_chat but not in wordlist, it is considered an unusual word. (e.g. Heyyyy, gr8, 4ever can be considered unusual words for this analysis)\n",
    "- Find out how many unusual words people speak in chat (notice: usernames should not be counted)\n",
    "- Bonus: What if I want to  count : ) , : ( all these emoticons in. (optional)"
   ]
  },
  {
   "cell_type": "code",
   "execution_count": 22,
   "metadata": {
    "collapsed": true
   },
   "outputs": [],
   "source": [
    "from nltk.corpus import nps_chat, words"
   ]
  },
  {
   "cell_type": "code",
   "execution_count": 23,
   "metadata": {
    "collapsed": false
   },
   "outputs": [],
   "source": [
    "word_list = words.words()"
   ]
  },
  {
   "cell_type": "code",
   "execution_count": 24,
   "metadata": {
    "collapsed": false
   },
   "outputs": [],
   "source": [
    "lower_word_list = [word.lower() for word in word_list]   # Remove case problem for later analysis"
   ]
  },
  {
   "cell_type": "code",
   "execution_count": 25,
   "metadata": {
    "collapsed": false
   },
   "outputs": [
    {
     "name": "stdout",
     "output_type": "stream",
     "text": [
      "['a', 'a', 'aa', 'aal', 'aalii', 'aam', 'aani', 'aardvark', 'aardwolf', 'aaron', 'aaronic', 'aaronical', 'aaronite', 'aaronitic', 'aaru', 'ab', 'aba', 'ababdeh', 'ababua', 'abac', 'abaca', 'abacate', 'abacay', 'abacinate', 'abacination', 'abaciscus', 'abacist', 'aback', 'abactinal', 'abactinally', 'abaction', 'abactor', 'abaculus', 'abacus', 'abadite', 'abaff', 'abaft', 'abaisance', 'abaiser', 'abaissed', 'abalienate', 'abalienation', 'abalone', 'abama', 'abampere', 'abandon', 'abandonable', 'abandoned', 'abandonedly', 'abandonee']\n"
     ]
    }
   ],
   "source": [
    "print(lower_word_list[:50])"
   ]
  },
  {
   "cell_type": "code",
   "execution_count": 26,
   "metadata": {
    "collapsed": false
   },
   "outputs": [],
   "source": [
    "all_posts = nps_chat.posts()\n",
    "chat_word_list = []"
   ]
  },
  {
   "cell_type": "code",
   "execution_count": 27,
   "metadata": {
    "collapsed": false
   },
   "outputs": [
    {
     "name": "stdout",
     "output_type": "stream",
     "text": [
      "45010\n"
     ]
    }
   ],
   "source": [
    "for post in all_posts:\n",
    "    chat_word_list += post\n",
    "print(len(chat_word_list))\n",
    "# print(chat_word_list)"
   ]
  },
  {
   "cell_type": "code",
   "execution_count": 28,
   "metadata": {
    "collapsed": false
   },
   "outputs": [
    {
     "data": {
      "text/plain": [
       "6066"
      ]
     },
     "execution_count": 28,
     "metadata": {},
     "output_type": "execute_result"
    }
   ],
   "source": [
    "unique_list = set(chat_word_list)\n",
    "len(unique_list)"
   ]
  },
  {
   "cell_type": "code",
   "execution_count": 29,
   "metadata": {
    "collapsed": false
   },
   "outputs": [],
   "source": [
    "raw_list = []   # Create this list to see what we got after the first filter"
   ]
  },
  {
   "cell_type": "code",
   "execution_count": 30,
   "metadata": {
    "collapsed": false
   },
   "outputs": [],
   "source": [
    "for element in unique_list:\n",
    "    if element.lower() not in lower_word_list:   \n",
    "        raw_list.append(element)"
   ]
  },
  {
   "cell_type": "code",
   "execution_count": 31,
   "metadata": {
    "collapsed": false
   },
   "outputs": [
    {
     "name": "stdout",
     "output_type": "stream",
     "text": [
      "3017\n"
     ]
    }
   ],
   "source": [
    "print(len(raw_list))"
   ]
  },
  {
   "cell_type": "code",
   "execution_count": 32,
   "metadata": {
    "collapsed": true
   },
   "outputs": [],
   "source": [
    "# First we deal with the words in plural form ‘s','es','ies','d','ed','ing'in raw_list.\n",
    "unusual_list_1 = []\n",
    "raw_list_2 = []"
   ]
  },
  {
   "cell_type": "code",
   "execution_count": 33,
   "metadata": {
    "collapsed": false
   },
   "outputs": [],
   "source": [
    "for element in raw_list:\n",
    "    if element.endswith('s'):\n",
    "        if element.lower()[:-1] not in lower_word_list and element.lower()[:-2] not in lower_word_list\\\n",
    "        and (element.lower()[:-3] + 'y') not in lower_word_list:\n",
    "            unusual_list_1.append(element)\n",
    "    elif element.endswith('d'):\n",
    "        if element.lower()[:-1] not in lower_word_list and element.lower()[:-2] not in lower_word_list\\\n",
    "        and (element.lower()[:-3]) not in lower_word_list:\n",
    "            unusual_list_1.append(element)\n",
    "    elif element.endswith('ing'):\n",
    "        if element.lower()[:-3] not in lower_word_list and element.lower()[-4] not in lower_word_list:\n",
    "            unusual_list_1.append(element)\n",
    "    else: \n",
    "        raw_list_2.append(element)"
   ]
  },
  {
   "cell_type": "code",
   "execution_count": 34,
   "metadata": {
    "collapsed": false
   },
   "outputs": [
    {
     "name": "stdout",
     "output_type": "stream",
     "text": [
      "176\n",
      "['K-Fed', 'hfglhs', '#talkcity-20s', 'england', 'horrified', 'oppsss', 'donuts', 'Plssss', \"t'anks\", 'hotties', 'f-ing', 'webcams', 'fishercats', 'fragged', 'mwahhs', 'suprised', 'early20s', 'omnious', 'recomend', 'fawked', 'declawed', 'yikes', 'opps', 'bishes', 'kness', 'killeded', 'hugsssss', 'obbts', 'defrags', 'beatles', 'forwads', 'pmers', 'coworkers', \"<3's\", '#prideisland', 'serties', '2nd', 'alzheimers', 'downloaded', 'laterssss', 'frenchkiss', 'homeboys', \"iggy'd\", 'babiess', 'streched', '#prideIsland', 'huggss', 'Nevermind', 'pujols', \"pm's\", 'Virius', 'ques', 'poooland', 'acros', 'rumours', 'alohas', '#talkcity_adults', 'uyes', 'Jerketts', 'criss-cross', 'pwns', 'yikesssss', 'Fairbanks', 'realises', 'assholes', 'cris-cross', 'arround', \"RN's\", 'jucilicious', 'iamahotnipwithpics', 'retahhhhded', 'okikes', 'currious', 'lubbs', '1cos', 'glitches', 'whuuped', 'fucks', 'weeeeeeeeeeeeeeeeeeeeeeeeed', 'mwahhss', 'hugggs', 'hugsssssssss', 'nicnames', 'chatland', 'yummylicious', 'boinked', 'Bloooooooooooood', 'iamahotnipwithhotnippics', 'yeppers', 'babycakeses', 'slkfjsldkfjs', 'ihavehotnips', 'Fergalicious', 'beattles', 'nekkies', 'ooopppps', '#40sPlus', 'grettings', 'schmoopies', 'handheld', 'cute.-ass', 'jerkettes', 'oopps', 'wimmins', 'agurlwithbigguns', 'edgewood', 'kickass', 'ciggareets', 'skateboard', 'paradis', 'cuddlicious', 'photshopped', 'fliuds', 'twizted', \"'d\", 'msners', 'Bloooooooood', 'boyfriend', 'seagulls', 'wussups', 'smewchies', 'ooppsss', 'barfights', 'oooooooooooooonnnnnnnnnnnneeeeeeeeeeeeeeesssssssss', 'yawnssss', 'Amazingness', 'hiYas', 'f**kalicious', 'hartford', 'Bloooooooooood', 'muahssssssssssssssss', 'Oops', 'Yikes', 'e-husband', 'grilfriend', 'ringtones', 'Naples', 'hugsss', \"yw's\", 'oops', 'congrats', 'e-herpes', 'xxxed', 'minigames', 'x-mas', 'cyas', 'whaaaaats', 'disocvered', 'muahsssssssssssssssssss', 'Edgewood', 'tennies', \"PM's\", 'neverneverland', 'euphamisms', 'mainland', 'Zebrahead', 'backfrontsidewaysandallaroundtheworld', 'wildcard', 're-thinks', 'cripos', '#14-19teens', \"martini's\", 'profilrs', 'freind', 'Cardnials', 'hearthechatters', 'abourted', 'girlfriend', 'Cleveland', 'ysssssssss', 'f*cktards', 'antidepressants', 'kookies', 'nortenos', 'yepper s', 'pokkies']\n"
     ]
    }
   ],
   "source": [
    "print(len(unusual_list_1))\n",
    "print(unusual_list_1)       # You will see many typos in this list which we can not remove"
   ]
  },
  {
   "cell_type": "code",
   "execution_count": 35,
   "metadata": {
    "collapsed": false
   },
   "outputs": [
    {
     "name": "stdout",
     "output_type": "stream",
     "text": [
      "['', 'peace-and-quiet', 'iamahotniplickme', 'computor', 'noo', 'kmph', 'lysol', 'headach', '36', 'U111', 'fl', '.', 'naughtier', 'misbeahve', 'muahz', 'pweeze', \"scrollin'\", 'jk', '220', 'mena', 'kinda', 'Burger', 'pedofile', 'yoko', 'giva', 'LOUDER', '<<<<', 'bbbbbyyyyyyyeeeeeeeee', '>.>->', 'yu', ':', '<--', '=]', 'muh', 'hgey', ')', 'dr', '.op.', 'hmm', 'mom', 'smarter', 'seee', 'detroit', ')))))', 'hm', 'dummmm', '*drools*', '6:53', '-', 'moonie', 'co op', '3333333', 'II', 'U52', 'invisiable', 'Lampert', 'noth', 'hio', 'tacoma', '246', 'TC', 'U114', 'fucker', 'frm', 'RI', 'LOLOLOLLL', 'Oy', '!!!!!!!!!!!!!!!!', 'xD', 'cool1024', '.. .', 'eeek', 'U153', 'S3x0r', 'U156', 'n.n', 'MsUtah', 'eeeeeeeeewwwwwwww', 'lavendar', 'ussy', 'U144', 'me/', 'irl', 'U149', '*spank*', 'GUYS', 'Birdgang', \"miss'n\", 'backroom', 'lesbo', '<~~~', 'U59', 'muzak', 'lmao', 'LPN', 'biiiatch', 'caiuse', 'MSN', \"passin'\", 'trippin', 'definitley', 'errrrr', 'wrek', 'afk', '95953', '!!!!!!!!!!', ';', ')))))))))))))))', 'bandito', '29.88.', 'guyzz', 'YaY', 'awesomee', 'bahahahaa', 'couldnt', 'In.', 'Ct', \"mf'er\", 'livin', 'chcken', \"stuffin'\", '??!!', 'mhm', 'hang', '(((((..', 'tyvm', 'adduser', 'U820', 'U78', 'LoL', '2Pac', 'Dr.', '(((((((', 'every1', 'U58', 'dj', 'tonawanda', 'CSI', 'u550436035', '32', 'tisk', 'prolly', 'thristy', 'U99', 'ldskdlsf', 'hangin', 'ohh', 'deop', 'H0rny', 'femine', ']:)', 'ciao', '7:45', 'du', 'offence', 'doody', 'yoder', 'U138', 'norny', 'U106', 'ahhahahaha', 'deleware', 'dontcha', '((((((((((((((', 'youuu', '++', 'gayoholic', 'bacl', 'iamahotnip', 'mcgraw', '16.', '#', 'awsome', 'Ack', 'hooo', 'OOooOO', 'Post-haste', ')))', 'P.', 'hooooo', 'U542', 'heeee', 'MUAH', 'mauh', 'gonna', 'chocha', 'ppolitical', 'burito', '...', 'plenaty', 'Gorda', '19', '18ST', '>_>', '$$', 'shaun', 'innocense', '-o', 'hahahahahaha', 'yoll', 'U117', 'nakey', '................', 'U112', ':blush:', 'reallly', 'sdlfkjsj', 'sumpin', 'U197', 'smirkz', 'argh', '1.98', 'Liam', 'howz', '10th', 'aime', \"'.\", 'Pullin', 'U88', '\"', '102.6', 'e1', '53', 'lol', 'U107', 'actualy', '. ...', 'U61', 'ello', 'enuf', 'cho-co-la-te', 'U40', 'U38', 'n;t', '^^^', 'bandsaw', 'owuldnt', 'Yeh', 'smax', '!!!!....', '45', 'dyslexic', 'metallica', ':-(', 'dl', 'fuckin', 'mmmmmmmmiiiiiiiiinnnnnnnnneeeeeeee', 'geessh', '_', 'U141', 'sucka', 'Meep', 'excitin', 'hissy', '147.7', 'hx', 'Lil', 'dirrrrty', '-21', 'lucy-fur', '06.', 'listenin', 'PayPal', 'lyin', 'okay', 'U20', 'U37', 'itz', '185', 'othah', 'everone', 'U31', 'Foley', 'pssssh', 'DAamn', 'febe', '17', 'brb', '>>>', 'haha', 'U129', 'hahhahahaha', 'Cyber', 'AKST', '43', '700', 'yerself', 'SSRI', ')))))))))))))))))))))))))))))))', 'ppl', 'tounge', 'Ahhh', 'pffft', 'coggieeee', 'wth', 'U136', 'kev', '24', 'n9ne', 'spose', 'soojn', '^_^', 'U55', 'mkay', '2.3', 'barbie', 'yoooou', '>>>>>>>>>>', ':|', '?', 'CanEhda', 'no-no', 'goooooo', '@', 'tx', '3:45', 'allo', 'dat', 'otay', 'TYPR', 'waitin', 'awwwwwww', 'AFK', 'lol.', 'leakin', 'heyyyyy', 'Playstation', 'U6', 'ahhhhhh', '295', 'aim.com', 'px', 'wv', 'nite', 'latina', '65%', 'clooney', 'U29', '138', '<<<<<', 'mornin', 'UK', 'U11', 'U87', 'sexist', 'arggghhh', \"@-,'~\", 't/c', 'que', 'GNG', '55%', '16', '20', 'doupt', 'U73', '1.99', 'brooklyn', 'pervin', 'oooooooooooglyyyyyyyy', '?????????', 'concernin', 'bj', '.(..(.vMp3 v1.7.4.).)', 'U50', 'Heya', 'Chingy', '******', 'awwwwww', 'Uhh', ':@', 'internet', 'biyatch', 'bro', 'google', 'OOH', 'ny', 'ms.', 'sigur', 'Boyz', 'ghet', '/', 'wb', 'wellbutrin', 'U24', 'paitently', '...........', 'blankie', 'powter', 'mowin', 'remembah', 'depeche', 'Rofl', '!!!', 'hehehe', '((((((((((((((((((((((((', '!!!!!!!!!!!!!!!!!!!!!!!', 'Borat', 'yum', '1980', 'missin', 'wc', 'bc', 'riiiight', 'bein', 'aaahhhh', 'muhaha', 'dya', 'Okkkkkk', '9.53', 'Chica', 'sexiest', 'handyMan', 'ahhhh', 'diseast', 'nm', 'canadaian', 'hel', 'n/', 'online', 'U163', 'ky', 'donno', '-6', 'b-day', '=D', 'U172', 'Omg', 'U196', '98.5', 'GIRLS', 'U42', 'wOOt', 'yay', 'U169', 'fuck', 'meeeeeeeeeeeee', 'LuverZ', 'OC', 'raarrrrrr', 'G-Mobile', 'mami', 'U32', '!!!!!!!', '))))))))))', 'lotsa', ',,,', 'mahn', 'sunnn', '-------------', 'lolololll', 'courst', 'havin', 'PERVS', 'dahlin', 'bootay', 'U10', 'jr', 'drivin', 'shakin', 'talkcity', 'tootsie', '39.3', 'Salisbury', 'U91', 'wz', 'frst', 'Soilwork', \"shakin'\", '10', 'youre', '((((((', 'cmon', '2', 'alot', 'cali', '<,', 'ewwwww', '!.', 'ebay', 'biebsa', 'thah', 'tjhe', 'hahahahahahahahahahahahahahahaha', \"s'\", 'sp', 'gaspppp', 'beckley', '-_-', 'PmS', 'whjat', 'heyyyyyyyy', '@$$', 'youuuu', 'welome', 'ontrobution', 'U95', 'horriable', 'caint', '=(', '<3333333333333333', '*grins*', '>:->', 'mama', 'ther', '!!!.', \"shinnin'\", 't he', 'ep', 'sheesh', 'serg', '))))))))))))))', 'p u s s y', '99701', 'wahoooooooski', '(((((((((((((((((((((', '=O', 'estefan', 'U123', 'U139', 'op', \"''\", '26', 'nickleback', '37', 'heyyy', 'ltr', 'pmsl', \"makin'\", 'heee', '..........', 'nbc', 'Nadda', '68%', 'tah', 'eww', 'UFC', 'U16', 'U51', 'bbiam', 'IM', '47', 'DJ', 'bio', '224', 'hehehee', 'PDT', 'nyc', '\"?', 'U23', \"y'\", '05.', 'miiiiiiiiiiiiinnnnnnnnnnneeeeeeeeee', ':(', 'yayayayayyy', ')))))))))))))))))))', 'U64', 'ooeer', 'darlin', 'Booyah', 'London', 'cya', '77', 'U126', 'U115', 'U83', 'heyyyyyy', 'laguna', 'dryer', 'TX', 're-think', '99', 'tazzmaniane', 'moanin', 'eeww', 'Nashville', 'teo', '(((((((((((((', 'peppersteak', 'Dokken', 'anti-sexy', 'ft.', 'heyyyy', 'U104', 'pp', ')))))))))))))))))))))', 'yout', 'geesh', '43.', 'Swackhammer', 'rey', 'lmfao', 'U101', 'phylosipher', 'wuuppin', 'U122', 'Dawnstar', '93%', 'ehh', 'throught', '))))', 'vs.', 'ogan', '76%', 'jw', ':-@', 'gret', 'apoligize', 'uh', 'nuff', 'prittier', '?!?!', 'U56', 'Ico', 'comp', 'Whistlin', 'w/', 'fettish', 'U170', 'NY', 'goodnight', 'tok', 'gguyyyzzzz', 'tighty', ':O', '360', 'Hahaaaa', ',,', 'dreammm', 'thnx', 'VBox', 'SHOWS', 'tdr', 'Mom', 'wanna', 'yvw', \"e'wjfghky\", 'hom', 'ooooook', '6', \"rollin'\", 'pasa', '!!!!!!!!!!!', '<<<<,', 'dawg', 'MP3', '453', ',,,,,', 'puhleaze', 'zzzzzzzz', 'hugzzzzzzz', 'U165', 'lasts30', 'Yay', '*hugs*', 'damnit', '.).', 'dem', 'sux', '3', 'convo', '^', 'chattin', 'chica', 'pvt', 'U60', 'U84', 'eng', 'U146', 'Dr', 'akon', '(__I__)', 'psh', 'U19', 'U143', 'yeee', 'U15', 'pleez', 'dokey', 'nuttin', 'shit', 'jumpin', 'pc', 'nc', '9:10', 'nicer', 'U47', 'ohhh', 'http', 'lawl', 'Sat.', '<<<<<<<<<<<<<<', 'wiggleZ', 'Mooooooooooooooooooooooooooo', '70%', '(((((((((', 'jush', 'tryer', '. .', '<3', 'waddup', 'oldest', 'PMING', 'wansta', 'talkin', '<---', 'splelnig', 'Dipset', '1900', 'lmaooo', \"n't\", '73042', 'dunno', 'homophobic', 'FreesBee', '!!...', 'Silverstein', 'tatatatnanaantatat', '>.>', 'oooOOOOoooo', 'Ahhhh', 'ifr', 'oppertunity', 'XXXXXXXXXX', '....................', 'U12', '99703', 'eeewww', 'mmmmmmmmmmmmm', 'whewwwwww', 'PRIVMSG', 'Jeter', 'shorty', '!!!!!!!!!!!!!!!!!!!!!!!!!!!', 'byeeeeeeee', 'ontario', 'beachhhh', 'http://forums.talkcity.com/tc-adults/start ', 'heh', '92780', 'maidstone', 'ooo', 'caan', 'feet', 'playstation', 'iz', 'spain', '15', '30.00.', 'booboo', 'dojn', '\\\\', 'Temp.', 'opr', 'U72', '&^', 'hmmm', 'loc', 'omg', '1930', 'afe', 'TELLIN', 'anymore', 'dayum', 'humple', 'U158', 'tv', 'll', '=-\\\\', '2006', '14-16', 'Marlaya', 'soo', 'mmm', 'VVil', 'thx', 'rofl', 'nawp', 'whatca', '(((((((((((', '*blush*', 'uuuhhh', '57401', '<----------', '?!', 'U53', 'aiiiiiiiiiiiiiiiiiiiiiiii', 'garciae', 'hahahaHA', \"ya'\", 'Shinedown', 'llloooozzzzeeerrrrzzzzzzzzzzzzzzzzzzzzzzzzzzzzzzzzzzzzzzzzzzzzzzzzz', '280', 'recieve', '(((((((((((((((((((((((', '>>>>>>>>>>>>', '56.', '121.7', 'ahhh', 'U0', '####', 'plz', '25', 'burger', 'sheesin', '!', '59%', 'Daveeee', 'TY', 'grea', 'newp', '-->', 'knockin', ')))))))))))', 'plently', 'brbbb', '???', '((((((((', 'heyyyyyyyyyyyyyy', 'U98', 'declaw', 'OOPS', 'normy', 't/y', 'U154', 'fck', 'sweeeeeeeeet', '46', 'Roadrunner', 'fart', 'U5', '59', 'Nooo', 'askin', 'email', 'mmmmmmmmmmmmmm', 'rumour', 'hhehe', 'children', 'un-freeze', 'coolcat', 'hawT', 'evah', 'U43', '49', 'hehehehe', 'gm', 'U57', 'hoo', 'dik', '2DAY', 'Hott', 'goodbye', 'chanowner', 'conway', 'lez', 'bi', 'veg', '((((((((((', 'chineese', 'comin', 'AKDT', 'YALL', 'orta', 'WANNA', 'tthe', 'hahaaa', 'asshole', '????', 'sexcite', 'appologize', 'deeper', \"doin'\", 'sumfin', 'cnnecticut', 'hawaii', 'NTMN', 'shouldve', 'cuz', 'yw', '11', 'fongul', 'aligator', 't-shirt', 'de-tubetop', 'az', 'icky', 'cyb3r-lover', 'helloooo', '9', 'elo', 'grrl', 'non-smoker', 'purty', '1299', 'burpin', '90', '!!!!!!', '33', 'mmhmm', 'chanop', 'hmmmmmmmm', 'Metallica', 'Joshy', 'hii', 'brrrrrrr', '(((', 'JRZ', '579', 'hiiii', 'co', 'outa', 'sesky', 'fella', 'mornign', ':beer:', 'ridem', 'byeee', '41', 'scuk', 'soakin', '~winkZ~', 'U69', 'U25', '))))))))))))))))))))))', 'EST', 'U14', 'twoel', 'worl', '!!!!', 'com', '<-', 'O.K', 'ohhhhhh', '.......', 'hmmmmmmmmmm', \"'ve\", 'Chamillionaire', '57', 'ol', 'kc', 'hohohohhohhoo', 'pleaseeeee', 'happpy', 'j/k', 'bf', 'gentlemen', 'uk', 'yada', 'U132', 'sowwy', 'hr', 'affari', 'haaa', 'nyone', '.owner.', 'hahahahaaa', 'n\"t', 'U71', 'martini', 'hiii', 'U181', '14', 'aloha', 'withdrawl', ':tongue:', 'paypal', 'hix', 'goddamn', 'superhiway', 'hiya', 'Ooo', 'roomate', 'anyyyyyyyyyyyyyyyyy', '.........', 'muahzzzz', 'onuimso', 'awww', 'U113', 'Ive', \"'m\", '~', 'lmaoo', 'ewww', '?..', 'hottie', 'U13', '6:41', '(((((((((((((((', 'chatr', 'Lousiana', 'WEEEEEEEEEEEEEEEEEE', 'U155', 'babay', 'knw', 'pfft', 'U22', 'raaaaaaaaaaaaaaaaaaaaaaaaaaaaa', '*VBS*', 'sevendust', 'cookie', 'wisconsin', 'wooooooooooooohoooooooooooooooo', '7', 'subsitute', '//www.wunderground.com/cgi-bin/findweather/getForecast?query=95953#FIR', 'fetterline', 'johny', 'Salut', 'combo', '<333', 'poorrr', 'pm', 'U26', 'ohwa', 'use full', 'goin', 'U67', 'salsa', '28', '=p', 'okey', '2:55', 'aTerry', 'humm', '.:', 'magine', 'FF', 'w/b', 'awwww', 'tooo', 'seminilla', 'niteeeeeeeeeeeeeeeeeee', 'typin', '38', 'cyb3r', '(((((((((((((((((((((((((', 'senor', 'U819', 'z-ro', '###', 'U130', 'capab;e', 'peolpe', 'hav', '1985', 'U190', '>', 'U85', '??', 'U1', 'U63', 'sicily', 'noooooooooooooo', 'KoOL', '*WOW*', 'Tyrese', '69', 'teehee', \"cyberin'\", '))))))))))))))))))))))))))))', 'COM', '20S', 'meyooky', 'U65', 'U3', 'O.o', '<33333', 'nicname', 'U66', 'specalily', '!???', 'ja', 'mmmmm', 'U137', 'ahah', 'va', '\"...', 'ty', '29803', 'xcitable', 'U102', 'U108', 'canadain', 'ballin', 'atl', 'oi', 'BLONDES', '........................', 'Ahh', 'eitther', 'standin', 'shhhh', 'meredith', 'benz', 'U116', 'U7', '..................', 'Laguna', 'omggg', 'downnnnnn', 'LONLEY', 'CAPS', 'gtg', 'futurama', '0', 'waaa', 'ooh', 'outta', '4', 'U988', 'CO', 'Indiantown', 'wowsa', 'beuty', '30', 'laptop', 'screamo', 'nothin', 'doin', 'driveby', 'elbowS', '(', 'PS', 'RULES', \"'ello\", 'nj', '<<<<<<<', 'hheeyy', 'wher', 'checkin', 'lucifuge', 'btw', 'Wtf', 'cusion', 'vm', 'babblein', 'Jonesboro', 'woooohoooo', 'boooooooooooglyyyyyy', 'kewl', 'quistion', 'muahhhhh', 'suree', 'O.k.', 'QQ', 'Hahhaa', '??@', 'kennedy', 'd=', 'ughhh', '((((((((((((((((((', 'mmmmmmmmmm', \"talkin'\", '<<', '4.20', '60', 'buh', 'beleive', 'lamborghini', 'whoaaaaaaaaaaaa', 'U97', 'Rothlisburger', 'soory', '?....', '8', 'completly', 'oo', '............', '??????', 'msn', '.)', '*smewchies*', 'heyy', 'Fergie', 'jackie', 'ltnc', 'walderslade', 'brwn', 'sincy', '<33', 'mofo', 'scusezzy', '>>>>>>>>>>>', 'ewwwwww', 'unisom', 'reunion.', 'huuuuuuuuuuuuuuuuuuuuuuuuuuuuuuuuuuugZ', 'kiddin', 'sum1', 'ovr', 'e-mail', '........', '20.', '..(..', 'cooooooooookiiiiiiiiiiiieeeeeeeeeeee', 'rotflmao', 'sexi', '. . .', 'pssst', 'este', 'ohhhh', 'fawk', 'nodda', 'yello', 'stinky', 'eeewwwwww', '.(.', 'theere', 'Ty', 'suprise', ':love:', 'scuba', '&', 'U1370', '75%', 'S.M.R.', 'U74', 'gurrrrl', 'Hmm', 'U145', 'yepper', 'moanz', 'sleepin', 'fishercat', 'evertonr', 'cepn', 'boght', 'Aww', 'cyber.', 'isnt', 'sorta', 'webcam', 'yuuuuuuuuuuuummmmmmmmmmmm', ';-(', 'gotaa', '$', 'pppppppppppew', 'U520', '85%', 'gn', 'Biiiiiitch', 'heeheeheeheeheehee', 'Hallo', 'ryaon', '3~<-..4@.', 'ahhhhhhhhhhhhhh', 'chp', 'weeeeeeeee', 'sox', '80', 'U175', 'jajajaaa', 'U148', 'U121', 'wed-lock', 'U75', 'redneck', 'Bwhaha', 'thot', 'U27', 'awwwwwwwwww', 'gurlie', 'tlak', 'buddyyyyyy', 'oatmel', '23', 'HOTT', 'xxxxxx', 'thje', '46.', 'Jordison', 'alterz', 'lala', 'gettysburg', 'lil', ';)', '100%', '<empty>', 'fawker', 'illin', 'teh', 'wif', 'U28', '???????', ':.', ':-)', 'wazz', 'oot', '247', 'Nooooooooooooooo', 'splenda', 'ooer', 'ohhhhhhhhhhhhhhhh', 'U30', ')))))))))', 'Elev', '=)', 'FL', 'xbox', '56', '6:51', 'chococake', 'neysa', 'owww', 'hahahhahah', 'choc', 'placce', 'gooo', 'y/w', 'prrty', '<33333333333333333', '-(', 'realise', 'mame', 'freeezinggggg', 'AOL.COM', 'LMAO', 'CST', 'tryina', 'hiom', 'goodie', 'hertory', ',,,,', 'heeeey', 'o.O', 'whou', 'hb', 'johnson', 'exwife', 'holdin', 'hahahahahahaha', 'hendrix', 'geeze', 'o_0', 'aynawy', ';p', 'o.o', 'tennesee', 'Wyte', 'netflix', '?!?!?', 'U110', 'sooo', 'ooooooo', 'k-mart', 'loveliest', 'receprion', 'lambergini', 'waht', '1200', 'cho-co-late', 'bigest', 'Catterick', 'mm', 'HolocaustYourMom', 'yup', 'fraggle', 'Wellbutrin', '~smirkZ~', 'tommorrow', '))))))))', 'Zoloft', '?????', 'myspace.com', \"c'm\", 'Wisconsin', 'heheh', '30.', '((((((((((((((((((((((((((', 'ahahah', '!!!!!!.', 'lllllllliiiiiiiiiikeee', 'hheeyyy', '!!!!!!!!', 'eay', '!...', 'woot', 'www.Wunderground.com', \"N'T\", 'creme', 'paxil', 'wahoooooooo', 'wooo', 'ltnsea', '93', '...................', '; ..', 'DOWNS', ':/', 'U44', 'playin', '`', 'thru', 'kool', 'U49', '55.', '13', 'byeeee', 'U21', 'geeshhh', 'rarly', '????????', 'everbody', 'U219', 'PMSL', '=', 'thang', 'nooooo', 'homeade', '=/', '!?', \"'\", 'italy', 'usa', 'laughin', 'fallout', 'umm', 'MD', 'Horace', 'youer', ':P', 'U62', 'NC', 'lovin', 'brady', '~blusherZ~', 'beeehave', 'U109', '<<<', ')))))))))))))', 'aqwesome', 'sw', 'tenn', 'WTF', 'im', 'OMG', '73%', 'Cheeeez', 'wiltou', '..', 'boi', 'U147', '64.8', 'U989', 'ck', 'whoopZ', 'Children', 'foreplay', 'Ohh', 'controllin', 'birfday', '<333333333', 'tennessee', '=[', 'U119', 'dork', 'oOo', 'coffe', 'U34', 'bumber', 'Seee', 'alohaaa', 'lolol', 'denzel', 'nada', ':D', '6:38', 'sullivan', 'lix', 'hPa', 'U82', 'Heyyyyyyy', 'U142', 'Denver', 'bak', 'AHHAH', 'comprende', 'oooooooooooo', 'fav', 'anythin', '......', 'software', 'U128', 'noooooooooo', 'U2', 'bitdh', 'abou', 'anygirl', 'lmaooooo', 'WHISPre', 'Hummmm', 'sleep over', 'waz', '--------------------', '.(..(.vMp3 vi.p.t.)..).', 'wheeeeeeeeeeeeeeeeeeeeeeeeeeeeeeeeee', 'strickly', 'aok', 'Ridin', 'wooooohoooo', \"'re\", 'nickelback', 'Heyyy', 'wanan', 'nce', 'bachelorette', '!!', 'lb', 'e-bay', '34', 'akron', 'LOVES', 'U9', 'nah', 'gettin', 'problemo', 'hahah', '+', 'kong', 'ewwwwwww', 'blowjob', \"sayin'\", 'balck', 'U46', '<3333', '>?', 'goodnite', 'Okay', 'fallz', 'grrrrrrrr', 'mmmmk', '!!!!!!!!!', '<<<<<<', 'wothough', 'satisfie', ';]', '-...)...-', '29', 'ahh', 'HAHA', '^^', 'stron', 'whooo', '~!', '1', 'controll', 'gf', 'ono', \"ol'\", 'Gracemont', ':)', 'mmmomom', 'laffin', ';0', 'gaaaaaaay', 'byb', 'AHAHH', '+*+*+*+*', 'gettign', '1-900-anal-sex', 'U100', 'Eticket', 'U118', 'gotta', '31', 'appologise', 'Tennessee', 'dsklgjsdk', 'Heyy', 'Mmm', 'gezzz', '.45', 'IRC', '4:03', 'e-v-e-r-y', 'Maidstone', 'innit', 'U36', 'hiy', 'urself', 'louisianna', 'mmmm', '//', 'thinkin', 'trippy', 'duh', 'Niceeeee', 'biatch', 'hott', 'coudl', ']]]]]]]]]]]]]]]]]]]]]', 'Barbieee', 'Kittie', ':p', 'hmmmmm', '50', 'U92', '!??', '1012.', 'perv', 'whhhooooo', 'pro-se', 'P.ussy', 'despie', 'Screach', 'U79', 'o_O', 'U41', 'gritt', 'hafta', 'hearin', '1996', 'HHEEYYYYYYYYYYYYYYYYYYYYYYYYYYYYYYYYYYYYYYYYYYYYYYY', '!!!!!!!!!!!!!!!!!!!!!!', 'totaly', '35', 'watchin', '<<<<<<,', 'tc', 'whatcha', 'chik', 'riiiiight', 'U39', 'Permenant', 'Haha', 'yessum', 'U90', 'manson', '<', 'o.0', 'cpr', '$27', 'rapest', 'fock', 'appleton', 'Uhhh', 'U18', 'hmph', 'yall', 'http://www.shadowbots.com', 'ooperative', 'win win', 'PM', '(((((', 'nevah', 'gottsa', 'LIX', 'fishin', 'ft', 'anytime', 'awrighty', 'neone', 'excuuuuuuse', 'pokin', 'wonderin', 'lookin', '*sniffs*', 'o0', 'congrat', 'Yoko', 'copone', 'Lmfao', 'Shaneeeeeeeee', 'infor', 'AHAHHA', '))))))))))))', \"'n'\", 'weeeeeeeeeeeeeeee', 'CHATHIDE', 'Ctrl', '423', 'hahaha', 'roleplay', 'j/p', 'Jayse', \"'ll\", 'chatt', 'uffff', 'sldfjlsdf', '47.', 'seconds.', '-17', 'Whitesnake', 'hawt', '28147', '--------->', 'Ummm', 'asnwer', 'bloe', 'puter', '((((((((((((', 'N\"T', '(.', '!!!!!!!!!!!!!!!!!!!!!!!!!!!!', 'Hiya', ',,,,,,,', 'beeeeehave', 'wana', 'U134', 'tellin', 'geeZe', ')?', 'Im', 'themself', '(((((((((((((((((', 'heya', 'perth', 'tere', 'Uh', 'b/c', 'macho', '51', 'hgfhgfjgf', 'U8', 'il', 'grrrrrrrrrrrrrrrrr', 'f.b.i.', 'hmmmm', '((((((((((((((((((((', 'U103', 'diggin', '.A.n.a.c.?.n.?.a.', 'blew', 'dotn', '*waves*', '39', 'CT', 'enuff', 'Awww', 'nawwww', '.............', 'guyz', 'Aiken', 'whitte', 'descriminate', '55', '21', '22', 'goneee', 'sayn', 'ummm', 'Everytime', 'CUZ', 'hahahaa', 'flippin', '27', 'imma', 'prono', 'nauty', 'wantin', 'walmart', 'U17', 'woooooooooaaaahhhhhhhhhhhh', 'dangit', 'aww', 'seeee', 'Mp3', 'Froogle', 'samn', 'appearently', \"pm'n\", 'shup', 'USA', 'Paxil', 'poeple', 'armtnpeat', '??!?!??!', 'coem', 'U96', 'hola', 'U105', 'Louisville', 'co-op', 'thanx', 'b4', '8082653953', 'Lmao', 'Russion', 'Shakin', 'Nickelback', 'Whaaa', 'n e', 'adreniline', 'geeshh', 'fkajslf', 'lthen', 'mspace', 'hhaaaaatttee', 'smallfry', 'U133', 'ive', '12%', '..............................', 'asl', 'welll', 'JTo', 'imhave', 'DETROIT', 'U80', '( o Y o )', 'U35', 'moochhhhhhhhh', 'schlep', 'fillin', \"g'\", 'petanmart', 'Yarrrr', 'sry', 'sweetshybbw', 'U70', 'qwertyuiop', 'U164', '!=', 'contast', 'yesh', 'fuddahnut', 'chatroom', 'DVD', 'wearin', 'hopin', 'ewwww', 'LOL', ')))))))))))))))))', '33982', 'BAAAAALLLLLLLLIIIIIIINNNNNNNNNNN', '(*&(^', 'wtf', 'hahahaha', 'mp3', 'nakie', '75', '100', 'sf', 'U150', 'yooou', '!!!!!!!!!!!!!!!!!!!!!!!!!!!!!!!!!!!!!!!!!!!!!!!!!!!!!!', '[[[[[[[[[[[[[[[[[[', 'women', 'movin', 'porn', 'freeeezinggg', 'aaaaaaaaaaaaaaaaa', 'lamborgini', 'U54', '300', 'HAHAHA', 'coonarsee', 'Niceeee', 'LOl', 'idnt', '!!!!!.', '-stay-', 'T-Mobile', '10:49', 'url', 'heyheyhey', 'ROFL', 'CALI', 'sammich', 'erm', 'any1', '!!!!!!!!!!!!!', '<----', 'mikeeeeeeeeeeeeeeeeeeeeeeeeee', 'polllution', 'freakin', '45.5', 'U45', 'U86', 'blech', 'comon', 'Kewl', '--', 'douchebag', 'Wowsa', 'luv', 'U33', ',,,,,,,,,,,', '....', 'cyber', 'woah', 'definately', ')))))))', \"@..3-,'~.\", 'Rutger', 'born-again', 'lool', 'hmmmmmmm', '((((', 'o0o', 'darwin', 'o.k.', 'mmmmmm', 'ps2', ':o *', 'ladz', 'robbie', 'hahahah', 'CDT', 'out.', ':):):)', 'o<|=D', '818', 'mmmkay', 'wasup', 'harley', 'IL', 'sleepover', 'bwahahahahahahahahahaha', 'halfa', 'Ontario', 'U168', '.;)', 'syck', '<perk>', '396', 'Vroooom', 'GrlZ', 'tooooooooooo', 'azerbaijan', '12', '92129', 'byeeeeeeeeeeeee', ';-)', 'Lol', 'miiiiiinnnnnnnnnneeeeeeee', 'telllin', 'lmaoooo', 'yes.', 'nz', '!!!!!', 'bbl', 'nic', 'Wb', '!!.', '18', 'fer', ':]', 'backatchya', 'edmonton', 'heyyyyyyyyyy', 'eeekk', 'hih', '.....', 'match.', 'U4', 'SYNDORME', 'jerimiah', 'eroticaust', 'U76', 'SINGLEEEEEEEE', 'oO', 'eeeek', 'U68', 'dunkin', 'alotta', 'Ciara', 'heyyyyyyyyy', '5', 'F5', 'msg', 'kneez', 'vuela', 'Muahz', '\\\\ty', 'myspace', 'lurkin', 'agaibn', '1016.', 'muahhh', '98.6', 'hyy', 'GN', 'respec', 'offa', 'Connecticutt', '?.', 'callifornia', 'U48', 'grrrrrrrrr', 'gente', 'Ohhh', 'shoppin', 'Zyban', 'reschedual', '*', 'pr', 'tryin', \"?'\", 'U89', 'Meh', 'FOLKS', 'grrr', 'wel', 'nebraska', 'o/~', 'U81', 'lixxx', 'vetrabrate', ':-o', 'doublewide', ',', 'estra', 'f.', 'U120', 'oooh', 'dman', 'Tisk', 'gamefly']\n"
     ]
    }
   ],
   "source": [
    "print(raw_list_2)"
   ]
  },
  {
   "cell_type": "code",
   "execution_count": 36,
   "metadata": {
    "collapsed": true
   },
   "outputs": [],
   "source": [
    "# Now we will deal with numbers and signs, we don't consider pure numbers and percentage as unusual words.\n",
    "number_list = ['1','2','3','4','5','6','7','8','9','0']\n",
    "sign_list = ['$',':','.','%',')','(','?','!','<','>','-',',','~','#','^','&','*','+','^','\"','=','[','`',']',';','/',' ','_','@','|','\\'','\\\\']\n",
    "meaningless_list = []\n",
    "raw_list_3 = []"
   ]
  },
  {
   "cell_type": "code",
   "execution_count": 37,
   "metadata": {
    "collapsed": false
   },
   "outputs": [],
   "source": [
    "for element in raw_list_2:\n",
    "    for char in element:\n",
    "        if char not in number_list and char not in sign_list:\n",
    "            raw_list_3.append(element)\n",
    "            break\n",
    "    else:\n",
    "        meaningless_list.append(element)"
   ]
  },
  {
   "cell_type": "code",
   "execution_count": 38,
   "metadata": {
    "collapsed": false
   },
   "outputs": [
    {
     "name": "stdout",
     "output_type": "stream",
     "text": [
      "['', '36', '.', '220', '<<<<', '>.>->', ':', '<--', '=]', ')', ')))))', '6:53', '-', '3333333', '246', '!!!!!!!!!!!!!!!!', '.. .', '<~~~', '95953', '!!!!!!!!!!', ';', ')))))))))))))))', '29.88.', '??!!', '(((((..', '(((((((', '32', ']:)', '7:45', '((((((((((((((', '++', '16.', '#', ')))', '...', '19', '>_>', '$$', '................', '1.98', \"'.\", '\"', '102.6', '53', '. ...', '^^^', '!!!!....', '45', ':-(', '_', '147.7', '-21', '06.', '185', '17', '>>>', '43', '700', ')))))))))))))))))))))))))))))))', '24', '^_^', '2.3', '>>>>>>>>>>', ':|', '?', '@', '3:45', '295', '65%', '138', '<<<<<', \"@-,'~\", '55%', '16', '20', '1.99', '?????????', '******', ':@', '/', '...........', '!!!', '((((((((((((((((((((((((', '!!!!!!!!!!!!!!!!!!!!!!!', '1980', '9.53', '-6', '98.5', '!!!!!!!', '))))))))))', ',,,', '-------------', '39.3', '10', '((((((', '2', '<,', '!.', '-_-', '@$$', '=(', '<3333333333333333', '>:->', '!!!.', '))))))))))))))', '99701', '(((((((((((((((((((((', \"''\", '26', '37', '..........', '68%', '47', '224', '\"?', '05.', ':(', ')))))))))))))))))))', '77', '99', '(((((((((((((', ')))))))))))))))))))))', '43.', '93%', '))))', '76%', ':-@', '?!?!', '360', ',,', '6', '!!!!!!!!!!!', '<<<<,', '453', ',,,,,', '.).', '3', '^', '9:10', '<<<<<<<<<<<<<<', '70%', '(((((((((', '. .', '<3', '<---', '1900', '73042', '!!...', '>.>', '....................', '99703', '!!!!!!!!!!!!!!!!!!!!!!!!!!!', '92780', '15', '30.00.', '\\\\', '&^', '1930', '=-\\\\', '2006', '14-16', '(((((((((((', '57401', '<----------', '?!', '280', '(((((((((((((((((((((((', '>>>>>>>>>>>>', '56.', '121.7', '####', '25', '!', '59%', '-->', ')))))))))))', '???', '((((((((', '46', '59', '49', '((((((((((', '????', '11', '9', '1299', '90', '!!!!!!', '33', '(((', '579', '41', '))))))))))))))))))))))', '!!!!', '<-', '.......', '57', '14', '.........', '~', '?..', '6:41', '(((((((((((((((', '7', '<333', '28', '2:55', '.:', '38', '(((((((((((((((((((((((((', '###', '1985', '>', '??', '69', '))))))))))))))))))))))))))))', '<33333', '!???', '\"...', '29803', '........................', '..................', '0', '4', '30', '(', '<<<<<<<', '??@', '((((((((((((((((((', '<<', '4.20', '60', '?....', '8', '............', '??????', '.)', '<33', '>>>>>>>>>>>', '........', '20.', '..(..', '. . .', '.(.', '&', '75%', ';-(', '$', '85%', '3~<-..4@.', '80', '23', '46.', ';)', '100%', '???????', ':.', ':-)', '247', ')))))))))', '=)', '56', '6:51', '<33333333333333333', '-(', ',,,,', '?!?!?', '1200', '))))))))', '?????', '30.', '((((((((((((((((((((((((((', '!!!!!!.', '!!!!!!!!', '!...', '93', '...................', '; ..', ':/', '`', '55.', '13', '????????', '=', '=/', '!?', \"'\", '<<<', ')))))))))))))', '73%', '..', '64.8', '<333333333', '=[', '6:38', '......', '--------------------', '!!', '34', '+', '<3333', '>?', '!!!!!!!!!', '<<<<<<', ';]', '-...)...-', '29', '^^', '~!', '1', ':)', ';0', '+*+*+*+*', '31', '.45', '4:03', '//', ']]]]]]]]]]]]]]]]]]]]]', '50', '!??', '1012.', '1996', '!!!!!!!!!!!!!!!!!!!!!!', '35', '<<<<<<,', '<', '$27', '(((((', '))))))))))))', '423', '47.', '-17', '28147', '--------->', '((((((((((((', '(.', '!!!!!!!!!!!!!!!!!!!!!!!!!!!!', ',,,,,,,', ')?', '(((((((((((((((((', '51', '((((((((((((((((((((', '39', '.............', '55', '21', '22', '27', '??!?!??!', '8082653953', '12%', '..............................', '!=', ')))))))))))))))))', '33982', '(*&(^', '75', '100', '!!!!!!!!!!!!!!!!!!!!!!!!!!!!!!!!!!!!!!!!!!!!!!!!!!!!!!', '[[[[[[[[[[[[[[[[[[', '300', '!!!!!.', '10:49', '!!!!!!!!!!!!!', '<----', '45.5', '--', ',,,,,,,,,,,', '....', ')))))))', \"@..3-,'~.\", '((((', ':):):)', '818', '.;)', '396', '12', '92129', ';-)', '!!!!!', '!!.', '18', ':]', '.....', '5', '1016.', '98.6', '?.', '*', \"?'\", ',']\n"
     ]
    }
   ],
   "source": [
    "print(meaningless_list)"
   ]
  },
  {
   "cell_type": "code",
   "execution_count": 39,
   "metadata": {
    "collapsed": false
   },
   "outputs": [
    {
     "name": "stdout",
     "output_type": "stream",
     "text": [
      "1618\n",
      "['peace-and-quiet', 'iamahotniplickme', 'computor', 'noo', 'kmph', 'lysol', 'headach', 'U111', 'fl', 'naughtier', 'misbeahve', 'muahz', 'pweeze', \"scrollin'\", 'jk', 'mena', 'kinda', 'Burger', 'pedofile', 'yoko', 'giva', 'LOUDER', 'bbbbbyyyyyyyeeeeeeeee', 'yu', 'muh', 'hgey', 'dr', '.op.', 'hmm', 'mom', 'smarter', 'seee', 'detroit', 'hm', 'dummmm', '*drools*', 'moonie', 'co op', 'II', 'U52', 'invisiable', 'Lampert', 'noth', 'hio', 'tacoma', 'TC', 'U114', 'fucker', 'frm', 'RI', 'LOLOLOLLL', 'Oy', 'xD', 'cool1024', 'eeek', 'U153', 'S3x0r', 'U156', 'n.n', 'MsUtah', 'eeeeeeeeewwwwwwww', 'lavendar', 'ussy', 'U144', 'me/', 'irl', 'U149', '*spank*', 'GUYS', 'Birdgang', \"miss'n\", 'backroom', 'lesbo', 'U59', 'muzak', 'lmao', 'LPN', 'biiiatch', 'caiuse', 'MSN', \"passin'\", 'trippin', 'definitley', 'errrrr', 'wrek', 'afk', 'bandito', 'guyzz', 'YaY', 'awesomee', 'bahahahaa', 'couldnt', 'In.', 'Ct', \"mf'er\", 'livin', 'chcken', \"stuffin'\", 'mhm', 'hang', 'tyvm', 'adduser', 'U820', 'U78', 'LoL', '2Pac', 'Dr.', 'every1', 'U58', 'dj', 'tonawanda', 'CSI', 'u550436035', 'tisk', 'prolly', 'thristy', 'U99', 'ldskdlsf', 'hangin', 'ohh', 'deop', 'H0rny', 'femine', 'ciao', 'du', 'offence', 'doody', 'yoder', 'U138', 'norny', 'U106', 'ahhahahaha', 'deleware', 'dontcha', 'youuu', 'gayoholic', 'bacl', 'iamahotnip', 'mcgraw', 'awsome', 'Ack', 'hooo', 'OOooOO', 'Post-haste', 'P.', 'hooooo', 'U542', 'heeee', 'MUAH', 'mauh', 'gonna', 'chocha', 'ppolitical', 'burito', 'plenaty', 'Gorda', '18ST', 'shaun', 'innocense', '-o', 'hahahahahaha', 'yoll', 'U117', 'nakey', 'U112', ':blush:', 'reallly', 'sdlfkjsj', 'sumpin', 'U197', 'smirkz', 'argh', 'Liam', 'howz', '10th', 'aime', 'Pullin', 'U88', 'e1', 'lol', 'U107', 'actualy', 'U61', 'ello', 'enuf', 'cho-co-la-te', 'U40', 'U38', 'n;t', 'bandsaw', 'owuldnt', 'Yeh', 'smax', 'dyslexic', 'metallica', 'dl', 'fuckin', 'mmmmmmmmiiiiiiiiinnnnnnnnneeeeeeee', 'geessh', 'U141', 'sucka', 'Meep', 'excitin', 'hissy', 'hx', 'Lil', 'dirrrrty', 'lucy-fur', 'listenin', 'PayPal', 'lyin', 'okay', 'U20', 'U37', 'itz', 'othah', 'everone', 'U31', 'Foley', 'pssssh', 'DAamn', 'febe', 'brb', 'haha', 'U129', 'hahhahahaha', 'Cyber', 'AKST', 'yerself', 'SSRI', 'ppl', 'tounge', 'Ahhh', 'pffft', 'coggieeee', 'wth', 'U136', 'kev', 'n9ne', 'spose', 'soojn', 'U55', 'mkay', 'barbie', 'yoooou', 'CanEhda', 'no-no', 'goooooo', 'tx', 'allo', 'dat', 'otay', 'TYPR', 'waitin', 'awwwwwww', 'AFK', 'lol.', 'leakin', 'heyyyyy', 'Playstation', 'U6', 'ahhhhhh', 'aim.com', 'px', 'wv', 'nite', 'latina', 'clooney', 'U29', 'mornin', 'UK', 'U11', 'U87', 'sexist', 'arggghhh', 't/c', 'que', 'GNG', 'doupt', 'U73', 'brooklyn', 'pervin', 'oooooooooooglyyyyyyyy', 'concernin', 'bj', '.(..(.vMp3 v1.7.4.).)', 'U50', 'Heya', 'Chingy', 'awwwwww', 'Uhh', 'internet', 'biyatch', 'bro', 'google', 'OOH', 'ny', 'ms.', 'sigur', 'Boyz', 'ghet', 'wb', 'wellbutrin', 'U24', 'paitently', 'blankie', 'powter', 'mowin', 'remembah', 'depeche', 'Rofl', 'hehehe', 'Borat', 'yum', 'missin', 'wc', 'bc', 'riiiight', 'bein', 'aaahhhh', 'muhaha', 'dya', 'Okkkkkk', 'Chica', 'sexiest', 'handyMan', 'ahhhh', 'diseast', 'nm', 'canadaian', 'hel', 'n/', 'online', 'U163', 'ky', 'donno', 'b-day', '=D', 'U172', 'Omg', 'U196', 'GIRLS', 'U42', 'wOOt', 'yay', 'U169', 'fuck', 'meeeeeeeeeeeee', 'LuverZ', 'OC', 'raarrrrrr', 'G-Mobile', 'mami', 'U32', 'lotsa', 'mahn', 'sunnn', 'lolololll', 'courst', 'havin', 'PERVS', 'dahlin', 'bootay', 'U10', 'jr', 'drivin', 'shakin', 'talkcity', 'tootsie', 'Salisbury', 'U91', 'wz', 'frst', 'Soilwork', \"shakin'\", 'youre', 'cmon', 'alot', 'cali', 'ewwwww', 'ebay', 'biebsa', 'thah', 'tjhe', 'hahahahahahahahahahahahahahahaha', \"s'\", 'sp', 'gaspppp', 'beckley', 'PmS', 'whjat', 'heyyyyyyyy', 'youuuu', 'welome', 'ontrobution', 'U95', 'horriable', 'caint', '*grins*', 'mama', 'ther', \"shinnin'\", 't he', 'ep', 'sheesh', 'serg', 'p u s s y', 'wahoooooooski', '=O', 'estefan', 'U123', 'U139', 'op', 'nickleback', 'heyyy', 'ltr', 'pmsl', \"makin'\", 'heee', 'nbc', 'Nadda', 'tah', 'eww', 'UFC', 'U16', 'U51', 'bbiam', 'IM', 'DJ', 'bio', 'hehehee', 'PDT', 'nyc', 'U23', \"y'\", 'miiiiiiiiiiiiinnnnnnnnnnneeeeeeeeee', 'yayayayayyy', 'U64', 'ooeer', 'darlin', 'Booyah', 'London', 'cya', 'U126', 'U115', 'U83', 'heyyyyyy', 'laguna', 'dryer', 'TX', 're-think', 'tazzmaniane', 'moanin', 'eeww', 'Nashville', 'teo', 'peppersteak', 'Dokken', 'anti-sexy', 'ft.', 'heyyyy', 'U104', 'pp', 'yout', 'geesh', 'Swackhammer', 'rey', 'lmfao', 'U101', 'phylosipher', 'wuuppin', 'U122', 'Dawnstar', 'ehh', 'throught', 'vs.', 'ogan', 'jw', 'gret', 'apoligize', 'uh', 'nuff', 'prittier', 'U56', 'Ico', 'comp', 'Whistlin', 'w/', 'fettish', 'U170', 'NY', 'goodnight', 'tok', 'gguyyyzzzz', 'tighty', ':O', 'Hahaaaa', 'dreammm', 'thnx', 'VBox', 'SHOWS', 'tdr', 'Mom', 'wanna', 'yvw', \"e'wjfghky\", 'hom', 'ooooook', \"rollin'\", 'pasa', 'dawg', 'MP3', 'puhleaze', 'zzzzzzzz', 'hugzzzzzzz', 'U165', 'lasts30', 'Yay', '*hugs*', 'damnit', 'dem', 'sux', 'convo', 'chattin', 'chica', 'pvt', 'U60', 'U84', 'eng', 'U146', 'Dr', 'akon', '(__I__)', 'psh', 'U19', 'U143', 'yeee', 'U15', 'pleez', 'dokey', 'nuttin', 'shit', 'jumpin', 'pc', 'nc', 'nicer', 'U47', 'ohhh', 'http', 'lawl', 'Sat.', 'wiggleZ', 'Mooooooooooooooooooooooooooo', 'jush', 'tryer', 'waddup', 'oldest', 'PMING', 'wansta', 'talkin', 'splelnig', 'Dipset', 'lmaooo', \"n't\", 'dunno', 'homophobic', 'FreesBee', 'Silverstein', 'tatatatnanaantatat', 'oooOOOOoooo', 'Ahhhh', 'ifr', 'oppertunity', 'XXXXXXXXXX', 'U12', 'eeewww', 'mmmmmmmmmmmmm', 'whewwwwww', 'PRIVMSG', 'Jeter', 'shorty', 'byeeeeeeee', 'ontario', 'beachhhh', 'http://forums.talkcity.com/tc-adults/start ', 'heh', 'maidstone', 'ooo', 'caan', 'feet', 'playstation', 'iz', 'spain', 'booboo', 'dojn', 'Temp.', 'opr', 'U72', 'hmmm', 'loc', 'omg', 'afe', 'TELLIN', 'anymore', 'dayum', 'humple', 'U158', 'tv', 'll', 'Marlaya', 'soo', 'mmm', 'VVil', 'thx', 'rofl', 'nawp', 'whatca', '*blush*', 'uuuhhh', 'U53', 'aiiiiiiiiiiiiiiiiiiiiiiii', 'garciae', 'hahahaHA', \"ya'\", 'Shinedown', 'llloooozzzzeeerrrrzzzzzzzzzzzzzzzzzzzzzzzzzzzzzzzzzzzzzzzzzzzzzzzzz', 'recieve', 'ahhh', 'U0', 'plz', 'burger', 'sheesin', 'Daveeee', 'TY', 'grea', 'newp', 'knockin', 'plently', 'brbbb', 'heyyyyyyyyyyyyyy', 'U98', 'declaw', 'OOPS', 'normy', 't/y', 'U154', 'fck', 'sweeeeeeeeet', 'Roadrunner', 'fart', 'U5', 'Nooo', 'askin', 'email', 'mmmmmmmmmmmmmm', 'rumour', 'hhehe', 'children', 'un-freeze', 'coolcat', 'hawT', 'evah', 'U43', 'hehehehe', 'gm', 'U57', 'hoo', 'dik', '2DAY', 'Hott', 'goodbye', 'chanowner', 'conway', 'lez', 'bi', 'veg', 'chineese', 'comin', 'AKDT', 'YALL', 'orta', 'WANNA', 'tthe', 'hahaaa', 'asshole', 'sexcite', 'appologize', 'deeper', \"doin'\", 'sumfin', 'cnnecticut', 'hawaii', 'NTMN', 'shouldve', 'cuz', 'yw', 'fongul', 'aligator', 't-shirt', 'de-tubetop', 'az', 'icky', 'cyb3r-lover', 'helloooo', 'elo', 'grrl', 'non-smoker', 'purty', 'burpin', 'mmhmm', 'chanop', 'hmmmmmmmm', 'Metallica', 'Joshy', 'hii', 'brrrrrrr', 'JRZ', 'hiiii', 'co', 'outa', 'sesky', 'fella', 'mornign', ':beer:', 'ridem', 'byeee', 'scuk', 'soakin', '~winkZ~', 'U69', 'U25', 'EST', 'U14', 'twoel', 'worl', 'com', 'O.K', 'ohhhhhh', 'hmmmmmmmmmm', \"'ve\", 'Chamillionaire', 'ol', 'kc', 'hohohohhohhoo', 'pleaseeeee', 'happpy', 'j/k', 'bf', 'gentlemen', 'uk', 'yada', 'U132', 'sowwy', 'hr', 'affari', 'haaa', 'nyone', '.owner.', 'hahahahaaa', 'n\"t', 'U71', 'martini', 'hiii', 'U181', 'aloha', 'withdrawl', ':tongue:', 'paypal', 'hix', 'goddamn', 'superhiway', 'hiya', 'Ooo', 'roomate', 'anyyyyyyyyyyyyyyyyy', 'muahzzzz', 'onuimso', 'awww', 'U113', 'Ive', \"'m\", 'lmaoo', 'ewww', 'hottie', 'U13', 'chatr', 'Lousiana', 'WEEEEEEEEEEEEEEEEEE', 'U155', 'babay', 'knw', 'pfft', 'U22', 'raaaaaaaaaaaaaaaaaaaaaaaaaaaaa', '*VBS*', 'sevendust', 'cookie', 'wisconsin', 'wooooooooooooohoooooooooooooooo', 'subsitute', '//www.wunderground.com/cgi-bin/findweather/getForecast?query=95953#FIR', 'fetterline', 'johny', 'Salut', 'combo', 'poorrr', 'pm', 'U26', 'ohwa', 'use full', 'goin', 'U67', 'salsa', '=p', 'okey', 'aTerry', 'humm', 'magine', 'FF', 'w/b', 'awwww', 'tooo', 'seminilla', 'niteeeeeeeeeeeeeeeeeee', 'typin', 'cyb3r', 'senor', 'U819', 'z-ro', 'U130', 'capab;e', 'peolpe', 'hav', 'U190', 'U85', 'U1', 'U63', 'sicily', 'noooooooooooooo', 'KoOL', '*WOW*', 'Tyrese', 'teehee', \"cyberin'\", 'COM', '20S', 'meyooky', 'U65', 'U3', 'O.o', 'nicname', 'U66', 'specalily', 'ja', 'mmmmm', 'U137', 'ahah', 'va', 'ty', 'xcitable', 'U102', 'U108', 'canadain', 'ballin', 'atl', 'oi', 'BLONDES', 'Ahh', 'eitther', 'standin', 'shhhh', 'meredith', 'benz', 'U116', 'U7', 'Laguna', 'omggg', 'downnnnnn', 'LONLEY', 'CAPS', 'gtg', 'futurama', 'waaa', 'ooh', 'outta', 'U988', 'CO', 'Indiantown', 'wowsa', 'beuty', 'laptop', 'screamo', 'nothin', 'doin', 'driveby', 'elbowS', 'PS', 'RULES', \"'ello\", 'nj', 'hheeyy', 'wher', 'checkin', 'lucifuge', 'btw', 'Wtf', 'cusion', 'vm', 'babblein', 'Jonesboro', 'woooohoooo', 'boooooooooooglyyyyyy', 'kewl', 'quistion', 'muahhhhh', 'suree', 'O.k.', 'QQ', 'Hahhaa', 'kennedy', 'd=', 'ughhh', 'mmmmmmmmmm', \"talkin'\", 'buh', 'beleive', 'lamborghini', 'whoaaaaaaaaaaaa', 'U97', 'Rothlisburger', 'soory', 'completly', 'oo', 'msn', '*smewchies*', 'heyy', 'Fergie', 'jackie', 'ltnc', 'walderslade', 'brwn', 'sincy', 'mofo', 'scusezzy', 'ewwwwww', 'unisom', 'reunion.', 'huuuuuuuuuuuuuuuuuuuuuuuuuuuuuuuuuuugZ', 'kiddin', 'sum1', 'ovr', 'e-mail', 'cooooooooookiiiiiiiiiiiieeeeeeeeeeee', 'rotflmao', 'sexi', 'pssst', 'este', 'ohhhh', 'fawk', 'nodda', 'yello', 'stinky', 'eeewwwwww', 'theere', 'Ty', 'suprise', ':love:', 'scuba', 'U1370', 'S.M.R.', 'U74', 'gurrrrl', 'Hmm', 'U145', 'yepper', 'moanz', 'sleepin', 'fishercat', 'evertonr', 'cepn', 'boght', 'Aww', 'cyber.', 'isnt', 'sorta', 'webcam', 'yuuuuuuuuuuuummmmmmmmmmmm', 'gotaa', 'pppppppppppew', 'U520', 'gn', 'Biiiiiitch', 'heeheeheeheeheehee', 'Hallo', 'ryaon', 'ahhhhhhhhhhhhhh', 'chp', 'weeeeeeeee', 'sox', 'U175', 'jajajaaa', 'U148', 'U121', 'wed-lock', 'U75', 'redneck', 'Bwhaha', 'thot', 'U27', 'awwwwwwwwww', 'gurlie', 'tlak', 'buddyyyyyy', 'oatmel', 'HOTT', 'xxxxxx', 'thje', 'Jordison', 'alterz', 'lala', 'gettysburg', 'lil', '<empty>', 'fawker', 'illin', 'teh', 'wif', 'U28', 'wazz', 'oot', 'Nooooooooooooooo', 'splenda', 'ooer', 'ohhhhhhhhhhhhhhhh', 'U30', 'Elev', 'FL', 'xbox', 'chococake', 'neysa', 'owww', 'hahahhahah', 'choc', 'placce', 'gooo', 'y/w', 'prrty', 'realise', 'mame', 'freeezinggggg', 'AOL.COM', 'LMAO', 'CST', 'tryina', 'hiom', 'goodie', 'hertory', 'heeeey', 'o.O', 'whou', 'hb', 'johnson', 'exwife', 'holdin', 'hahahahahahaha', 'hendrix', 'geeze', 'o_0', 'aynawy', ';p', 'o.o', 'tennesee', 'Wyte', 'netflix', 'U110', 'sooo', 'ooooooo', 'k-mart', 'loveliest', 'receprion', 'lambergini', 'waht', 'cho-co-late', 'bigest', 'Catterick', 'mm', 'HolocaustYourMom', 'yup', 'fraggle', 'Wellbutrin', '~smirkZ~', 'tommorrow', 'Zoloft', 'myspace.com', \"c'm\", 'Wisconsin', 'heheh', 'ahahah', 'lllllllliiiiiiiiiikeee', 'hheeyyy', 'eay', 'woot', 'www.Wunderground.com', \"N'T\", 'creme', 'paxil', 'wahoooooooo', 'wooo', 'ltnsea', 'DOWNS', 'U44', 'playin', 'thru', 'kool', 'U49', 'byeeee', 'U21', 'geeshhh', 'rarly', 'everbody', 'U219', 'PMSL', 'thang', 'nooooo', 'homeade', 'italy', 'usa', 'laughin', 'fallout', 'umm', 'MD', 'Horace', 'youer', ':P', 'U62', 'NC', 'lovin', 'brady', '~blusherZ~', 'beeehave', 'U109', 'aqwesome', 'sw', 'tenn', 'WTF', 'im', 'OMG', 'Cheeeez', 'wiltou', 'boi', 'U147', 'U989', 'ck', 'whoopZ', 'Children', 'foreplay', 'Ohh', 'controllin', 'birfday', 'tennessee', 'U119', 'dork', 'oOo', 'coffe', 'U34', 'bumber', 'Seee', 'alohaaa', 'lolol', 'denzel', 'nada', ':D', 'sullivan', 'lix', 'hPa', 'U82', 'Heyyyyyyy', 'U142', 'Denver', 'bak', 'AHHAH', 'comprende', 'oooooooooooo', 'fav', 'anythin', 'software', 'U128', 'noooooooooo', 'U2', 'bitdh', 'abou', 'anygirl', 'lmaooooo', 'WHISPre', 'Hummmm', 'sleep over', 'waz', '.(..(.vMp3 vi.p.t.)..).', 'wheeeeeeeeeeeeeeeeeeeeeeeeeeeeeeeeee', 'strickly', 'aok', 'Ridin', 'wooooohoooo', \"'re\", 'nickelback', 'Heyyy', 'wanan', 'nce', 'bachelorette', 'lb', 'e-bay', 'akron', 'LOVES', 'U9', 'nah', 'gettin', 'problemo', 'hahah', 'kong', 'ewwwwwww', 'blowjob', \"sayin'\", 'balck', 'U46', 'goodnite', 'Okay', 'fallz', 'grrrrrrrr', 'mmmmk', 'wothough', 'satisfie', 'ahh', 'HAHA', 'stron', 'whooo', 'controll', 'gf', 'ono', \"ol'\", 'Gracemont', 'mmmomom', 'laffin', 'gaaaaaaay', 'byb', 'AHAHH', 'gettign', '1-900-anal-sex', 'U100', 'Eticket', 'U118', 'gotta', 'appologise', 'Tennessee', 'dsklgjsdk', 'Heyy', 'Mmm', 'gezzz', 'IRC', 'e-v-e-r-y', 'Maidstone', 'innit', 'U36', 'hiy', 'urself', 'louisianna', 'mmmm', 'thinkin', 'trippy', 'duh', 'Niceeeee', 'biatch', 'hott', 'coudl', 'Barbieee', 'Kittie', ':p', 'hmmmmm', 'U92', 'perv', 'whhhooooo', 'pro-se', 'P.ussy', 'despie', 'Screach', 'U79', 'o_O', 'U41', 'gritt', 'hafta', 'hearin', 'HHEEYYYYYYYYYYYYYYYYYYYYYYYYYYYYYYYYYYYYYYYYYYYYYYY', 'totaly', 'watchin', 'tc', 'whatcha', 'chik', 'riiiiight', 'U39', 'Permenant', 'Haha', 'yessum', 'U90', 'manson', 'o.0', 'cpr', 'rapest', 'fock', 'appleton', 'Uhhh', 'U18', 'hmph', 'yall', 'http://www.shadowbots.com', 'ooperative', 'win win', 'PM', 'nevah', 'gottsa', 'LIX', 'fishin', 'ft', 'anytime', 'awrighty', 'neone', 'excuuuuuuse', 'pokin', 'wonderin', 'lookin', '*sniffs*', 'o0', 'congrat', 'Yoko', 'copone', 'Lmfao', 'Shaneeeeeeeee', 'infor', 'AHAHHA', \"'n'\", 'weeeeeeeeeeeeeeee', 'CHATHIDE', 'Ctrl', 'hahaha', 'roleplay', 'j/p', 'Jayse', \"'ll\", 'chatt', 'uffff', 'sldfjlsdf', 'seconds.', 'Whitesnake', 'hawt', 'Ummm', 'asnwer', 'bloe', 'puter', 'N\"T', 'Hiya', 'beeeeehave', 'wana', 'U134', 'tellin', 'geeZe', 'Im', 'themself', 'heya', 'perth', 'tere', 'Uh', 'b/c', 'macho', 'hgfhgfjgf', 'U8', 'il', 'grrrrrrrrrrrrrrrrr', 'f.b.i.', 'hmmmm', 'U103', 'diggin', '.A.n.a.c.?.n.?.a.', 'blew', 'dotn', '*waves*', 'CT', 'enuff', 'Awww', 'nawwww', 'guyz', 'Aiken', 'whitte', 'descriminate', 'goneee', 'sayn', 'ummm', 'Everytime', 'CUZ', 'hahahaa', 'flippin', 'imma', 'prono', 'nauty', 'wantin', 'walmart', 'U17', 'woooooooooaaaahhhhhhhhhhhh', 'dangit', 'aww', 'seeee', 'Mp3', 'Froogle', 'samn', 'appearently', \"pm'n\", 'shup', 'USA', 'Paxil', 'poeple', 'armtnpeat', 'coem', 'U96', 'hola', 'U105', 'Louisville', 'co-op', 'thanx', 'b4', 'Lmao', 'Russion', 'Shakin', 'Nickelback', 'Whaaa', 'n e', 'adreniline', 'geeshh', 'fkajslf', 'lthen', 'mspace', 'hhaaaaatttee', 'smallfry', 'U133', 'ive', 'asl', 'welll', 'JTo', 'imhave', 'DETROIT', 'U80', '( o Y o )', 'U35', 'moochhhhhhhhh', 'schlep', 'fillin', \"g'\", 'petanmart', 'Yarrrr', 'sry', 'sweetshybbw', 'U70', 'qwertyuiop', 'U164', 'contast', 'yesh', 'fuddahnut', 'chatroom', 'DVD', 'wearin', 'hopin', 'ewwww', 'LOL', 'BAAAAALLLLLLLLIIIIIIINNNNNNNNNNN', 'wtf', 'hahahaha', 'mp3', 'nakie', 'sf', 'U150', 'yooou', 'women', 'movin', 'porn', 'freeeezinggg', 'aaaaaaaaaaaaaaaaa', 'lamborgini', 'U54', 'HAHAHA', 'coonarsee', 'Niceeee', 'LOl', 'idnt', '-stay-', 'T-Mobile', 'url', 'heyheyhey', 'ROFL', 'CALI', 'sammich', 'erm', 'any1', 'mikeeeeeeeeeeeeeeeeeeeeeeeeee', 'polllution', 'freakin', 'U45', 'U86', 'blech', 'comon', 'Kewl', 'douchebag', 'Wowsa', 'luv', 'U33', 'cyber', 'woah', 'definately', 'Rutger', 'born-again', 'lool', 'hmmmmmmm', 'o0o', 'darwin', 'o.k.', 'mmmmmm', 'ps2', ':o *', 'ladz', 'robbie', 'hahahah', 'CDT', 'out.', 'o<|=D', 'mmmkay', 'wasup', 'harley', 'IL', 'sleepover', 'bwahahahahahahahahahaha', 'halfa', 'Ontario', 'U168', 'syck', '<perk>', 'Vroooom', 'GrlZ', 'tooooooooooo', 'azerbaijan', 'byeeeeeeeeeeeee', 'Lol', 'miiiiiinnnnnnnnnneeeeeeee', 'telllin', 'lmaoooo', 'yes.', 'nz', 'bbl', 'nic', 'Wb', 'fer', 'backatchya', 'edmonton', 'heyyyyyyyyyy', 'eeekk', 'hih', 'match.', 'U4', 'SYNDORME', 'jerimiah', 'eroticaust', 'U76', 'SINGLEEEEEEEE', 'oO', 'eeeek', 'U68', 'dunkin', 'alotta', 'Ciara', 'heyyyyyyyyy', 'F5', 'msg', 'kneez', 'vuela', 'Muahz', '\\\\ty', 'myspace', 'lurkin', 'agaibn', 'muahhh', 'hyy', 'GN', 'respec', 'offa', 'Connecticutt', 'callifornia', 'U48', 'grrrrrrrrr', 'gente', 'Ohhh', 'shoppin', 'Zyban', 'reschedual', 'pr', 'tryin', 'U89', 'Meh', 'FOLKS', 'grrr', 'wel', 'nebraska', 'o/~', 'U81', 'lixxx', 'vetrabrate', ':-o', 'doublewide', 'estra', 'f.', 'U120', 'oooh', 'dman', 'Tisk', 'gamefly']\n"
     ]
    }
   ],
   "source": [
    "print(len(raw_list_3))\n",
    "print(raw_list_3)"
   ]
  },
  {
   "cell_type": "code",
   "execution_count": 40,
   "metadata": {
    "collapsed": true
   },
   "outputs": [],
   "source": [
    "# At last, we will deal with Username which begin with U and a number after.\n",
    "username_list = []\n",
    "unusual_list_2 = []"
   ]
  },
  {
   "cell_type": "code",
   "execution_count": 41,
   "metadata": {
    "collapsed": true
   },
   "outputs": [],
   "source": [
    "for element in raw_list_3:\n",
    "    if element.startswith('U') and element[1:].isdigit():\n",
    "        username_list.append(element)\n",
    "    else:\n",
    "        unusual_list_2.append(element)"
   ]
  },
  {
   "cell_type": "code",
   "execution_count": 42,
   "metadata": {
    "collapsed": false
   },
   "outputs": [
    {
     "name": "stdout",
     "output_type": "stream",
     "text": [
      "['U111', 'U52', 'U114', 'U153', 'U156', 'U144', 'U149', 'U59', 'U820', 'U78', 'U58', 'U99', 'U138', 'U106', 'U542', 'U117', 'U112', 'U197', 'U88', 'U107', 'U61', 'U40', 'U38', 'U141', 'U20', 'U37', 'U31', 'U129', 'U136', 'U55', 'U6', 'U29', 'U11', 'U87', 'U73', 'U50', 'U24', 'U163', 'U172', 'U196', 'U42', 'U169', 'U32', 'U10', 'U91', 'U95', 'U123', 'U139', 'U16', 'U51', 'U23', 'U64', 'U126', 'U115', 'U83', 'U104', 'U101', 'U122', 'U56', 'U170', 'U165', 'U60', 'U84', 'U146', 'U19', 'U143', 'U15', 'U47', 'U12', 'U72', 'U158', 'U53', 'U0', 'U98', 'U154', 'U5', 'U43', 'U57', 'U69', 'U25', 'U14', 'U132', 'U71', 'U181', 'U113', 'U13', 'U155', 'U22', 'U26', 'U67', 'U819', 'U130', 'U190', 'U85', 'U1', 'U63', 'U65', 'U3', 'U66', 'U137', 'U102', 'U108', 'U116', 'U7', 'U988', 'U97', 'U1370', 'U74', 'U145', 'U520', 'U175', 'U148', 'U121', 'U75', 'U27', 'U28', 'U30', 'U110', 'U44', 'U49', 'U21', 'U219', 'U62', 'U109', 'U147', 'U989', 'U119', 'U34', 'U82', 'U142', 'U128', 'U2', 'U9', 'U46', 'U100', 'U118', 'U36', 'U92', 'U79', 'U41', 'U39', 'U90', 'U18', 'U134', 'U8', 'U103', 'U17', 'U96', 'U105', 'U133', 'U80', 'U35', 'U70', 'U164', 'U150', 'U54', 'U45', 'U86', 'U33', 'U168', 'U4', 'U76', 'U68', 'U48', 'U89', 'U81', 'U120']\n"
     ]
    }
   ],
   "source": [
    "print(username_list)"
   ]
  },
  {
   "cell_type": "code",
   "execution_count": 43,
   "metadata": {
    "collapsed": false
   },
   "outputs": [
    {
     "name": "stdout",
     "output_type": "stream",
     "text": [
      "1451\n",
      "['peace-and-quiet', 'iamahotniplickme', 'computor', 'noo', 'kmph', 'lysol', 'headach', 'fl', 'naughtier', 'misbeahve', 'muahz', 'pweeze', \"scrollin'\", 'jk', 'mena', 'kinda', 'Burger', 'pedofile', 'yoko', 'giva', 'LOUDER', 'bbbbbyyyyyyyeeeeeeeee', 'yu', 'muh', 'hgey', 'dr', '.op.', 'hmm', 'mom', 'smarter', 'seee', 'detroit', 'hm', 'dummmm', '*drools*', 'moonie', 'co op', 'II', 'invisiable', 'Lampert', 'noth', 'hio', 'tacoma', 'TC', 'fucker', 'frm', 'RI', 'LOLOLOLLL', 'Oy', 'xD', 'cool1024', 'eeek', 'S3x0r', 'n.n', 'MsUtah', 'eeeeeeeeewwwwwwww', 'lavendar', 'ussy', 'me/', 'irl', '*spank*', 'GUYS', 'Birdgang', \"miss'n\", 'backroom', 'lesbo', 'muzak', 'lmao', 'LPN', 'biiiatch', 'caiuse', 'MSN', \"passin'\", 'trippin', 'definitley', 'errrrr', 'wrek', 'afk', 'bandito', 'guyzz', 'YaY', 'awesomee', 'bahahahaa', 'couldnt', 'In.', 'Ct', \"mf'er\", 'livin', 'chcken', \"stuffin'\", 'mhm', 'hang', 'tyvm', 'adduser', 'LoL', '2Pac', 'Dr.', 'every1', 'dj', 'tonawanda', 'CSI', 'u550436035', 'tisk', 'prolly', 'thristy', 'ldskdlsf', 'hangin', 'ohh', 'deop', 'H0rny', 'femine', 'ciao', 'du', 'offence', 'doody', 'yoder', 'norny', 'ahhahahaha', 'deleware', 'dontcha', 'youuu', 'gayoholic', 'bacl', 'iamahotnip', 'mcgraw', 'awsome', 'Ack', 'hooo', 'OOooOO', 'Post-haste', 'P.', 'hooooo', 'heeee', 'MUAH', 'mauh', 'gonna', 'chocha', 'ppolitical', 'burito', 'plenaty', 'Gorda', '18ST', 'shaun', 'innocense', '-o', 'hahahahahaha', 'yoll', 'nakey', ':blush:', 'reallly', 'sdlfkjsj', 'sumpin', 'smirkz', 'argh', 'Liam', 'howz', '10th', 'aime', 'Pullin', 'e1', 'lol', 'actualy', 'ello', 'enuf', 'cho-co-la-te', 'n;t', 'bandsaw', 'owuldnt', 'Yeh', 'smax', 'dyslexic', 'metallica', 'dl', 'fuckin', 'mmmmmmmmiiiiiiiiinnnnnnnnneeeeeeee', 'geessh', 'sucka', 'Meep', 'excitin', 'hissy', 'hx', 'Lil', 'dirrrrty', 'lucy-fur', 'listenin', 'PayPal', 'lyin', 'okay', 'itz', 'othah', 'everone', 'Foley', 'pssssh', 'DAamn', 'febe', 'brb', 'haha', 'hahhahahaha', 'Cyber', 'AKST', 'yerself', 'SSRI', 'ppl', 'tounge', 'Ahhh', 'pffft', 'coggieeee', 'wth', 'kev', 'n9ne', 'spose', 'soojn', 'mkay', 'barbie', 'yoooou', 'CanEhda', 'no-no', 'goooooo', 'tx', 'allo', 'dat', 'otay', 'TYPR', 'waitin', 'awwwwwww', 'AFK', 'lol.', 'leakin', 'heyyyyy', 'Playstation', 'ahhhhhh', 'aim.com', 'px', 'wv', 'nite', 'latina', 'clooney', 'mornin', 'UK', 'sexist', 'arggghhh', 't/c', 'que', 'GNG', 'doupt', 'brooklyn', 'pervin', 'oooooooooooglyyyyyyyy', 'concernin', 'bj', '.(..(.vMp3 v1.7.4.).)', 'Heya', 'Chingy', 'awwwwww', 'Uhh', 'internet', 'biyatch', 'bro', 'google', 'OOH', 'ny', 'ms.', 'sigur', 'Boyz', 'ghet', 'wb', 'wellbutrin', 'paitently', 'blankie', 'powter', 'mowin', 'remembah', 'depeche', 'Rofl', 'hehehe', 'Borat', 'yum', 'missin', 'wc', 'bc', 'riiiight', 'bein', 'aaahhhh', 'muhaha', 'dya', 'Okkkkkk', 'Chica', 'sexiest', 'handyMan', 'ahhhh', 'diseast', 'nm', 'canadaian', 'hel', 'n/', 'online', 'ky', 'donno', 'b-day', '=D', 'Omg', 'GIRLS', 'wOOt', 'yay', 'fuck', 'meeeeeeeeeeeee', 'LuverZ', 'OC', 'raarrrrrr', 'G-Mobile', 'mami', 'lotsa', 'mahn', 'sunnn', 'lolololll', 'courst', 'havin', 'PERVS', 'dahlin', 'bootay', 'jr', 'drivin', 'shakin', 'talkcity', 'tootsie', 'Salisbury', 'wz', 'frst', 'Soilwork', \"shakin'\", 'youre', 'cmon', 'alot', 'cali', 'ewwwww', 'ebay', 'biebsa', 'thah', 'tjhe', 'hahahahahahahahahahahahahahahaha', \"s'\", 'sp', 'gaspppp', 'beckley', 'PmS', 'whjat', 'heyyyyyyyy', 'youuuu', 'welome', 'ontrobution', 'horriable', 'caint', '*grins*', 'mama', 'ther', \"shinnin'\", 't he', 'ep', 'sheesh', 'serg', 'p u s s y', 'wahoooooooski', '=O', 'estefan', 'op', 'nickleback', 'heyyy', 'ltr', 'pmsl', \"makin'\", 'heee', 'nbc', 'Nadda', 'tah', 'eww', 'UFC', 'bbiam', 'IM', 'DJ', 'bio', 'hehehee', 'PDT', 'nyc', \"y'\", 'miiiiiiiiiiiiinnnnnnnnnnneeeeeeeeee', 'yayayayayyy', 'ooeer', 'darlin', 'Booyah', 'London', 'cya', 'heyyyyyy', 'laguna', 'dryer', 'TX', 're-think', 'tazzmaniane', 'moanin', 'eeww', 'Nashville', 'teo', 'peppersteak', 'Dokken', 'anti-sexy', 'ft.', 'heyyyy', 'pp', 'yout', 'geesh', 'Swackhammer', 'rey', 'lmfao', 'phylosipher', 'wuuppin', 'Dawnstar', 'ehh', 'throught', 'vs.', 'ogan', 'jw', 'gret', 'apoligize', 'uh', 'nuff', 'prittier', 'Ico', 'comp', 'Whistlin', 'w/', 'fettish', 'NY', 'goodnight', 'tok', 'gguyyyzzzz', 'tighty', ':O', 'Hahaaaa', 'dreammm', 'thnx', 'VBox', 'SHOWS', 'tdr', 'Mom', 'wanna', 'yvw', \"e'wjfghky\", 'hom', 'ooooook', \"rollin'\", 'pasa', 'dawg', 'MP3', 'puhleaze', 'zzzzzzzz', 'hugzzzzzzz', 'lasts30', 'Yay', '*hugs*', 'damnit', 'dem', 'sux', 'convo', 'chattin', 'chica', 'pvt', 'eng', 'Dr', 'akon', '(__I__)', 'psh', 'yeee', 'pleez', 'dokey', 'nuttin', 'shit', 'jumpin', 'pc', 'nc', 'nicer', 'ohhh', 'http', 'lawl', 'Sat.', 'wiggleZ', 'Mooooooooooooooooooooooooooo', 'jush', 'tryer', 'waddup', 'oldest', 'PMING', 'wansta', 'talkin', 'splelnig', 'Dipset', 'lmaooo', \"n't\", 'dunno', 'homophobic', 'FreesBee', 'Silverstein', 'tatatatnanaantatat', 'oooOOOOoooo', 'Ahhhh', 'ifr', 'oppertunity', 'XXXXXXXXXX', 'eeewww', 'mmmmmmmmmmmmm', 'whewwwwww', 'PRIVMSG', 'Jeter', 'shorty', 'byeeeeeeee', 'ontario', 'beachhhh', 'http://forums.talkcity.com/tc-adults/start ', 'heh', 'maidstone', 'ooo', 'caan', 'feet', 'playstation', 'iz', 'spain', 'booboo', 'dojn', 'Temp.', 'opr', 'hmmm', 'loc', 'omg', 'afe', 'TELLIN', 'anymore', 'dayum', 'humple', 'tv', 'll', 'Marlaya', 'soo', 'mmm', 'VVil', 'thx', 'rofl', 'nawp', 'whatca', '*blush*', 'uuuhhh', 'aiiiiiiiiiiiiiiiiiiiiiiii', 'garciae', 'hahahaHA', \"ya'\", 'Shinedown', 'llloooozzzzeeerrrrzzzzzzzzzzzzzzzzzzzzzzzzzzzzzzzzzzzzzzzzzzzzzzzzz', 'recieve', 'ahhh', 'plz', 'burger', 'sheesin', 'Daveeee', 'TY', 'grea', 'newp', 'knockin', 'plently', 'brbbb', 'heyyyyyyyyyyyyyy', 'declaw', 'OOPS', 'normy', 't/y', 'fck', 'sweeeeeeeeet', 'Roadrunner', 'fart', 'Nooo', 'askin', 'email', 'mmmmmmmmmmmmmm', 'rumour', 'hhehe', 'children', 'un-freeze', 'coolcat', 'hawT', 'evah', 'hehehehe', 'gm', 'hoo', 'dik', '2DAY', 'Hott', 'goodbye', 'chanowner', 'conway', 'lez', 'bi', 'veg', 'chineese', 'comin', 'AKDT', 'YALL', 'orta', 'WANNA', 'tthe', 'hahaaa', 'asshole', 'sexcite', 'appologize', 'deeper', \"doin'\", 'sumfin', 'cnnecticut', 'hawaii', 'NTMN', 'shouldve', 'cuz', 'yw', 'fongul', 'aligator', 't-shirt', 'de-tubetop', 'az', 'icky', 'cyb3r-lover', 'helloooo', 'elo', 'grrl', 'non-smoker', 'purty', 'burpin', 'mmhmm', 'chanop', 'hmmmmmmmm', 'Metallica', 'Joshy', 'hii', 'brrrrrrr', 'JRZ', 'hiiii', 'co', 'outa', 'sesky', 'fella', 'mornign', ':beer:', 'ridem', 'byeee', 'scuk', 'soakin', '~winkZ~', 'EST', 'twoel', 'worl', 'com', 'O.K', 'ohhhhhh', 'hmmmmmmmmmm', \"'ve\", 'Chamillionaire', 'ol', 'kc', 'hohohohhohhoo', 'pleaseeeee', 'happpy', 'j/k', 'bf', 'gentlemen', 'uk', 'yada', 'sowwy', 'hr', 'affari', 'haaa', 'nyone', '.owner.', 'hahahahaaa', 'n\"t', 'martini', 'hiii', 'aloha', 'withdrawl', ':tongue:', 'paypal', 'hix', 'goddamn', 'superhiway', 'hiya', 'Ooo', 'roomate', 'anyyyyyyyyyyyyyyyyy', 'muahzzzz', 'onuimso', 'awww', 'Ive', \"'m\", 'lmaoo', 'ewww', 'hottie', 'chatr', 'Lousiana', 'WEEEEEEEEEEEEEEEEEE', 'babay', 'knw', 'pfft', 'raaaaaaaaaaaaaaaaaaaaaaaaaaaaa', '*VBS*', 'sevendust', 'cookie', 'wisconsin', 'wooooooooooooohoooooooooooooooo', 'subsitute', '//www.wunderground.com/cgi-bin/findweather/getForecast?query=95953#FIR', 'fetterline', 'johny', 'Salut', 'combo', 'poorrr', 'pm', 'ohwa', 'use full', 'goin', 'salsa', '=p', 'okey', 'aTerry', 'humm', 'magine', 'FF', 'w/b', 'awwww', 'tooo', 'seminilla', 'niteeeeeeeeeeeeeeeeeee', 'typin', 'cyb3r', 'senor', 'z-ro', 'capab;e', 'peolpe', 'hav', 'sicily', 'noooooooooooooo', 'KoOL', '*WOW*', 'Tyrese', 'teehee', \"cyberin'\", 'COM', '20S', 'meyooky', 'O.o', 'nicname', 'specalily', 'ja', 'mmmmm', 'ahah', 'va', 'ty', 'xcitable', 'canadain', 'ballin', 'atl', 'oi', 'BLONDES', 'Ahh', 'eitther', 'standin', 'shhhh', 'meredith', 'benz', 'Laguna', 'omggg', 'downnnnnn', 'LONLEY', 'CAPS', 'gtg', 'futurama', 'waaa', 'ooh', 'outta', 'CO', 'Indiantown', 'wowsa', 'beuty', 'laptop', 'screamo', 'nothin', 'doin', 'driveby', 'elbowS', 'PS', 'RULES', \"'ello\", 'nj', 'hheeyy', 'wher', 'checkin', 'lucifuge', 'btw', 'Wtf', 'cusion', 'vm', 'babblein', 'Jonesboro', 'woooohoooo', 'boooooooooooglyyyyyy', 'kewl', 'quistion', 'muahhhhh', 'suree', 'O.k.', 'QQ', 'Hahhaa', 'kennedy', 'd=', 'ughhh', 'mmmmmmmmmm', \"talkin'\", 'buh', 'beleive', 'lamborghini', 'whoaaaaaaaaaaaa', 'Rothlisburger', 'soory', 'completly', 'oo', 'msn', '*smewchies*', 'heyy', 'Fergie', 'jackie', 'ltnc', 'walderslade', 'brwn', 'sincy', 'mofo', 'scusezzy', 'ewwwwww', 'unisom', 'reunion.', 'huuuuuuuuuuuuuuuuuuuuuuuuuuuuuuuuuuugZ', 'kiddin', 'sum1', 'ovr', 'e-mail', 'cooooooooookiiiiiiiiiiiieeeeeeeeeeee', 'rotflmao', 'sexi', 'pssst', 'este', 'ohhhh', 'fawk', 'nodda', 'yello', 'stinky', 'eeewwwwww', 'theere', 'Ty', 'suprise', ':love:', 'scuba', 'S.M.R.', 'gurrrrl', 'Hmm', 'yepper', 'moanz', 'sleepin', 'fishercat', 'evertonr', 'cepn', 'boght', 'Aww', 'cyber.', 'isnt', 'sorta', 'webcam', 'yuuuuuuuuuuuummmmmmmmmmmm', 'gotaa', 'pppppppppppew', 'gn', 'Biiiiiitch', 'heeheeheeheeheehee', 'Hallo', 'ryaon', 'ahhhhhhhhhhhhhh', 'chp', 'weeeeeeeee', 'sox', 'jajajaaa', 'wed-lock', 'redneck', 'Bwhaha', 'thot', 'awwwwwwwwww', 'gurlie', 'tlak', 'buddyyyyyy', 'oatmel', 'HOTT', 'xxxxxx', 'thje', 'Jordison', 'alterz', 'lala', 'gettysburg', 'lil', '<empty>', 'fawker', 'illin', 'teh', 'wif', 'wazz', 'oot', 'Nooooooooooooooo', 'splenda', 'ooer', 'ohhhhhhhhhhhhhhhh', 'Elev', 'FL', 'xbox', 'chococake', 'neysa', 'owww', 'hahahhahah', 'choc', 'placce', 'gooo', 'y/w', 'prrty', 'realise', 'mame', 'freeezinggggg', 'AOL.COM', 'LMAO', 'CST', 'tryina', 'hiom', 'goodie', 'hertory', 'heeeey', 'o.O', 'whou', 'hb', 'johnson', 'exwife', 'holdin', 'hahahahahahaha', 'hendrix', 'geeze', 'o_0', 'aynawy', ';p', 'o.o', 'tennesee', 'Wyte', 'netflix', 'sooo', 'ooooooo', 'k-mart', 'loveliest', 'receprion', 'lambergini', 'waht', 'cho-co-late', 'bigest', 'Catterick', 'mm', 'HolocaustYourMom', 'yup', 'fraggle', 'Wellbutrin', '~smirkZ~', 'tommorrow', 'Zoloft', 'myspace.com', \"c'm\", 'Wisconsin', 'heheh', 'ahahah', 'lllllllliiiiiiiiiikeee', 'hheeyyy', 'eay', 'woot', 'www.Wunderground.com', \"N'T\", 'creme', 'paxil', 'wahoooooooo', 'wooo', 'ltnsea', 'DOWNS', 'playin', 'thru', 'kool', 'byeeee', 'geeshhh', 'rarly', 'everbody', 'PMSL', 'thang', 'nooooo', 'homeade', 'italy', 'usa', 'laughin', 'fallout', 'umm', 'MD', 'Horace', 'youer', ':P', 'NC', 'lovin', 'brady', '~blusherZ~', 'beeehave', 'aqwesome', 'sw', 'tenn', 'WTF', 'im', 'OMG', 'Cheeeez', 'wiltou', 'boi', 'ck', 'whoopZ', 'Children', 'foreplay', 'Ohh', 'controllin', 'birfday', 'tennessee', 'dork', 'oOo', 'coffe', 'bumber', 'Seee', 'alohaaa', 'lolol', 'denzel', 'nada', ':D', 'sullivan', 'lix', 'hPa', 'Heyyyyyyy', 'Denver', 'bak', 'AHHAH', 'comprende', 'oooooooooooo', 'fav', 'anythin', 'software', 'noooooooooo', 'bitdh', 'abou', 'anygirl', 'lmaooooo', 'WHISPre', 'Hummmm', 'sleep over', 'waz', '.(..(.vMp3 vi.p.t.)..).', 'wheeeeeeeeeeeeeeeeeeeeeeeeeeeeeeeeee', 'strickly', 'aok', 'Ridin', 'wooooohoooo', \"'re\", 'nickelback', 'Heyyy', 'wanan', 'nce', 'bachelorette', 'lb', 'e-bay', 'akron', 'LOVES', 'nah', 'gettin', 'problemo', 'hahah', 'kong', 'ewwwwwww', 'blowjob', \"sayin'\", 'balck', 'goodnite', 'Okay', 'fallz', 'grrrrrrrr', 'mmmmk', 'wothough', 'satisfie', 'ahh', 'HAHA', 'stron', 'whooo', 'controll', 'gf', 'ono', \"ol'\", 'Gracemont', 'mmmomom', 'laffin', 'gaaaaaaay', 'byb', 'AHAHH', 'gettign', '1-900-anal-sex', 'Eticket', 'gotta', 'appologise', 'Tennessee', 'dsklgjsdk', 'Heyy', 'Mmm', 'gezzz', 'IRC', 'e-v-e-r-y', 'Maidstone', 'innit', 'hiy', 'urself', 'louisianna', 'mmmm', 'thinkin', 'trippy', 'duh', 'Niceeeee', 'biatch', 'hott', 'coudl', 'Barbieee', 'Kittie', ':p', 'hmmmmm', 'perv', 'whhhooooo', 'pro-se', 'P.ussy', 'despie', 'Screach', 'o_O', 'gritt', 'hafta', 'hearin', 'HHEEYYYYYYYYYYYYYYYYYYYYYYYYYYYYYYYYYYYYYYYYYYYYYYY', 'totaly', 'watchin', 'tc', 'whatcha', 'chik', 'riiiiight', 'Permenant', 'Haha', 'yessum', 'manson', 'o.0', 'cpr', 'rapest', 'fock', 'appleton', 'Uhhh', 'hmph', 'yall', 'http://www.shadowbots.com', 'ooperative', 'win win', 'PM', 'nevah', 'gottsa', 'LIX', 'fishin', 'ft', 'anytime', 'awrighty', 'neone', 'excuuuuuuse', 'pokin', 'wonderin', 'lookin', '*sniffs*', 'o0', 'congrat', 'Yoko', 'copone', 'Lmfao', 'Shaneeeeeeeee', 'infor', 'AHAHHA', \"'n'\", 'weeeeeeeeeeeeeeee', 'CHATHIDE', 'Ctrl', 'hahaha', 'roleplay', 'j/p', 'Jayse', \"'ll\", 'chatt', 'uffff', 'sldfjlsdf', 'seconds.', 'Whitesnake', 'hawt', 'Ummm', 'asnwer', 'bloe', 'puter', 'N\"T', 'Hiya', 'beeeeehave', 'wana', 'tellin', 'geeZe', 'Im', 'themself', 'heya', 'perth', 'tere', 'Uh', 'b/c', 'macho', 'hgfhgfjgf', 'il', 'grrrrrrrrrrrrrrrrr', 'f.b.i.', 'hmmmm', 'diggin', '.A.n.a.c.?.n.?.a.', 'blew', 'dotn', '*waves*', 'CT', 'enuff', 'Awww', 'nawwww', 'guyz', 'Aiken', 'whitte', 'descriminate', 'goneee', 'sayn', 'ummm', 'Everytime', 'CUZ', 'hahahaa', 'flippin', 'imma', 'prono', 'nauty', 'wantin', 'walmart', 'woooooooooaaaahhhhhhhhhhhh', 'dangit', 'aww', 'seeee', 'Mp3', 'Froogle', 'samn', 'appearently', \"pm'n\", 'shup', 'USA', 'Paxil', 'poeple', 'armtnpeat', 'coem', 'hola', 'Louisville', 'co-op', 'thanx', 'b4', 'Lmao', 'Russion', 'Shakin', 'Nickelback', 'Whaaa', 'n e', 'adreniline', 'geeshh', 'fkajslf', 'lthen', 'mspace', 'hhaaaaatttee', 'smallfry', 'ive', 'asl', 'welll', 'JTo', 'imhave', 'DETROIT', '( o Y o )', 'moochhhhhhhhh', 'schlep', 'fillin', \"g'\", 'petanmart', 'Yarrrr', 'sry', 'sweetshybbw', 'qwertyuiop', 'contast', 'yesh', 'fuddahnut', 'chatroom', 'DVD', 'wearin', 'hopin', 'ewwww', 'LOL', 'BAAAAALLLLLLLLIIIIIIINNNNNNNNNNN', 'wtf', 'hahahaha', 'mp3', 'nakie', 'sf', 'yooou', 'women', 'movin', 'porn', 'freeeezinggg', 'aaaaaaaaaaaaaaaaa', 'lamborgini', 'HAHAHA', 'coonarsee', 'Niceeee', 'LOl', 'idnt', '-stay-', 'T-Mobile', 'url', 'heyheyhey', 'ROFL', 'CALI', 'sammich', 'erm', 'any1', 'mikeeeeeeeeeeeeeeeeeeeeeeeeee', 'polllution', 'freakin', 'blech', 'comon', 'Kewl', 'douchebag', 'Wowsa', 'luv', 'cyber', 'woah', 'definately', 'Rutger', 'born-again', 'lool', 'hmmmmmmm', 'o0o', 'darwin', 'o.k.', 'mmmmmm', 'ps2', ':o *', 'ladz', 'robbie', 'hahahah', 'CDT', 'out.', 'o<|=D', 'mmmkay', 'wasup', 'harley', 'IL', 'sleepover', 'bwahahahahahahahahahaha', 'halfa', 'Ontario', 'syck', '<perk>', 'Vroooom', 'GrlZ', 'tooooooooooo', 'azerbaijan', 'byeeeeeeeeeeeee', 'Lol', 'miiiiiinnnnnnnnnneeeeeeee', 'telllin', 'lmaoooo', 'yes.', 'nz', 'bbl', 'nic', 'Wb', 'fer', 'backatchya', 'edmonton', 'heyyyyyyyyyy', 'eeekk', 'hih', 'match.', 'SYNDORME', 'jerimiah', 'eroticaust', 'SINGLEEEEEEEE', 'oO', 'eeeek', 'dunkin', 'alotta', 'Ciara', 'heyyyyyyyyy', 'F5', 'msg', 'kneez', 'vuela', 'Muahz', '\\\\ty', 'myspace', 'lurkin', 'agaibn', 'muahhh', 'hyy', 'GN', 'respec', 'offa', 'Connecticutt', 'callifornia', 'grrrrrrrrr', 'gente', 'Ohhh', 'shoppin', 'Zyban', 'reschedual', 'pr', 'tryin', 'Meh', 'FOLKS', 'grrr', 'wel', 'nebraska', 'o/~', 'lixxx', 'vetrabrate', ':-o', 'doublewide', 'estra', 'f.', 'oooh', 'dman', 'Tisk', 'gamefly']\n"
     ]
    }
   ],
   "source": [
    "print(len(unusual_list_2))\n",
    "print(unusual_list_2)"
   ]
  },
  {
   "cell_type": "code",
   "execution_count": 44,
   "metadata": {
    "collapsed": true
   },
   "outputs": [],
   "source": [
    "unusual_list = unusual_list_1 + unusual_list_2"
   ]
  },
  {
   "cell_type": "code",
   "execution_count": 46,
   "metadata": {
    "collapsed": false
   },
   "outputs": [
    {
     "name": "stdout",
     "output_type": "stream",
     "text": [
      "Number of Unusual Words We Use in Chat (Briefly): 1627\n"
     ]
    }
   ],
   "source": [
    "print('Number of Unusual Words We Use in Chat (Briefly):', len(unusual_list))"
   ]
  },
  {
   "cell_type": "code",
   "execution_count": 47,
   "metadata": {
    "collapsed": false
   },
   "outputs": [
    {
     "name": "stdout",
     "output_type": "stream",
     "text": [
      "['K-Fed', 'hfglhs', '#talkcity-20s', 'england', 'horrified', 'oppsss', 'donuts', 'Plssss', \"t'anks\", 'hotties', 'f-ing', 'webcams', 'fishercats', 'fragged', 'mwahhs', 'suprised', 'early20s', 'omnious', 'recomend', 'fawked', 'declawed', 'yikes', 'opps', 'bishes', 'kness', 'killeded', 'hugsssss', 'obbts', 'defrags', 'beatles', 'forwads', 'pmers', 'coworkers', \"<3's\", '#prideisland', 'serties', '2nd', 'alzheimers', 'downloaded', 'laterssss', 'frenchkiss', 'homeboys', \"iggy'd\", 'babiess', 'streched', '#prideIsland', 'huggss', 'Nevermind', 'pujols', \"pm's\", 'Virius', 'ques', 'poooland', 'acros', 'rumours', 'alohas', '#talkcity_adults', 'uyes', 'Jerketts', 'criss-cross', 'pwns', 'yikesssss', 'Fairbanks', 'realises', 'assholes', 'cris-cross', 'arround', \"RN's\", 'jucilicious', 'iamahotnipwithpics', 'retahhhhded', 'okikes', 'currious', 'lubbs', '1cos', 'glitches', 'whuuped', 'fucks', 'weeeeeeeeeeeeeeeeeeeeeeeeed', 'mwahhss', 'hugggs', 'hugsssssssss', 'nicnames', 'chatland', 'yummylicious', 'boinked', 'Bloooooooooooood', 'iamahotnipwithhotnippics', 'yeppers', 'babycakeses', 'slkfjsldkfjs', 'ihavehotnips', 'Fergalicious', 'beattles', 'nekkies', 'ooopppps', '#40sPlus', 'grettings', 'schmoopies', 'handheld', 'cute.-ass', 'jerkettes', 'oopps', 'wimmins', 'agurlwithbigguns', 'edgewood', 'kickass', 'ciggareets', 'skateboard', 'paradis', 'cuddlicious', 'photshopped', 'fliuds', 'twizted', \"'d\", 'msners', 'Bloooooooood', 'boyfriend', 'seagulls', 'wussups', 'smewchies', 'ooppsss', 'barfights', 'oooooooooooooonnnnnnnnnnnneeeeeeeeeeeeeeesssssssss', 'yawnssss', 'Amazingness', 'hiYas', 'f**kalicious', 'hartford', 'Bloooooooooood', 'muahssssssssssssssss', 'Oops', 'Yikes', 'e-husband', 'grilfriend', 'ringtones', 'Naples', 'hugsss', \"yw's\", 'oops', 'congrats', 'e-herpes', 'xxxed', 'minigames', 'x-mas', 'cyas', 'whaaaaats', 'disocvered', 'muahsssssssssssssssssss', 'Edgewood', 'tennies', \"PM's\", 'neverneverland', 'euphamisms', 'mainland', 'Zebrahead', 'backfrontsidewaysandallaroundtheworld', 'wildcard', 're-thinks', 'cripos', '#14-19teens', \"martini's\", 'profilrs', 'freind', 'Cardnials', 'hearthechatters', 'abourted', 'girlfriend', 'Cleveland', 'ysssssssss', 'f*cktards', 'antidepressants', 'kookies', 'nortenos', 'yepper s', 'pokkies', 'peace-and-quiet', 'iamahotniplickme', 'computor', 'noo', 'kmph', 'lysol', 'headach', 'fl', 'naughtier', 'misbeahve', 'muahz', 'pweeze', \"scrollin'\", 'jk', 'mena', 'kinda', 'Burger', 'pedofile', 'yoko', 'giva', 'LOUDER', 'bbbbbyyyyyyyeeeeeeeee', 'yu', 'muh', 'hgey', 'dr', '.op.', 'hmm', 'mom', 'smarter', 'seee', 'detroit', 'hm', 'dummmm', '*drools*', 'moonie', 'co op', 'II', 'invisiable', 'Lampert', 'noth', 'hio', 'tacoma', 'TC', 'fucker', 'frm', 'RI', 'LOLOLOLLL', 'Oy', 'xD', 'cool1024', 'eeek', 'S3x0r', 'n.n', 'MsUtah', 'eeeeeeeeewwwwwwww', 'lavendar', 'ussy', 'me/', 'irl', '*spank*', 'GUYS', 'Birdgang', \"miss'n\", 'backroom', 'lesbo', 'muzak', 'lmao', 'LPN', 'biiiatch', 'caiuse', 'MSN', \"passin'\", 'trippin', 'definitley', 'errrrr', 'wrek', 'afk', 'bandito', 'guyzz', 'YaY', 'awesomee', 'bahahahaa', 'couldnt', 'In.', 'Ct', \"mf'er\", 'livin', 'chcken', \"stuffin'\", 'mhm', 'hang', 'tyvm', 'adduser', 'LoL', '2Pac', 'Dr.', 'every1', 'dj', 'tonawanda', 'CSI', 'u550436035', 'tisk', 'prolly', 'thristy', 'ldskdlsf', 'hangin', 'ohh', 'deop', 'H0rny', 'femine', 'ciao', 'du', 'offence', 'doody', 'yoder', 'norny', 'ahhahahaha', 'deleware', 'dontcha', 'youuu', 'gayoholic', 'bacl', 'iamahotnip', 'mcgraw', 'awsome', 'Ack', 'hooo', 'OOooOO', 'Post-haste', 'P.', 'hooooo', 'heeee', 'MUAH', 'mauh', 'gonna', 'chocha', 'ppolitical', 'burito', 'plenaty', 'Gorda', '18ST', 'shaun', 'innocense', '-o', 'hahahahahaha', 'yoll', 'nakey', ':blush:', 'reallly', 'sdlfkjsj', 'sumpin', 'smirkz', 'argh', 'Liam', 'howz', '10th', 'aime', 'Pullin', 'e1', 'lol', 'actualy', 'ello', 'enuf', 'cho-co-la-te', 'n;t', 'bandsaw', 'owuldnt', 'Yeh', 'smax', 'dyslexic', 'metallica', 'dl', 'fuckin', 'mmmmmmmmiiiiiiiiinnnnnnnnneeeeeeee', 'geessh', 'sucka', 'Meep', 'excitin', 'hissy', 'hx', 'Lil', 'dirrrrty', 'lucy-fur', 'listenin', 'PayPal', 'lyin', 'okay', 'itz', 'othah', 'everone', 'Foley', 'pssssh', 'DAamn', 'febe', 'brb', 'haha', 'hahhahahaha', 'Cyber', 'AKST', 'yerself', 'SSRI', 'ppl', 'tounge', 'Ahhh', 'pffft', 'coggieeee', 'wth', 'kev', 'n9ne', 'spose', 'soojn', 'mkay', 'barbie', 'yoooou', 'CanEhda', 'no-no', 'goooooo', 'tx', 'allo', 'dat', 'otay', 'TYPR', 'waitin', 'awwwwwww', 'AFK', 'lol.', 'leakin', 'heyyyyy', 'Playstation', 'ahhhhhh', 'aim.com', 'px', 'wv', 'nite', 'latina', 'clooney', 'mornin', 'UK', 'sexist', 'arggghhh', 't/c', 'que', 'GNG', 'doupt', 'brooklyn', 'pervin', 'oooooooooooglyyyyyyyy', 'concernin', 'bj', '.(..(.vMp3 v1.7.4.).)', 'Heya', 'Chingy', 'awwwwww', 'Uhh', 'internet', 'biyatch', 'bro', 'google', 'OOH', 'ny', 'ms.', 'sigur', 'Boyz', 'ghet', 'wb', 'wellbutrin', 'paitently', 'blankie', 'powter', 'mowin', 'remembah', 'depeche', 'Rofl', 'hehehe', 'Borat', 'yum', 'missin', 'wc', 'bc', 'riiiight', 'bein', 'aaahhhh', 'muhaha', 'dya', 'Okkkkkk', 'Chica', 'sexiest', 'handyMan', 'ahhhh', 'diseast', 'nm', 'canadaian', 'hel', 'n/', 'online', 'ky', 'donno', 'b-day', '=D', 'Omg', 'GIRLS', 'wOOt', 'yay', 'fuck', 'meeeeeeeeeeeee', 'LuverZ', 'OC', 'raarrrrrr', 'G-Mobile', 'mami', 'lotsa', 'mahn', 'sunnn', 'lolololll', 'courst', 'havin', 'PERVS', 'dahlin', 'bootay', 'jr', 'drivin', 'shakin', 'talkcity', 'tootsie', 'Salisbury', 'wz', 'frst', 'Soilwork', \"shakin'\", 'youre', 'cmon', 'alot', 'cali', 'ewwwww', 'ebay', 'biebsa', 'thah', 'tjhe', 'hahahahahahahahahahahahahahahaha', \"s'\", 'sp', 'gaspppp', 'beckley', 'PmS', 'whjat', 'heyyyyyyyy', 'youuuu', 'welome', 'ontrobution', 'horriable', 'caint', '*grins*', 'mama', 'ther', \"shinnin'\", 't he', 'ep', 'sheesh', 'serg', 'p u s s y', 'wahoooooooski', '=O', 'estefan', 'op', 'nickleback', 'heyyy', 'ltr', 'pmsl', \"makin'\", 'heee', 'nbc', 'Nadda', 'tah', 'eww', 'UFC', 'bbiam', 'IM', 'DJ', 'bio', 'hehehee', 'PDT', 'nyc', \"y'\", 'miiiiiiiiiiiiinnnnnnnnnnneeeeeeeeee', 'yayayayayyy', 'ooeer', 'darlin', 'Booyah', 'London', 'cya', 'heyyyyyy', 'laguna', 'dryer', 'TX', 're-think', 'tazzmaniane', 'moanin', 'eeww', 'Nashville', 'teo', 'peppersteak', 'Dokken', 'anti-sexy', 'ft.', 'heyyyy', 'pp', 'yout', 'geesh', 'Swackhammer', 'rey', 'lmfao', 'phylosipher', 'wuuppin', 'Dawnstar', 'ehh', 'throught', 'vs.', 'ogan', 'jw', 'gret', 'apoligize', 'uh', 'nuff', 'prittier', 'Ico', 'comp', 'Whistlin', 'w/', 'fettish', 'NY', 'goodnight', 'tok', 'gguyyyzzzz', 'tighty', ':O', 'Hahaaaa', 'dreammm', 'thnx', 'VBox', 'SHOWS', 'tdr', 'Mom', 'wanna', 'yvw', \"e'wjfghky\", 'hom', 'ooooook', \"rollin'\", 'pasa', 'dawg', 'MP3', 'puhleaze', 'zzzzzzzz', 'hugzzzzzzz', 'lasts30', 'Yay', '*hugs*', 'damnit', 'dem', 'sux', 'convo', 'chattin', 'chica', 'pvt', 'eng', 'Dr', 'akon', '(__I__)', 'psh', 'yeee', 'pleez', 'dokey', 'nuttin', 'shit', 'jumpin', 'pc', 'nc', 'nicer', 'ohhh', 'http', 'lawl', 'Sat.', 'wiggleZ', 'Mooooooooooooooooooooooooooo', 'jush', 'tryer', 'waddup', 'oldest', 'PMING', 'wansta', 'talkin', 'splelnig', 'Dipset', 'lmaooo', \"n't\", 'dunno', 'homophobic', 'FreesBee', 'Silverstein', 'tatatatnanaantatat', 'oooOOOOoooo', 'Ahhhh', 'ifr', 'oppertunity', 'XXXXXXXXXX', 'eeewww', 'mmmmmmmmmmmmm', 'whewwwwww', 'PRIVMSG', 'Jeter', 'shorty', 'byeeeeeeee', 'ontario', 'beachhhh', 'http://forums.talkcity.com/tc-adults/start ', 'heh', 'maidstone', 'ooo', 'caan', 'feet', 'playstation', 'iz', 'spain', 'booboo', 'dojn', 'Temp.', 'opr', 'hmmm', 'loc', 'omg', 'afe', 'TELLIN', 'anymore', 'dayum', 'humple', 'tv', 'll', 'Marlaya', 'soo', 'mmm', 'VVil', 'thx', 'rofl', 'nawp', 'whatca', '*blush*', 'uuuhhh', 'aiiiiiiiiiiiiiiiiiiiiiiii', 'garciae', 'hahahaHA', \"ya'\", 'Shinedown', 'llloooozzzzeeerrrrzzzzzzzzzzzzzzzzzzzzzzzzzzzzzzzzzzzzzzzzzzzzzzzzz', 'recieve', 'ahhh', 'plz', 'burger', 'sheesin', 'Daveeee', 'TY', 'grea', 'newp', 'knockin', 'plently', 'brbbb', 'heyyyyyyyyyyyyyy', 'declaw', 'OOPS', 'normy', 't/y', 'fck', 'sweeeeeeeeet', 'Roadrunner', 'fart', 'Nooo', 'askin', 'email', 'mmmmmmmmmmmmmm', 'rumour', 'hhehe', 'children', 'un-freeze', 'coolcat', 'hawT', 'evah', 'hehehehe', 'gm', 'hoo', 'dik', '2DAY', 'Hott', 'goodbye', 'chanowner', 'conway', 'lez', 'bi', 'veg', 'chineese', 'comin', 'AKDT', 'YALL', 'orta', 'WANNA', 'tthe', 'hahaaa', 'asshole', 'sexcite', 'appologize', 'deeper', \"doin'\", 'sumfin', 'cnnecticut', 'hawaii', 'NTMN', 'shouldve', 'cuz', 'yw', 'fongul', 'aligator', 't-shirt', 'de-tubetop', 'az', 'icky', 'cyb3r-lover', 'helloooo', 'elo', 'grrl', 'non-smoker', 'purty', 'burpin', 'mmhmm', 'chanop', 'hmmmmmmmm', 'Metallica', 'Joshy', 'hii', 'brrrrrrr', 'JRZ', 'hiiii', 'co', 'outa', 'sesky', 'fella', 'mornign', ':beer:', 'ridem', 'byeee', 'scuk', 'soakin', '~winkZ~', 'EST', 'twoel', 'worl', 'com', 'O.K', 'ohhhhhh', 'hmmmmmmmmmm', \"'ve\", 'Chamillionaire', 'ol', 'kc', 'hohohohhohhoo', 'pleaseeeee', 'happpy', 'j/k', 'bf', 'gentlemen', 'uk', 'yada', 'sowwy', 'hr', 'affari', 'haaa', 'nyone', '.owner.', 'hahahahaaa', 'n\"t', 'martini', 'hiii', 'aloha', 'withdrawl', ':tongue:', 'paypal', 'hix', 'goddamn', 'superhiway', 'hiya', 'Ooo', 'roomate', 'anyyyyyyyyyyyyyyyyy', 'muahzzzz', 'onuimso', 'awww', 'Ive', \"'m\", 'lmaoo', 'ewww', 'hottie', 'chatr', 'Lousiana', 'WEEEEEEEEEEEEEEEEEE', 'babay', 'knw', 'pfft', 'raaaaaaaaaaaaaaaaaaaaaaaaaaaaa', '*VBS*', 'sevendust', 'cookie', 'wisconsin', 'wooooooooooooohoooooooooooooooo', 'subsitute', '//www.wunderground.com/cgi-bin/findweather/getForecast?query=95953#FIR', 'fetterline', 'johny', 'Salut', 'combo', 'poorrr', 'pm', 'ohwa', 'use full', 'goin', 'salsa', '=p', 'okey', 'aTerry', 'humm', 'magine', 'FF', 'w/b', 'awwww', 'tooo', 'seminilla', 'niteeeeeeeeeeeeeeeeeee', 'typin', 'cyb3r', 'senor', 'z-ro', 'capab;e', 'peolpe', 'hav', 'sicily', 'noooooooooooooo', 'KoOL', '*WOW*', 'Tyrese', 'teehee', \"cyberin'\", 'COM', '20S', 'meyooky', 'O.o', 'nicname', 'specalily', 'ja', 'mmmmm', 'ahah', 'va', 'ty', 'xcitable', 'canadain', 'ballin', 'atl', 'oi', 'BLONDES', 'Ahh', 'eitther', 'standin', 'shhhh', 'meredith', 'benz', 'Laguna', 'omggg', 'downnnnnn', 'LONLEY', 'CAPS', 'gtg', 'futurama', 'waaa', 'ooh', 'outta', 'CO', 'Indiantown', 'wowsa', 'beuty', 'laptop', 'screamo', 'nothin', 'doin', 'driveby', 'elbowS', 'PS', 'RULES', \"'ello\", 'nj', 'hheeyy', 'wher', 'checkin', 'lucifuge', 'btw', 'Wtf', 'cusion', 'vm', 'babblein', 'Jonesboro', 'woooohoooo', 'boooooooooooglyyyyyy', 'kewl', 'quistion', 'muahhhhh', 'suree', 'O.k.', 'QQ', 'Hahhaa', 'kennedy', 'd=', 'ughhh', 'mmmmmmmmmm', \"talkin'\", 'buh', 'beleive', 'lamborghini', 'whoaaaaaaaaaaaa', 'Rothlisburger', 'soory', 'completly', 'oo', 'msn', '*smewchies*', 'heyy', 'Fergie', 'jackie', 'ltnc', 'walderslade', 'brwn', 'sincy', 'mofo', 'scusezzy', 'ewwwwww', 'unisom', 'reunion.', 'huuuuuuuuuuuuuuuuuuuuuuuuuuuuuuuuuuugZ', 'kiddin', 'sum1', 'ovr', 'e-mail', 'cooooooooookiiiiiiiiiiiieeeeeeeeeeee', 'rotflmao', 'sexi', 'pssst', 'este', 'ohhhh', 'fawk', 'nodda', 'yello', 'stinky', 'eeewwwwww', 'theere', 'Ty', 'suprise', ':love:', 'scuba', 'S.M.R.', 'gurrrrl', 'Hmm', 'yepper', 'moanz', 'sleepin', 'fishercat', 'evertonr', 'cepn', 'boght', 'Aww', 'cyber.', 'isnt', 'sorta', 'webcam', 'yuuuuuuuuuuuummmmmmmmmmmm', 'gotaa', 'pppppppppppew', 'gn', 'Biiiiiitch', 'heeheeheeheeheehee', 'Hallo', 'ryaon', 'ahhhhhhhhhhhhhh', 'chp', 'weeeeeeeee', 'sox', 'jajajaaa', 'wed-lock', 'redneck', 'Bwhaha', 'thot', 'awwwwwwwwww', 'gurlie', 'tlak', 'buddyyyyyy', 'oatmel', 'HOTT', 'xxxxxx', 'thje', 'Jordison', 'alterz', 'lala', 'gettysburg', 'lil', '<empty>', 'fawker', 'illin', 'teh', 'wif', 'wazz', 'oot', 'Nooooooooooooooo', 'splenda', 'ooer', 'ohhhhhhhhhhhhhhhh', 'Elev', 'FL', 'xbox', 'chococake', 'neysa', 'owww', 'hahahhahah', 'choc', 'placce', 'gooo', 'y/w', 'prrty', 'realise', 'mame', 'freeezinggggg', 'AOL.COM', 'LMAO', 'CST', 'tryina', 'hiom', 'goodie', 'hertory', 'heeeey', 'o.O', 'whou', 'hb', 'johnson', 'exwife', 'holdin', 'hahahahahahaha', 'hendrix', 'geeze', 'o_0', 'aynawy', ';p', 'o.o', 'tennesee', 'Wyte', 'netflix', 'sooo', 'ooooooo', 'k-mart', 'loveliest', 'receprion', 'lambergini', 'waht', 'cho-co-late', 'bigest', 'Catterick', 'mm', 'HolocaustYourMom', 'yup', 'fraggle', 'Wellbutrin', '~smirkZ~', 'tommorrow', 'Zoloft', 'myspace.com', \"c'm\", 'Wisconsin', 'heheh', 'ahahah', 'lllllllliiiiiiiiiikeee', 'hheeyyy', 'eay', 'woot', 'www.Wunderground.com', \"N'T\", 'creme', 'paxil', 'wahoooooooo', 'wooo', 'ltnsea', 'DOWNS', 'playin', 'thru', 'kool', 'byeeee', 'geeshhh', 'rarly', 'everbody', 'PMSL', 'thang', 'nooooo', 'homeade', 'italy', 'usa', 'laughin', 'fallout', 'umm', 'MD', 'Horace', 'youer', ':P', 'NC', 'lovin', 'brady', '~blusherZ~', 'beeehave', 'aqwesome', 'sw', 'tenn', 'WTF', 'im', 'OMG', 'Cheeeez', 'wiltou', 'boi', 'ck', 'whoopZ', 'Children', 'foreplay', 'Ohh', 'controllin', 'birfday', 'tennessee', 'dork', 'oOo', 'coffe', 'bumber', 'Seee', 'alohaaa', 'lolol', 'denzel', 'nada', ':D', 'sullivan', 'lix', 'hPa', 'Heyyyyyyy', 'Denver', 'bak', 'AHHAH', 'comprende', 'oooooooooooo', 'fav', 'anythin', 'software', 'noooooooooo', 'bitdh', 'abou', 'anygirl', 'lmaooooo', 'WHISPre', 'Hummmm', 'sleep over', 'waz', '.(..(.vMp3 vi.p.t.)..).', 'wheeeeeeeeeeeeeeeeeeeeeeeeeeeeeeeeee', 'strickly', 'aok', 'Ridin', 'wooooohoooo', \"'re\", 'nickelback', 'Heyyy', 'wanan', 'nce', 'bachelorette', 'lb', 'e-bay', 'akron', 'LOVES', 'nah', 'gettin', 'problemo', 'hahah', 'kong', 'ewwwwwww', 'blowjob', \"sayin'\", 'balck', 'goodnite', 'Okay', 'fallz', 'grrrrrrrr', 'mmmmk', 'wothough', 'satisfie', 'ahh', 'HAHA', 'stron', 'whooo', 'controll', 'gf', 'ono', \"ol'\", 'Gracemont', 'mmmomom', 'laffin', 'gaaaaaaay', 'byb', 'AHAHH', 'gettign', '1-900-anal-sex', 'Eticket', 'gotta', 'appologise', 'Tennessee', 'dsklgjsdk', 'Heyy', 'Mmm', 'gezzz', 'IRC', 'e-v-e-r-y', 'Maidstone', 'innit', 'hiy', 'urself', 'louisianna', 'mmmm', 'thinkin', 'trippy', 'duh', 'Niceeeee', 'biatch', 'hott', 'coudl', 'Barbieee', 'Kittie', ':p', 'hmmmmm', 'perv', 'whhhooooo', 'pro-se', 'P.ussy', 'despie', 'Screach', 'o_O', 'gritt', 'hafta', 'hearin', 'HHEEYYYYYYYYYYYYYYYYYYYYYYYYYYYYYYYYYYYYYYYYYYYYYYY', 'totaly', 'watchin', 'tc', 'whatcha', 'chik', 'riiiiight', 'Permenant', 'Haha', 'yessum', 'manson', 'o.0', 'cpr', 'rapest', 'fock', 'appleton', 'Uhhh', 'hmph', 'yall', 'http://www.shadowbots.com', 'ooperative', 'win win', 'PM', 'nevah', 'gottsa', 'LIX', 'fishin', 'ft', 'anytime', 'awrighty', 'neone', 'excuuuuuuse', 'pokin', 'wonderin', 'lookin', '*sniffs*', 'o0', 'congrat', 'Yoko', 'copone', 'Lmfao', 'Shaneeeeeeeee', 'infor', 'AHAHHA', \"'n'\", 'weeeeeeeeeeeeeeee', 'CHATHIDE', 'Ctrl', 'hahaha', 'roleplay', 'j/p', 'Jayse', \"'ll\", 'chatt', 'uffff', 'sldfjlsdf', 'seconds.', 'Whitesnake', 'hawt', 'Ummm', 'asnwer', 'bloe', 'puter', 'N\"T', 'Hiya', 'beeeeehave', 'wana', 'tellin', 'geeZe', 'Im', 'themself', 'heya', 'perth', 'tere', 'Uh', 'b/c', 'macho', 'hgfhgfjgf', 'il', 'grrrrrrrrrrrrrrrrr', 'f.b.i.', 'hmmmm', 'diggin', '.A.n.a.c.?.n.?.a.', 'blew', 'dotn', '*waves*', 'CT', 'enuff', 'Awww', 'nawwww', 'guyz', 'Aiken', 'whitte', 'descriminate', 'goneee', 'sayn', 'ummm', 'Everytime', 'CUZ', 'hahahaa', 'flippin', 'imma', 'prono', 'nauty', 'wantin', 'walmart', 'woooooooooaaaahhhhhhhhhhhh', 'dangit', 'aww', 'seeee', 'Mp3', 'Froogle', 'samn', 'appearently', \"pm'n\", 'shup', 'USA', 'Paxil', 'poeple', 'armtnpeat', 'coem', 'hola', 'Louisville', 'co-op', 'thanx', 'b4', 'Lmao', 'Russion', 'Shakin', 'Nickelback', 'Whaaa', 'n e', 'adreniline', 'geeshh', 'fkajslf', 'lthen', 'mspace', 'hhaaaaatttee', 'smallfry', 'ive', 'asl', 'welll', 'JTo', 'imhave', 'DETROIT', '( o Y o )', 'moochhhhhhhhh', 'schlep', 'fillin', \"g'\", 'petanmart', 'Yarrrr', 'sry', 'sweetshybbw', 'qwertyuiop', 'contast', 'yesh', 'fuddahnut', 'chatroom', 'DVD', 'wearin', 'hopin', 'ewwww', 'LOL', 'BAAAAALLLLLLLLIIIIIIINNNNNNNNNNN', 'wtf', 'hahahaha', 'mp3', 'nakie', 'sf', 'yooou', 'women', 'movin', 'porn', 'freeeezinggg', 'aaaaaaaaaaaaaaaaa', 'lamborgini', 'HAHAHA', 'coonarsee', 'Niceeee', 'LOl', 'idnt', '-stay-', 'T-Mobile', 'url', 'heyheyhey', 'ROFL', 'CALI', 'sammich', 'erm', 'any1', 'mikeeeeeeeeeeeeeeeeeeeeeeeeee', 'polllution', 'freakin', 'blech', 'comon', 'Kewl', 'douchebag', 'Wowsa', 'luv', 'cyber', 'woah', 'definately', 'Rutger', 'born-again', 'lool', 'hmmmmmmm', 'o0o', 'darwin', 'o.k.', 'mmmmmm', 'ps2', ':o *', 'ladz', 'robbie', 'hahahah', 'CDT', 'out.', 'o<|=D', 'mmmkay', 'wasup', 'harley', 'IL', 'sleepover', 'bwahahahahahahahahahaha', 'halfa', 'Ontario', 'syck', '<perk>', 'Vroooom', 'GrlZ', 'tooooooooooo', 'azerbaijan', 'byeeeeeeeeeeeee', 'Lol', 'miiiiiinnnnnnnnnneeeeeeee', 'telllin', 'lmaoooo', 'yes.', 'nz', 'bbl', 'nic', 'Wb', 'fer', 'backatchya', 'edmonton', 'heyyyyyyyyyy', 'eeekk', 'hih', 'match.', 'SYNDORME', 'jerimiah', 'eroticaust', 'SINGLEEEEEEEE', 'oO', 'eeeek', 'dunkin', 'alotta', 'Ciara', 'heyyyyyyyyy', 'F5', 'msg', 'kneez', 'vuela', 'Muahz', '\\\\ty', 'myspace', 'lurkin', 'agaibn', 'muahhh', 'hyy', 'GN', 'respec', 'offa', 'Connecticutt', 'callifornia', 'grrrrrrrrr', 'gente', 'Ohhh', 'shoppin', 'Zyban', 'reschedual', 'pr', 'tryin', 'Meh', 'FOLKS', 'grrr', 'wel', 'nebraska', 'o/~', 'lixxx', 'vetrabrate', ':-o', 'doublewide', 'estra', 'f.', 'oooh', 'dman', 'Tisk', 'gamefly']\n"
     ]
    }
   ],
   "source": [
    "print(unusual_list)"
   ]
  },
  {
   "cell_type": "code",
   "execution_count": 238,
   "metadata": {
    "collapsed": false
   },
   "outputs": [
    {
     "name": "stdout",
     "output_type": "stream",
     "text": [
      "False\n"
     ]
    }
   ],
   "source": [
    "# print('4ever' in chat_word_list)"
   ]
  },
  {
   "cell_type": "markdown",
   "metadata": {
    "collapsed": true
   },
   "source": [
    "## Solution 2 &nbsp;&nbsp;&nbsp;&nbsp;&nbsp;&nbsp;&nbsp;&nbsp;&nbsp;&nbsp;&nbsp;&nbsp;&nbsp;&nbsp; Code From 'Sumit Deo'"
   ]
  },
  {
   "cell_type": "code",
   "execution_count": 13,
   "metadata": {
    "collapsed": true
   },
   "outputs": [],
   "source": [
    "import nltk  # importing nltk package"
   ]
  },
  {
   "cell_type": "code",
   "execution_count": 14,
   "metadata": {
    "collapsed": true
   },
   "outputs": [],
   "source": [
    "from nltk.corpus import nps_chat  # importing nps_chat\n",
    "from nltk.corpus import words  # importing words"
   ]
  },
  {
   "cell_type": "code",
   "execution_count": 15,
   "metadata": {
    "collapsed": false
   },
   "outputs": [
    {
     "name": "stdout",
     "output_type": "stream",
     "text": [
      "['10-19-20s_706posts.xml', '10-19-30s_705posts.xml', '10-19-40s_686posts.xml', '10-19-adults_706posts.xml', '10-24-40s_706posts.xml', '10-26-teens_706posts.xml', '11-06-adults_706posts.xml', '11-08-20s_705posts.xml', '11-08-40s_706posts.xml', '11-08-adults_705posts.xml', '11-08-teens_706posts.xml', '11-09-20s_706posts.xml', '11-09-40s_706posts.xml', '11-09-adults_706posts.xml', '11-09-teens_706posts.xml']\n"
     ]
    }
   ],
   "source": [
    "all_files = nps_chat.fileids()\n",
    "print(all_files)  # printing all the files in the nps_chat package"
   ]
  },
  {
   "cell_type": "code",
   "execution_count": 16,
   "metadata": {
    "collapsed": true
   },
   "outputs": [],
   "source": [
    "wordsStop = map(str.lower, nltk.corpus.stopwords.words('english')) # reading all the stop words\n",
    "wordsStop = list(wordsStop)"
   ]
  },
  {
   "cell_type": "code",
   "execution_count": 17,
   "metadata": {
    "collapsed": true
   },
   "outputs": [],
   "source": [
    "words = map(str.lower, nltk.corpus.words.words())  # reading all the usual words\n",
    "words = list(set(words) - set(wordsStop)) # remving stop words"
   ]
  },
  {
   "cell_type": "code",
   "execution_count": 18,
   "metadata": {
    "collapsed": true
   },
   "outputs": [],
   "source": [
    "postsList = []\n",
    "for file in all_files :  # iterating through all the files\n",
    "    postsList.extend(nps_chat.posts(file))\n",
    "wordsList = []\n",
    "for post in postsList :  # iterating through all the posts\n",
    "    wordsList.extend(post)\n",
    "uniqueWordList = map(str.lower, set(wordsList))  # removing duplicates\n",
    "uniqueWordList = list(uniqueWordList)"
   ]
  },
  {
   "cell_type": "code",
   "execution_count": 19,
   "metadata": {
    "collapsed": true
   },
   "outputs": [],
   "source": [
    "import string\n",
    "uniqueWordList = list(set(uniqueWordList) - set(wordsStop))\n",
    "#uniqueWordList = [word for word in uniqueWordList if word.isalpha()] # removing numbers, empty string, punctuation\n",
    "uniqueWordList = [''.join(ch for ch in word if ch not in string.punctuation) for word in uniqueWordList] # removing punctuation\n",
    "uniqueWordList = [word for word in uniqueWordList if word] # removing empty string\n",
    "uniqueWordList = [word for word in uniqueWordList if not all(num.isdigit() for num in word)] # removing all the numbers\n",
    "# removing all the usernames\n",
    "uniqueWordList = [word for word in uniqueWordList if not (all(num.isdigit() for num in word[1:]) and word[0] == 'u')]"
   ]
  },
  {
   "cell_type": "code",
   "execution_count": 20,
   "metadata": {
    "collapsed": false
   },
   "outputs": [
    {
     "name": "stdout",
     "output_type": "stream",
     "text": [
      "1536 unusual words people speak in chat.\n"
     ]
    }
   ],
   "source": [
    "# converting all the plurals to singular & all lemmatizing the verb\n",
    "from nltk.stem import WordNetLemmatizer\n",
    "from nltk.tokenize import word_tokenize\n",
    "\n",
    "wnl = WordNetLemmatizer()\n",
    "lemmatized_words = [wnl.lemmatize(token) for token in uniqueWordList] # convert all the words to sigular\n",
    "lemmatized_words = [wnl.lemmatize(token, 'v') for token in lemmatized_words] # lemmatize all the verbs\n",
    "unusualWords = list(set(lemmatized_words) - set(words)) # removing usual words\n",
    "print(len(unusualWords), \"unusual words people speak in chat.\")"
   ]
  },
  {
   "cell_type": "code",
   "execution_count": 21,
   "metadata": {
    "collapsed": false
   },
   "outputs": [
    {
     "name": "stdout",
     "output_type": "stream",
     "text": [
      "['booyah', 'lapd', 'sp', 'gaspppp', 'iamahotniplickme', 'catterick', 'ciara', 'goodnite', 'nad', 'ahahh', 'homeboy', 'lmaoo', 'ewedding', 'computor', 'noo', 'dokken', 'fallz', 'kmph', 'lysol', 'silverstein', 'grrrrrrrr', 'syndorme', 'headach', 'ewww', 'mmmmk', 'beckley', 'hottie', 'willis', 'donut', 'singleeeeeeee', 'whjat', 'lpn', 'mising', 'stans', 'heyyyyyyyy', 'jto', '18st', 'wothough', 'chatr', 'youuuu', 'satisfie', 'tabbed', 'kid', 'babay', 'welome', '  ', 'knw', 'pfft', 'mooooooooooooooooooooooooooo', 'ontrobution', 'fl', 'shpwing', 'horriable', 'raaaaaaaaaaaaaaaaaaaaaaaaaaaaa', 'streched', 'sevendust', 'yummylicious', 'ack', 'cookie', 'wisconsin', 'caint', 'ssid', 'wooooooooooooohoooooooooooooooo', 'naughtier', 'ahh', 'givs', 'subsitute', 'stron', 'whooo', 'whaaa', 'zoloft', 'mama', 'ther', 'fetterline', 'misbeahve', 'muahz', 'permenant', 't he', 'ep', 'johny', 'lampert', 'sheesh', 'serg', 'boinked', 'p u s s y', 'wahoooooooski', 'controll', 'gurls', 'combo', 'gf', 'estefan', 'ono', 'grilfriend', 'poorrr', 'pm', 'proud', 'op', 'huggss', 'can', 'nickleback', 'pweeze', 'heyyy', 'ohwa', 'use full', 'goin', 'ltr', 'kawing', 'mmmomom', 'jk', 'laffin', 'pmsl', 'mena', 'kinda', 'gaaaaaaay', 'pedofile', 'byb', 'yoko', 'giva', 'heee', 'amazingness', 'salsa', 'screach', 'whupped', 'fulfil', 'willams', 'gettign', 'ladis', 'nbc', 'bbbbbyyyyyyyeeeeeeeee', 'talkcity20s', 'okey', 'yu', 'xd', 'ntmn', 'tah', 'gotta', 'muh', 'nevermind', 'hfglhs', 'humm', 'themselvs', 'hgey', 'he', 'magine', 'iamahotnipwithhotnippics', 'appologise', 'dsklgjsdk', 'dr', 'boyz', 'eww', 'h0rny', 'awwww', 'tooo', 'seminilla', 'whistlin', 'bbiam', 'niteeeeeeeeeeeeeeeeeee', 'fergalicious', 'gezzz', 'hmm', 'typin', 'mom', 'froogle', 'smarter', 'bio', 'hehehee', 'seee', 'detroit', 'cyb3r', 'bornagain', 'pming', 'nyc', 'cheking', 'hm', 'dummmm', 'innit', 'yeppers', 'baaaaalllllllliiiiiiinnnnnnnnnnn', 'hiy', 'senor', 'ringtones', 'urself', 'louisianna', 'moonie', 'co op', 'mmmm', 'miiiiiiiiiiiiinnnnnnnnnnneeeeeeeeee', 'yayayayayyy', 'invisiable', 'thinkin', 'ooeer', 'trippy', 'duh', 'happend', 'fing', 'noth', 're', 'hio', 'whered', 'darlin', 'uhhh', 'cya', 'homies', 'tacoma', 'csi', 'louisville', 'babycakeses', 'peolpe', 'hav', 'biatch', 'hott', 'heyyyyyy', 'fucker', 'laguna', 'coudl', 'frm', 'httpforumstalkcitycomtcadultsstart ', 'jus', 'dryer', 'defragging', 'slkfjsldkfjs', 'england', 'tazzmaniane', 'moanin', 'cool1024', 'eeww', 'losted', 'ihavehotnips', 'sicily', 'pas', 'noooooooooooooo', 'teo', 'eeek', 'hmmmmm', 'pujols', 'shes', 'peppersteak', 'httpwwwshadowbotscom', 'teehee', 'criscross', 'eeeeeeeeewwwwwwww', 'heyyyy', 'suked', 'lavendar', 'pp', 'perv', 'daamn', 'meyooky', 'whhhooooo', 'yout', 'ussy', 'wheres', 'irl', 'nicname', 'geesh', 'despie', 'in', 'specalily', 'ja', 'grrrrrring', 'backroom', 'mmmmm', 'mothas', 'rey', 'lesbo', 'lmfao', 'gritt', 'ahah', 'muzak', 'perved', 'hafta', 'lmao', 'hearin', 'phylosipher', 'wuuppin', 'biiiatch', 'chathide', 'hows', 'caiuse', 'handyman', 'va', 'whitey', 'ty', 'trippin', 'definitley', 'nashville', 'errrrr', 'xcitable', 'fwd', 'ehh', 'eticket', 'throught', 'totaly', 'do', 'dood', 'wrek', 'ogan', 'afk', 'beattles', '40splus', 'retared', 'canadain', 'jw', 'iggyd', 'watchin', 'ballin', 'gret', 'raed', 'apoligize', 'uh', 'daveeee', 'tc', 'stuffin', 'burryed', 'nuff', 'ques', 'whitesnake', 'prittier', 'kt', 'atl', 'whatcha', 'chik', 'riiiiight', 'oi', 's', 'bandito', 'eitther', 'comp', 'guyzz', 'standin', 'shhhh', 'awesomee', 'yessum', 'bahahahaa', 'oppsss', 'couldnt', 'fettish', 'meredith', 'pmn', 'benz', 'zro', 'goodnight', 'poooland', 'privmsg', 'huuuuuuuuuuuuuuuuuuuuuuuuuuuuuuuuuuugz', 'nekkies', 'tok', 'perving', 'acros', 'manson', 'gguyyyzzzz', 'tighty', 'cougs', 'qq', 'freaing', 'omggg', 'cpr', 'downnnnnn', 'rapest', 'fock', 'meep', 'zebrahead', 'shups', 'appleton', 'gtg', 'futurama', 'livin', 'chcken', 'dreammm', 'hmph', 'ooopppps', 'waaa', 'yall', 'ooh', 'thnx', 'hotties', 'outta', 'dd', 'ooperative', 'win win', 'grlz', 'oops', 'mhm', 'hang', 'tdr', 'tyvm', 'wowsa', 'adduser', 'beuty', 'wanna', 'laptop', 'screamo', 'yvw', 'cheaking', 'nevah', 'gottsa', 'nothin', 'doin', 'niceeeee', 'driveby', 'hom', 'indiantown', 'fishin', 'every1', 'ooooook', 'ft', 'nj', 'anytime', 'dj', 'tonawanda', 'gmobile', 'hheeyy', 'wher', 'pasa', 'checkin', 'lucifuge', 'awrighty', 'hheeyyyyyyyyyyyyyyyyyyyyyyyyyyyyyyyyyyyyyyyyyyyyyyy', 'btw', 'cusion', 'vm', 'babblein', 'i', 'neone', 'woooohoooo', 'excuuuuuuse', 'pokin', 'boooooooooooglyyyyyy', 'dawg', 'kewl', 'wonderin', 'lookin', 'o0', 'finers', 'puhleaze', 'quistion', 'muahhhhh', 'congrat', 'zzzzzzzz', 'suree', 'copone', 'hugzzzzzzz', 'm', 'tisk', 'prolly', 'thristy', 'infor', 'weeeeeeeeeeeeeeee', 'grettings', 'lasts30', 'who', 'sposs', 'ldskdlsf', 'schmoopies', 'tyrese', 'hangin', ' ', 'kennedy', 'kittie', 'ohh', 'deop', 'ughhh', 'mmmmmmmmmm', 'damnit', '60', 'femine', 'cheeeez', 'ciao', 'dem', 'zzzzzzzing', 'sux', 'hahaha', '3', 'buh', 'roleplay', 'beleive', 'lamborghini', 'whoaaaaaaaaaaaa', 'shinedown', 'convo', 'chattin', 'du', 'congrats', 'soory', 'chica', 'chatt', 'completly', 'uffff', 'offence', 'oo', 'pvt', 'doody', 'sldfjlsdf', 'yoder', 'mri', 'eng', 'msn', 'hawt', 'naples', 'handheld', 'dipset', 'norny', 'heyy', 'akon', 'whisling', 'psh', 'ahhahahaha', 'deleware', 'out', 'dontcha', 'cdt', 'jackie', 'asnwer', 'rn', 'wats', 'cuteass', 'ltnc', 'youuu', 'gayoholic', 'yeee', 'bacl', 'walderslade', 'pleez', 'dokey', 'insuklting', 'bloe', 'nuttin', 'oy', 'iamahotnip', 'mcgraw', 'brwn', 'puter', 'sincy', 'shit', 'jumpin', 'cst', 'mofo', 'nooooooooooooooo', 'scusezzy', 'fishercats', 'ewwwwww', 'awsome', 'unisom', 'pc', 'nc', 'xxxed', 'wubs', 'yarrrr', 'everytime', 'kiddin', 'nicer', 'sum1', 'beeeeehave', 'ovr', 'wana', 'confusting', 'fragged', 'wwwwundergroundcom', 'hooo', 'salut', 'tellin', 'mwahhs', 'ohhh', 'minigames', 'uyes', 'http', 'lawl', 'cooooooooookiiiiiiiiiiiieeeeeeeeeeee', 'proocessing', 'le', 'rotflmao', 'meh', 'sexi', 'litening', 'suprised', 'pssst', 'este', 'ohhhh', 'themself', 'fawk', 'early20s', 'heya', 'hooooo', 'jerkettes', 'it', 'perth', 'heeee', 'nodda', 'mauh', 'tere', 'gonna', 'werd', 'chocha', 'yello', 'stinky', 'barbieee', 'macho', 'cyas', 'kold', 'eeewwwwww', 'ppolitical', 'hgfhgfjgf', 'nerd', 'jush', 'hiyas', 'tryer', 'burito', 'plenaty', 'omnious', 'pdt', 'aolcom', 'il', 'grrrrrrrrrrrrrrrrr', 'whaaaaats', 'hmmmm', 'recomend', 'bb', 'waddup', 'oopps', 'shaun', 'fawked', 'marlaya', 'innocense', 'theere', 'diggin', 'wimmins', 'oldest', 'disocvered', 'myspacecom', 'hahahahahaha', 'muahsssssssssssssssssss', 'suprise', 'yoll', 'dotn', 'ico', 'virius', 'wansta', 'nakey', 'enuff', 'reallly', 'nawwww', 'sdlfkjsj', 'talkin', 'sumpin', 'ctrl', 'scuba', 'splelnig', 'smirkz', 'shaneeeeeeeee', 'typr', 'lmaooo', 'chamillionaire', 'pwns', 'guyz', 'argh', 'agurlwithbigguns', 'intersting', 'whitte', 'dunno', 'descriminate', 'homophobic', 'howz', 'tatatatnanaantatat', 'tennies', 'anithing', 'comenting', 'gurrrrl', 'mwahs', '10th', 'laffs', 'yepper', 'goneee', 'sayn', 'moanz', 'peaceandquiet', 'cardnials', 'sleepin', 'fishercat', 'ummm', 'ifr', 'oppertunity', 'aime', 'hahahaa', 'kfed', 'evertonr', 'elev', 'flippin', 'o', 'davis', 'e1', 'cepn', 'ewjfghky', 'lol', 'imma', 'czeching', 'prono', 'nauty', 'foxwoods', 'actualy', 'vvil', 'boght', 'vmp3 vipt', 'oooooo', 'wantin', 'yikesssss', 'ello', 'jeter', 'isnt', 'tshirt', 'enuf', 'walmart', 'webcam', 'sorta', 'yuuuuuuuuuuuummmmmmmmmmmm', 'rothlisburger', 'f5', 'neverneverland', 'gotaa', 'woooooooooaaaahhhhhhhhhhhh', 'pppppppppppew', 'yikes', 'euphamisms', 'dangit', 'aww', 'mainland', 'ahhah', 'gn', 'seeee', 'zyban', 'heeheeheeheeheehee', 'whoopz', 'bandsaw', 'owuldnt', 'samn', 'fkalicious', 'ryaon', 'appearently', 'eeewww', 'mmmmmmmmmmmmm', 'birdgang', 'whewwwwww', 'jrz', 'ahhhhhhhhhhhhhh', 'ltns', 'chp', 'shup', 'd', 'shorty', 'download', 'poeple', 'sox', 'weeeeeeeee', 'mfer', 'byeeeeeeee', 'ontario', 'armtnpeat', 'smax', 'jajajaaa', 'ehusband', 'dyslexic', 'metallica', 'jerketts', 'beachhhh', 'coem', 'nt', 'others', 'heh', 'ri', 'vroooom', 'hola', 'redneck', 'edgewood', 'maidstone', 'hots', 'dl', 'tks', 'ooo', 'fuckin', 'mmmmmmmmiiiiiiiiinnnnnnnnneeeeeeee', 'thot', 'geessh', 'aimcom', 'caan', 'louder', 'kickass', 'playstation', 'awwwwwwwwww', 'ii', 'sucka', 'gurlie', 'iz', 'tlak', 'thanx', 'spain', 'jujubees', 'dratts', 'b4', 'buddyyyyyy', 'winkz', 'oatmel', 'booboo', 'baord', 'alwys', 'excitin', 'hissy', 'dojn', 'xxxxxx', 'opr', 'thje', 'hmmm', 'loc', 'omg', 'withing', 'hx', 'dirrrrty', 'husteling', 'wigglez', 'n e', 'adreniline', 'geeshh', 'afe', 'an', 'fkajslf', 'alterz', 'lthen', 'fbi', 'mspace', 'est', 'anymore', 'dayum', 'hhaaaaatttee', 'humple', 'lala', 'smallfry', 'tv', 'listenin', 'll', 'gettysburg', 'ciggareets', 'ive', 'lil', 'lousiana', 'horace', 'lyin', 'fawker', 'illin', 'opps', 'okay', 'talkcityadults', 'itz', 'teh', 'bishes', 'wif', 'othah', 'asl', '2pac', 'everone', 'backfrontsidewaysandallaroundtheworld', 'soo', 'welll', 'y', 'vbs', 'skateboard', 'wazz', 'mmm', 'oot', 'imhave', 'pssssh', 'splenda', 'wildcard', 'burried', 'boing', 'febe', 'moochhhhhhhhh', 'ooer', 'brb', 'ohhhhhhhhhhhhhhhh', 'erics', 'wwwwundergroundcomcgibinfindweathergetforecastquery95953fir', 'schlep', 'fillin', 'xbox', 'flatts', 'thx', 'rofl', 'nawp', 'haha', 'whatca', 'uhh', 'vbox', 'petanmart', 'jammies', 'hahhahahaha', 'sry', 'sweetshybbw', 'qwertyuiop', 'uuuhhh', 'freesbee', 'kness', 'glitch', 'chococake', 'neysa', 'yerself', 'jordison', 'paradis', 'contast', 'london', 'ppl', 'yesh', 'tounge', 'owww', 'love4s', 'pffft', 'frags', 'coggieeee', 'yws', 'fuddahnut', 'wth', 'hahahhahah', 'chatroom', 'choc', 'hallo', 'cuddlicious', 'placce', 'wearin', 'hopin', 'capabe', 'ewwww', 'gooo', 'kev', 'photshopped', 'akst', 'prrty', 'aiiiiiiiiiiiiiiiiiiiiiiii', 'n9ne', 'wtf', 'hahahaha', 'spose', 'soojn', 'realise', 'garciae', 'mame', 'mp3', 'ct', 'mkay', 'freeezinggggg', 'llloooozzzzeeerrrrzzzzzzzzzzzzzzzzzzzzzzzzzzzzzzzzzzzzzzzzzzzzzzzzz', 'barbie', 'recieve', 'yoooou', 'o ', 'missn', 'arround', 'yeh', 'nakie', 'tryina', 'hiom', 'goodie', 'hertory', 'sf', 'heeeey', 'balad', 'yooou', 'whou', 'hb', 'johnson', 'movin', 'exwife', 'goooooo', 'porn', 'msutah', 'fliuds', 'tx', 'rutger', 'holdin', 'hahahahahahaha', 'monthes', 'freeeezinggg', 'ahhh', 'be', 'aaaaaaaaaaaaaaaaa', 'lamborgini', 'allo', 'heys', 'hendrix', 'geeze', 'splains', 'luvs', 'coonarsee', 'dat', 'jucilicious', 'aynawy', 'tennesee', 'plz', 'iamahotnipwithpics', 'otay', 'netflix', 'oc', 'hummmm', 'idnt', 'gracemont', 'burger', 'seagull', 'bday', 'heyyyyyyy', 'sheesin', 'sooo', 'ooooooo', 'cripos', 'waitin', 'loveliest', 'receprion', 'url', 'heyheyhey', 'awwwwwww', 'makin', 'lambergini', 'adoted', 'leakin', 'heyyyyy', 'waht', 'fergie', 'grea', 'ahhhhhh', 'newp', 'knockin', 'bigest', 'px', 'injureis', 'sammich', 'mm', 'impared', 'clinicals', 'wv', 'erm', 'nite', 'obbts', 'retahhhhded', 'ooooooooooo', 'latina', 'yup', 'plently', 'cm', 'brbbb', 'clooney', 'twizted', 'any1', 'russion', 'proked', 'mikeeeeeeeeeeeeeeeeeeeeeeeeee', 'fraggle', 'polllution', 'freakin', 'mornin', 'okikes', 'seuss', 'tommorrow', 'currious', 'rollin', 'wyte', 'msners', 'heyyyyyyyyyyyyyy', 'whispre', 'gagas', '1900analsex', 'cu', 'declaw', 'detubetop', 'sexist', 'smoochies', 'arggghhh', 'normy', 'blech', 'comon', 'heheh', 'lubbs', 'canehda', 'me', 'ahahah', 'fck', 'vmp3 v174', 'douchebag', 'sweeeeeeeeet', 'que', 'luverz', 'luv', 'profilrs', '20', 'doupt', 'roadrunner', 'cyber', 'lllllllliiiiiiiiiikeee', 'med', 'hheeyyy', 'playas', 'brooklyn', 'ridin', 'bloooooooood', 'fart', 'pervin', 'plssss', 'oooooooooooglyyyyyyyy', 'eay', '1cos', 'weeeeeeeeeeeeeeeeee', 'bloooooooooood', 'woot', 'jonesboro', 'woah', 'bloooooooooooood', 'creme', 'paxil', 'weenis', 'definately', 'wahoooooooo', 'wooo', 'askin', 'ltnsea', 'email', 'concernin', 'mmmmmmmmmmmmmm', 'bj', 'rumour', 'hhehe', 'fairbanks', 'lool', 'defrags', 'hmmmmmmm', 'connecticutt', 'playin', 'ufc', 'coolcat', 'awwwwww', 'thru', 'xxxxxxxxxx', 'internet', 'o0o', 'huskers', 'kool', 'darwin', 'mmmmmm', 'ps2', 'evah', 'biyatch', 'bro', 'cleveland', 'nadda', 'okies', 'google', 'byeeee', 'antidepressant', 'boyfriend', 'hehehehe', 'ladz', 'ny', 'robbie', 'hahahah', 'nooo', 'whuuped', 'geeshhh', 'teenager', 'sigur', 'gm', 'rarly', 'lucyfur', 'freind', 'hoo', 'everbody', 'down', 'mmmkay', 'wasup', 'beatles', 'forwads', 'dik', 'harley', 'pullin', 'pmers', 'lonley', 'hpa', 'laters', 'sleepover', 'anacna', 'coworkers', 'tmobile', 'goodbye', 'smewchies', 'wussups', 'bwahahahahahahahahahaha', 'ghet', 'halfa', 'chanowner', 'thang', 'nooooo', 'huggs', 'wb', 'homeade', 'wellbutrin', 'liam', 'conway', 'paitently', 'lez', 'italy', 'antisexy', 'bi', 'holocaustyourmom', 'veg', 'as', 'usa', 'laughin', 'chineese', 'fallout', 'umm', 'why', 'comin', 'blankie', 'powter', 'mowin', 'hearthechatters', 'syck', 'orta', 'ooppsss', 'remembah', 'oates', 'depeche', 'youer', 'weeeeeeeeeeeeeeeeeeeeeeeeed', 'dawnstar', 'barfights', 'lovin', 'hehehe', 'tthe', 'waddle', 'tooooooooooo', 'hahaaa', 'yum', 'brady', 'asshole', 'missin', 'azerbaijan', 'beeehave', 'sexcite', 'appologize', 'deeper', 'wc', 'aqwesome', 'sw', 'sumfin', 'tenn', 'cnnecticut', 'blusherz', 'byeeeeeeeeeeeee', 'hawaii', 'miiiiiinnnnnnnnnneeeeeeee', 'telllin', 'lmaoooo', 'nz', 'bbl', 'im', 'mwahhss', 'shouldve', 'cuz', 'nic', 'bc', 'hugggs', 'riiiight', 'abourted', 'bein', 'yw', 'aaahhhh', 'muhaha', 'dya', 'dy', 'kellogs', 'fer', 'wiltou', 'fongul', 'aligator', 'scrollin', 'cyb3rlover', 'dumbass', 'sexiest', 'backatchya', 'okkkkkk', 'prideisland', 'az', 'boi', 'ahhhh', 'sayin', 'edmonton', 'diseast', 'icky', 'nm', 'heyyyyyyyyyy', 'gawd', 'fcktards', 'borat', 'ck', 'eeekk', 'canadaian', 'hel', 'foreplay', 'hih', 'talkiing', 'helloooo', 'othing', 'controllin', 'aterry', 'online', 'birfday', 'elo', 'grrl', 's3x0r', 'girlfriend', 'tennessee', 'ky', 'cyberin', 'hahaaaa', 'donno', 'purty', 'burpin', 'dork', 'thows', 'biiiiiitch', 'fuked', 'coffe', 'salisbury', 'jerimiah', 'passin', 'eroticaust', 'denver', 'bumber', 'mmhmm', 'alohaaa', 'chanop', 'hmmmmmmmm', 'lolol', 'denzel', 'nada', 'hii', 'serties', '2nd', 'brrrrrrr', 'sullivan', 'lix', 'eherpes', 'eeeek', 'hiiii', 'wuts', 'co', 'outa', 'sesky', 'dunkin', 'fella', 'alotta', 'yay', 'fuck', 'meeeeeeeeeeeee', 'mornign', 'raarrrrrr', 'heyyyyyyyyy', 'mami', 'ridem', 'bak', 'byeee', 'joshy', 'msg', 'scuk', 'kneez', 'comprende', 'oooooooooooo', 'soilwork', 'vuela', 'fav', 'oooooooooooooonnnnnnnnnnnneeeeeeeeeeeeeeesssssssss', 'lotsa', 'chingy', 'anythin', 'okd', 'soakin', 'ff', 'irc', 'myspace', 'lurkin', 'multitasking', 'mahn', 'software', 'sunnn', 'lolololll', 'courst', 'havin', 'agaibn', 'twoel', 'akdt', 'dahlin', 'jayse', 'muahhh', 'bootay', 'aiken', '1419teens', 'kookies', 'noooooooooo', 'worl', 'niceeee', 'com', 'jp', 'bitdh', 'jr', 'hyy', 'bwhaha', 'abou', 'pervs', 'anygirl', 'lmaooooo', 'md', 'nortenos', 'respec', 'offa', 'alzheimers', 'drivin', 'ohhhhhh', 'sleep over', 'waz', 'shakin', 'talkcity', 'callifornia', 'hartford', 'wheeeeeeeeeeeeeeeeeeeeeeeeeeeeeeeeee', 'hmmmmmmmmmm', 'strickly', 'aok', 'tootsie', 'compoud', 'grrrrrrrrr', 'yepper s', 've', 'ol', 'kc', 'skydive', 'dvd', 'hohohohhohhoo', 'gorda', ' o y o ', 'pleaseeeee', 'happpy', 'there', 'bf', 'neked', 'gente', 'uk', 'swackhammer', 'ahahha', 'wz', 'yada', 'hahhaa', 'wooooohoooo', 'hr', 'sowwy', 'nickelback', 'ssri', 'affari', 'shoppin', 'wanan', 'nce', 'frst', '2day', 'bachelorette', 'lb', 'akron', 'haaa', 'reschedual', 'nyone', 'pr', 'hahahahaaa', 'foley', 'tryin', 'nah', 'bied', 'martini', 'boed', 'hiii', 'gettin', 'problemo', 'awesomes', 'nd', 'hahah', 'laterssss', 'youre', 'grrr', 'muahssssssssssssssss', 'cmon', 'alot', 'aloha', 'kong', 'withdrawl', 'cali', 'wel', 'smr', 'nebraska', 'paypal', 'ewwwwwww', 'hix', 'blowjob', 'ewwwww', 'nicnames', 'lixxx', 'goddamn', 'pokkies', 'ops', 'ebay', 'biebsa', 'vetrabrate', 'doublewide', 'superhiway', 'estra', 'shinnin', 'hiya', 'nn', 'muah', 'thah', 'roomate', 'gng', 'nono', 'chatland', 'anyyyyyyyyyyyyyyyyy', 'tjhe', 'muahzzzz', 'oooh', 'dman', 'hahahahahahahahahahahahahahahaha', 'onuimso', 'frenchkiss', 'awww', 'didnts', 'kmart', 'balck', 'gamefly']\n"
     ]
    }
   ],
   "source": [
    "print(unusualWords)"
   ]
  },
  {
   "cell_type": "code",
   "execution_count": null,
   "metadata": {
    "collapsed": true
   },
   "outputs": [],
   "source": []
  }
 ],
 "metadata": {
  "kernelspec": {
   "display_name": "Python [Root]",
   "language": "python",
   "name": "Python [Root]"
  },
  "language_info": {
   "codemirror_mode": {
    "name": "ipython",
    "version": 3
   },
   "file_extension": ".py",
   "mimetype": "text/x-python",
   "name": "python",
   "nbconvert_exporter": "python",
   "pygments_lexer": "ipython3",
   "version": "3.5.2"
  }
 },
 "nbformat": 4,
 "nbformat_minor": 0
}
