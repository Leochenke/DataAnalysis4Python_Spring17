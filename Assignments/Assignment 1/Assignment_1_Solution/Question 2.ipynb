{
 "cells": [
  {
   "cell_type": "markdown",
   "metadata": {},
   "source": [
    "# Question 2\n",
    "- Under package Gutenberg get content from file 'melville-moby_dick.txt. (HINT: words? raw?)\n",
    "- Find out frequency of 26 characters. (Turn uppercase into lowercase and count as one character)\n",
    "- List all 26 characters in order base on their frequency. (From most frequent to least frequent)<br>\n",
    "  Try NOT to use FreqDist module."
   ]
  },
  {
   "cell_type": "markdown",
   "metadata": {},
   "source": [
    "## Solution 1"
   ]
  },
  {
   "cell_type": "code",
   "execution_count": 1,
   "metadata": {
    "collapsed": true
   },
   "outputs": [],
   "source": [
    "from nltk.corpus import gutenberg"
   ]
  },
  {
   "cell_type": "code",
   "execution_count": 2,
   "metadata": {
    "collapsed": true
   },
   "outputs": [],
   "source": [
    "raw_text = gutenberg.raw('melville-moby_dick.txt')   # Get content from file, Use 'RAW'. (think why not use 'words')"
   ]
  },
  {
   "cell_type": "code",
   "execution_count": 3,
   "metadata": {
    "collapsed": true
   },
   "outputs": [],
   "source": [
    "char_dict = {}"
   ]
  },
  {
   "cell_type": "code",
   "execution_count": 4,
   "metadata": {
    "collapsed": false
   },
   "outputs": [],
   "source": [
    "for char in raw_text:         \n",
    "    if char.isalpha():         # Find all alpha and convert uppercase to lowercase, then get their frequency\n",
    "        char_low = char.lower()\n",
    "        if char_low in char_dict.keys():\n",
    "            char_dict[char_low] += 1\n",
    "        else: \n",
    "            char_dict[char_low] = 1"
   ]
  },
  {
   "cell_type": "code",
   "execution_count": 5,
   "metadata": {
    "collapsed": false
   },
   "outputs": [
    {
     "name": "stdout",
     "output_type": "stream",
     "text": [
      "{'b': 16877, 'l': 42793, 'r': 52134, 'g': 20820, 'u': 26697, 't': 87996, 'i': 65434, 'o': 69326, 'm': 23277, 'f': 20833, 'w': 22222, 'v': 8598, 'd': 38219, 'y': 16872, 'n': 65617, 'c': 22507, 'e': 117092, 'p': 17255, 'z': 632, 'x': 1030, 'a': 77916, 'k': 8059, 'j': 1082, 'h': 62896, 'q': 1556, 's': 64231}\n"
     ]
    }
   ],
   "source": [
    "print(char_dict)"
   ]
  },
  {
   "cell_type": "code",
   "execution_count": 6,
   "metadata": {
    "collapsed": true
   },
   "outputs": [],
   "source": [
    "import operator"
   ]
  },
  {
   "cell_type": "code",
   "execution_count": 7,
   "metadata": {
    "collapsed": true
   },
   "outputs": [],
   "source": [
    "sorted_freq_list = list(sorted(char_dict.items(), key=operator.itemgetter(1), reverse=True))  # Sort dictionary"
   ]
  },
  {
   "cell_type": "code",
   "execution_count": 8,
   "metadata": {
    "collapsed": false
   },
   "outputs": [
    {
     "name": "stdout",
     "output_type": "stream",
     "text": [
      "The Order of Characters by Their frequency:\n",
      " ['e', 't', 'a', 'o', 'n', 'i', 's', 'h', 'r', 'l', 'd', 'u', 'm', 'c', 'w', 'f', 'g', 'p', 'b', 'y', 'v', 'k', 'q', 'j', 'x', 'z']\n"
     ]
    }
   ],
   "source": [
    "new_list = []\n",
    "for char in sorted_freq_list:     # Print 26 characters in order base on their frequency as a list\n",
    "    new_list.append(char[0])\n",
    "print('The Order of Characters by Their frequency:\\n', new_list)"
   ]
  },
  {
   "cell_type": "markdown",
   "metadata": {},
   "source": [
    "## Solution 2"
   ]
  },
  {
   "cell_type": "code",
   "execution_count": 9,
   "metadata": {
    "collapsed": true
   },
   "outputs": [],
   "source": [
    "from nltk import FreqDist"
   ]
  },
  {
   "cell_type": "code",
   "execution_count": 13,
   "metadata": {
    "collapsed": false
   },
   "outputs": [
    {
     "name": "stdout",
     "output_type": "stream",
     "text": [
      "<FreqDist with 26 samples and 951971 outcomes>\n"
     ]
    }
   ],
   "source": [
    "char_dist = FreqDist(ch.lower() for ch in raw_text if ch.isalpha())    # Use FreqDist to get frequency\n",
    "print(char_dist)"
   ]
  },
  {
   "cell_type": "code",
   "execution_count": 14,
   "metadata": {
    "collapsed": false
   },
   "outputs": [],
   "source": [
    "sorted_freq_list2 = sorted(char_dist.items(), key=operator.itemgetter(1), reverse=True)  # Sort FreqDist"
   ]
  },
  {
   "cell_type": "code",
   "execution_count": 15,
   "metadata": {
    "collapsed": false
   },
   "outputs": [
    {
     "name": "stdout",
     "output_type": "stream",
     "text": [
      "The Order of Characters by Their frequency:\n",
      " ['e', 't', 'a', 'o', 'n', 'i', 's', 'h', 'r', 'l', 'd', 'u', 'm', 'c', 'w', 'f', 'g', 'p', 'b', 'y', 'v', 'k', 'q', 'j', 'x', 'z']\n"
     ]
    }
   ],
   "source": [
    "new_list2 = []\n",
    "for char in sorted_freq_list:\n",
    "    new_list2.append(char[0])\n",
    "print('The Order of Characters by Their frequency:\\n', new_list2)"
   ]
  },
  {
   "cell_type": "code",
   "execution_count": null,
   "metadata": {
    "collapsed": true
   },
   "outputs": [],
   "source": []
  }
 ],
 "metadata": {
  "anaconda-cloud": {},
  "kernelspec": {
   "display_name": "Python [Root]",
   "language": "python",
   "name": "Python [Root]"
  },
  "language_info": {
   "codemirror_mode": {
    "name": "ipython",
    "version": 3
   },
   "file_extension": ".py",
   "mimetype": "text/x-python",
   "name": "python",
   "nbconvert_exporter": "python",
   "pygments_lexer": "ipython3",
   "version": "3.5.2"
  }
 },
 "nbformat": 4,
 "nbformat_minor": 0
}
