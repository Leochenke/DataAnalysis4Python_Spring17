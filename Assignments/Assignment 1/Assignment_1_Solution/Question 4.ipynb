{
 "cells": [
  {
   "cell_type": "markdown",
   "metadata": {},
   "source": [
    "# Question 4\n",
    "- Under package nps_chat, see what files are in it.\n",
    "- Find 'user121' and see how many posts he posted in all.\n",
    "- Find out how many unique user in each age range group. (20s, 30s,...)(Hint: files' name)"
   ]
  },
  {
   "cell_type": "code",
   "execution_count": 1,
   "metadata": {
    "collapsed": true
   },
   "outputs": [],
   "source": [
    "from nltk.corpus import nps_chat as nps"
   ]
  },
  {
   "cell_type": "code",
   "execution_count": 2,
   "metadata": {
    "collapsed": false
   },
   "outputs": [
    {
     "data": {
      "text/plain": [
       "['10-19-20s_706posts.xml',\n",
       " '10-19-30s_705posts.xml',\n",
       " '10-19-40s_686posts.xml',\n",
       " '10-19-adults_706posts.xml',\n",
       " '10-24-40s_706posts.xml',\n",
       " '10-26-teens_706posts.xml',\n",
       " '11-06-adults_706posts.xml',\n",
       " '11-08-20s_705posts.xml',\n",
       " '11-08-40s_706posts.xml',\n",
       " '11-08-adults_705posts.xml',\n",
       " '11-08-teens_706posts.xml',\n",
       " '11-09-20s_706posts.xml',\n",
       " '11-09-40s_706posts.xml',\n",
       " '11-09-adults_706posts.xml',\n",
       " '11-09-teens_706posts.xml']"
      ]
     },
     "execution_count": 2,
     "metadata": {},
     "output_type": "execute_result"
    }
   ],
   "source": [
    "nps.fileids()"
   ]
  },
  {
   "cell_type": "code",
   "execution_count": 3,
   "metadata": {
    "collapsed": false
   },
   "outputs": [
    {
     "data": {
      "text/plain": [
       "nltk.corpus.reader.util.ConcatenatedCorpusView"
      ]
     },
     "execution_count": 3,
     "metadata": {},
     "output_type": "execute_result"
    }
   ],
   "source": [
    "posts = nps.xml_posts()    # Get all posts content from all nps files.\n",
    "len(posts)\n",
    "type(posts)"
   ]
  },
  {
   "cell_type": "code",
   "execution_count": 4,
   "metadata": {
    "collapsed": true
   },
   "outputs": [],
   "source": [
    "post_count = 0\n",
    "for post in posts:\n",
    "    if post.get('user').endswith('User121'):  # Find out all posts posted by User121 make a count.\n",
    "        post_count += 1"
   ]
  },
  {
   "cell_type": "code",
   "execution_count": 5,
   "metadata": {
    "collapsed": false
   },
   "outputs": [
    {
     "name": "stdout",
     "output_type": "stream",
     "text": [
      "Total Posts of 'User121' is:  132\n"
     ]
    }
   ],
   "source": [
    "print('Total Posts of \\'User121\\' is: ', post_count)"
   ]
  },
  {
   "cell_type": "code",
   "execution_count": 12,
   "metadata": {
    "collapsed": true
   },
   "outputs": [],
   "source": [
    "user_list_20s = []      # Declear different list for each age range group.\n",
    "user_list_30s = []\n",
    "user_list_40s = []\n",
    "user_list_adults = []\n",
    "user_list_teens = []"
   ]
  },
  {
   "cell_type": "code",
   "execution_count": 13,
   "metadata": {
    "collapsed": false
   },
   "outputs": [],
   "source": [
    "for file in nps.fileids():      # Go through each file from nps_chat.\n",
    "    posts = nps.xml_posts(file)   # Get content of each file.\n",
    "    age = file[6:-13]            # Find age group by filename.\n",
    "    for post in posts:         # Go through each post\n",
    "        if age == '20s':                     # Find exact age group first.  \n",
    "            user = post.get('user')[10:]          # Then find user of each post. Most of you do not have this step.\n",
    "            if user not in user_list_20s:    # Save in related list without redundant.\n",
    "                user_list_20s.append(user)  \n",
    "        elif age == '30s':\n",
    "            user = post.get('user')[10:]\n",
    "            if user not in user_list_30s:\n",
    "                user_list_30s.append(user)\n",
    "        elif age == '40s':\n",
    "            user = post.get('user')[10:]\n",
    "            if user not in user_list_40s:\n",
    "                user_list_40s.append(user)\n",
    "        elif age == 'adults':\n",
    "            user = post.get('user')[13:]\n",
    "            if user not in user_list_adults:\n",
    "                user_list_adults.append(user)\n",
    "        elif age == 'teens':\n",
    "            user = post.get('user')[12:]\n",
    "            if user not in user_list_teens:\n",
    "                user_list_teens.append(user)"
   ]
  },
  {
   "cell_type": "code",
   "execution_count": 14,
   "metadata": {
    "collapsed": false
   },
   "outputs": [
    {
     "name": "stdout",
     "output_type": "stream",
     "text": [
      "Number of Users in Different Age Range:\n",
      "20s:  162\n",
      "30s:  44\n",
      "40s:  80\n",
      "adults:  138\n",
      "teens:  206\n"
     ]
    }
   ],
   "source": [
    "print('Number of Users in Different Age Range:')                \n",
    "print('20s: ', len(user_list_20s))\n",
    "print('30s: ', len(user_list_30s))\n",
    "print('40s: ', len(user_list_40s))\n",
    "print('adults: ', len(user_list_adults))\n",
    "print('teens: ', len(user_list_teens))"
   ]
  },
  {
   "cell_type": "code",
   "execution_count": null,
   "metadata": {
    "collapsed": false
   },
   "outputs": [],
   "source": []
  }
 ],
 "metadata": {
  "anaconda-cloud": {},
  "kernelspec": {
   "display_name": "Python [Root]",
   "language": "python",
   "name": "Python [Root]"
  },
  "language_info": {
   "codemirror_mode": {
    "name": "ipython",
    "version": 3
   },
   "file_extension": ".py",
   "mimetype": "text/x-python",
   "name": "python",
   "nbconvert_exporter": "python",
   "pygments_lexer": "ipython3",
   "version": "3.5.2"
  }
 },
 "nbformat": 4,
 "nbformat_minor": 0
}
