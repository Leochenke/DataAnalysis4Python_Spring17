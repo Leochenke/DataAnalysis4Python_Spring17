{
 "cells": [
  {
   "cell_type": "markdown",
   "metadata": {},
   "source": [
    "## Things try to avoid in later assignments or projects"
   ]
  },
  {
   "cell_type": "code",
   "execution_count": 2,
   "metadata": {
    "collapsed": true
   },
   "outputs": [],
   "source": [
    "from nltk.corpus import gutenberg"
   ]
  },
  {
   "cell_type": "code",
   "execution_count": 5,
   "metadata": {
    "collapsed": true
   },
   "outputs": [],
   "source": [
    "persuasion = gutenberg.raw('austen-persuasion.txt')"
   ]
  },
  {
   "cell_type": "code",
   "execution_count": 7,
   "metadata": {
    "collapsed": false
   },
   "outputs": [
    {
     "name": "stdout",
     "output_type": "stream",
     "text": [
      "ed over\n",
      "the almost endless creations of the last century; and there,\n",
      "if every other leaf were powerless, he could read his own history\n",
      "with an interest which never failed.  This was the page at which\n",
      "the favourite volume always opened:\n",
      "\n",
      "           \"ELLIOT OF KELLYNCH HALL.\n",
      "\n",
      "\"Walter Elliot, born March 1, 1760, married, July 15, 1784, Elizabeth,\n",
      "daughter of James Stevenson, Esq. of South Park, in the county of\n",
      "Gloucester, by which lady (who died 1800) he has issue Elizabeth,\n",
      "born June 1, 1785; Ann\n"
     ]
    }
   ],
   "source": [
    "# print(persuasion)             !!!!DO NOT PRINT THE WHOLE RAW DATA!!!!! \n",
    "print(persuasion[500:1000])    #Just print few lines will be enough."
   ]
  },
  {
   "cell_type": "code",
   "execution_count": 24,
   "metadata": {
    "collapsed": false
   },
   "outputs": [
    {
     "name": "stdout",
     "output_type": "stream",
     "text": [
      "['[Persuasion', 'by', 'Jane', 'Austen', '1818]\\n\\n\\nChapter', '1\\n\\n\\nSir', 'Walter', 'Elliot,', 'of', 'Kellynch', 'Hall,', 'in', 'Somersetshire,', 'was', 'a', 'man', 'who,\\nfor', 'his', 'own', 'amusement,', 'never', 'took', 'up', 'any', 'book', 'but', 'the', 'Baronetage;\\nthere', 'he', 'found']\n"
     ]
    }
   ],
   "source": [
    "words_list = []\n",
    "a = words_list\n",
    "for word in list(persuasion.split(' ')):\n",
    "    words_list.append(word)\n",
    "#print(words_list)                    # DO NOT PRINT WHOLE RESULT IF IT IS TOO BIG !!!!!\n",
    "print(words_list[:30])                # Do it like this. "
   ]
  },
  {
   "cell_type": "code",
   "execution_count": 25,
   "metadata": {
    "collapsed": false
   },
   "outputs": [
    {
     "name": "stdout",
     "output_type": "stream",
     "text": [
      "77799\n"
     ]
    }
   ],
   "source": [
    "print(len(a))        # DO NOT DO THIS. What is a ? What does this number mean?"
   ]
  },
  {
   "cell_type": "code",
   "execution_count": 26,
   "metadata": {
    "collapsed": false
   },
   "outputs": [
    {
     "name": "stdout",
     "output_type": "stream",
     "text": [
      "Total words appeared in book persuasion: 77799\n"
     ]
    }
   ],
   "source": [
    "print('Total words appeared in book persuasion:',len(words_list))     # Print your result like this."
   ]
  },
  {
   "cell_type": "markdown",
   "metadata": {},
   "source": [
    "## More notice\n",
    "- Write a title for each question, tell us what is following code for. \n",
    "- Do NOT write all your code in a single block. Write them as given solutions!\n",
    "- Write comments to explain some of your KEY code. NO necessary to write comments for each single line!"
   ]
  },
  {
   "cell_type": "markdown",
   "metadata": {},
   "source": [
    "## One last thing\n",
    "- Before you submit your code. Make sure your code is executable. If the code returns errors, we will consinder this question is not solved. \n",
    "- Click 'Cell'on the top --> In dropdown menu click 'Run ALL' --> Make sure all cells are giving the right output --> SUBMIT!"
   ]
  },
  {
   "cell_type": "code",
   "execution_count": null,
   "metadata": {
    "collapsed": true
   },
   "outputs": [],
   "source": []
  }
 ],
 "metadata": {
  "kernelspec": {
   "display_name": "Python [Root]",
   "language": "python",
   "name": "Python [Root]"
  },
  "language_info": {
   "codemirror_mode": {
    "name": "ipython",
    "version": 3
   },
   "file_extension": ".py",
   "mimetype": "text/x-python",
   "name": "python",
   "nbconvert_exporter": "python",
   "pygments_lexer": "ipython3",
   "version": "3.5.2"
  }
 },
 "nbformat": 4,
 "nbformat_minor": 0
}
