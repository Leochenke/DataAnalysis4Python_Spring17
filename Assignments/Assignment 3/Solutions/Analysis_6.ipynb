{
 "cells": [
  {
   "cell_type": "markdown",
   "metadata": {},
   "source": [
    "## Assignment 3_ Part 4_Question 1\n",
    "- Use 'movies_awards' data set.\n",
    "- You are supposed to extract data from the awards column in this dataset and split it into several columns. An example is given below.\n",
    "- The awards has details of wins, nominations in general and also wins and nominations in certain categories(e.g. Oscar, BAFTA etc.)\n",
    "- You are supposed to create a win and nominated column (these 2 columns contain total number of wins and nominations) and other columns that extract the number of wins and nominations for each category of award. \n",
    "- If a movie has 2 Oscar nominations and 4 Oscar won, the columns Oscar_Awards_Won should have value 4 and Oscar_Awards_Nominated should have value 2. You should also have a total won and nominated column which aggregates all the awards (won or nominated). \n",
    "- Create two separate columns for each award category (won and nominated).\n",
    "- Write your output to a csv file. (Sample output is given in next page)."
   ]
  },
  {
   "cell_type": "code",
   "execution_count": 1,
   "metadata": {
    "collapsed": true
   },
   "outputs": [],
   "source": [
    "import pandas as pd\n",
    "import numpy as np\n",
    "from nltk.stem import WordNetLemmatizer as wnl\n",
    "import re"
   ]
  },
  {
   "cell_type": "code",
   "execution_count": 2,
   "metadata": {
    "collapsed": true
   },
   "outputs": [],
   "source": [
    "df = pd.read_csv('Data/movies_awards.csv')"
   ]
  },
  {
   "cell_type": "code",
   "execution_count": 3,
   "metadata": {
    "collapsed": true
   },
   "outputs": [],
   "source": [
    "df=df[df.Awards.notnull()] \n",
    "df=df.reset_index(drop=True)"
   ]
  },
  {
   "cell_type": "code",
   "execution_count": 4,
   "metadata": {
    "collapsed": false
   },
   "outputs": [
    {
     "data": {
      "text/html": [
       "<div>\n",
       "<table border=\"1\" class=\"dataframe\">\n",
       "  <thead>\n",
       "    <tr style=\"text-align: right;\">\n",
       "      <th></th>\n",
       "      <th>totalSeasons</th>\n",
       "      <th>Plot</th>\n",
       "      <th>Rated</th>\n",
       "      <th>Response</th>\n",
       "      <th>Language</th>\n",
       "      <th>Title</th>\n",
       "      <th>Country</th>\n",
       "      <th>Writer</th>\n",
       "      <th>Metascore</th>\n",
       "      <th>imdbRating</th>\n",
       "      <th>...</th>\n",
       "      <th>Released</th>\n",
       "      <th>Actors</th>\n",
       "      <th>Year</th>\n",
       "      <th>Genre</th>\n",
       "      <th>Awards</th>\n",
       "      <th>Runtime</th>\n",
       "      <th>Type</th>\n",
       "      <th>Poster</th>\n",
       "      <th>imdbVotes</th>\n",
       "      <th>imdbID</th>\n",
       "    </tr>\n",
       "  </thead>\n",
       "  <tbody>\n",
       "    <tr>\n",
       "      <th>0</th>\n",
       "      <td>none</td>\n",
       "      <td>A historical classic drama in three acts; reto...</td>\n",
       "      <td>NaN</td>\n",
       "      <td>True</td>\n",
       "      <td>Portuguese</td>\n",
       "      <td>Who Are You?</td>\n",
       "      <td>Portugal</td>\n",
       "      <td>João Botelho; Almeida Garrett (play)</td>\n",
       "      <td>NaN</td>\n",
       "      <td>6.1</td>\n",
       "      <td>...</td>\n",
       "      <td>23 Nov 2001</td>\n",
       "      <td>Patrícia Guerreiro; Suzana Borges; Rui Morisso...</td>\n",
       "      <td>2001</td>\n",
       "      <td>Drama; History</td>\n",
       "      <td>1 win &amp; 2 nominations.</td>\n",
       "      <td>112 min</td>\n",
       "      <td>movie</td>\n",
       "      <td>http://ia.media-imdb.com/images/M/MV5BMTM1Mjdi...</td>\n",
       "      <td>189.0</td>\n",
       "      <td>tt0210930</td>\n",
       "    </tr>\n",
       "    <tr>\n",
       "      <th>1</th>\n",
       "      <td>none</td>\n",
       "      <td>A father (Williams) suspects his son (Jackson)...</td>\n",
       "      <td>R</td>\n",
       "      <td>True</td>\n",
       "      <td>English</td>\n",
       "      <td>Skeletons in the Closet</td>\n",
       "      <td>USA</td>\n",
       "      <td>Donna Powers; Wayne Powers</td>\n",
       "      <td>NaN</td>\n",
       "      <td>5.4</td>\n",
       "      <td>...</td>\n",
       "      <td>24 Jul 2001</td>\n",
       "      <td>Treat Williams; Linda Hamilton; Jonathan Jacks...</td>\n",
       "      <td>2001</td>\n",
       "      <td>Crime; Drama; Mystery</td>\n",
       "      <td>1 win.</td>\n",
       "      <td>100 min</td>\n",
       "      <td>movie</td>\n",
       "      <td>http://ia.media-imdb.com/images/M/MV5BMjA0NjA2...</td>\n",
       "      <td>603.0</td>\n",
       "      <td>tt0212513</td>\n",
       "    </tr>\n",
       "    <tr>\n",
       "      <th>2</th>\n",
       "      <td>none</td>\n",
       "      <td>Four perky; clueless cheerleaders from the Hap...</td>\n",
       "      <td>R</td>\n",
       "      <td>True</td>\n",
       "      <td>English</td>\n",
       "      <td>Cheerleader Ninjas</td>\n",
       "      <td>USA</td>\n",
       "      <td>Kevin Campbell</td>\n",
       "      <td>NaN</td>\n",
       "      <td>2.3</td>\n",
       "      <td>...</td>\n",
       "      <td>25 Nov 2003</td>\n",
       "      <td>Kira Reed Lorsch; Angela Brubaker; Jeff Nichol...</td>\n",
       "      <td>2002</td>\n",
       "      <td>Action; Comedy</td>\n",
       "      <td>1 nomination.</td>\n",
       "      <td>91 min</td>\n",
       "      <td>movie</td>\n",
       "      <td>http://ia.media-imdb.com/images/M/MV5BMjA3MTQ1...</td>\n",
       "      <td>881.0</td>\n",
       "      <td>tt0235280</td>\n",
       "    </tr>\n",
       "    <tr>\n",
       "      <th>3</th>\n",
       "      <td>none</td>\n",
       "      <td>Sandrine; a woman in her thirties gets tired o...</td>\n",
       "      <td>NaN</td>\n",
       "      <td>True</td>\n",
       "      <td>French</td>\n",
       "      <td>The Girl from Paris</td>\n",
       "      <td>France</td>\n",
       "      <td>Christian Carion; Eric Assous</td>\n",
       "      <td>64.0</td>\n",
       "      <td>6.8</td>\n",
       "      <td>...</td>\n",
       "      <td>05 Sep 2001</td>\n",
       "      <td>Michel Serrault; Mathilde Seigner; Jean-Paul R...</td>\n",
       "      <td>2001</td>\n",
       "      <td>Comedy; Drama</td>\n",
       "      <td>3 wins &amp; 2 nominations.</td>\n",
       "      <td>103 min</td>\n",
       "      <td>movie</td>\n",
       "      <td>https://images-na.ssl-images-amazon.com/images...</td>\n",
       "      <td>1715.0</td>\n",
       "      <td>tt0240149</td>\n",
       "    </tr>\n",
       "    <tr>\n",
       "      <th>4</th>\n",
       "      <td>none</td>\n",
       "      <td>A rivalry develops between a showbiz veteran a...</td>\n",
       "      <td>R</td>\n",
       "      <td>True</td>\n",
       "      <td>English</td>\n",
       "      <td>The Final Curtain</td>\n",
       "      <td>UK; USA</td>\n",
       "      <td>John Hodge</td>\n",
       "      <td>NaN</td>\n",
       "      <td>5.8</td>\n",
       "      <td>...</td>\n",
       "      <td>12 Oct 2002</td>\n",
       "      <td>Peter O'Toole; Aidan Gillen; Adrian Lester; Ju...</td>\n",
       "      <td>2002</td>\n",
       "      <td>Drama</td>\n",
       "      <td>1 win &amp; 1 nomination.</td>\n",
       "      <td>85 min</td>\n",
       "      <td>movie</td>\n",
       "      <td>http://ia.media-imdb.com/images/M/MV5BOGI4MmIw...</td>\n",
       "      <td>466.0</td>\n",
       "      <td>tt0243904</td>\n",
       "    </tr>\n",
       "  </tbody>\n",
       "</table>\n",
       "<p>5 rows × 21 columns</p>\n",
       "</div>"
      ],
      "text/plain": [
       "  totalSeasons                                               Plot Rated  \\\n",
       "0         none  A historical classic drama in three acts; reto...   NaN   \n",
       "1         none  A father (Williams) suspects his son (Jackson)...     R   \n",
       "2         none  Four perky; clueless cheerleaders from the Hap...     R   \n",
       "3         none  Sandrine; a woman in her thirties gets tired o...   NaN   \n",
       "4         none  A rivalry develops between a showbiz veteran a...     R   \n",
       "\n",
       "  Response    Language                    Title   Country  \\\n",
       "0     True  Portuguese             Who Are You?  Portugal   \n",
       "1     True     English  Skeletons in the Closet       USA   \n",
       "2     True     English       Cheerleader Ninjas       USA   \n",
       "3     True      French      The Girl from Paris    France   \n",
       "4     True     English        The Final Curtain   UK; USA   \n",
       "\n",
       "                                 Writer  Metascore  imdbRating    ...      \\\n",
       "0  João Botelho; Almeida Garrett (play)        NaN         6.1    ...       \n",
       "1            Donna Powers; Wayne Powers        NaN         5.4    ...       \n",
       "2                        Kevin Campbell        NaN         2.3    ...       \n",
       "3         Christian Carion; Eric Assous       64.0         6.8    ...       \n",
       "4                            John Hodge        NaN         5.8    ...       \n",
       "\n",
       "      Released                                             Actors  Year  \\\n",
       "0  23 Nov 2001  Patrícia Guerreiro; Suzana Borges; Rui Morisso...  2001   \n",
       "1  24 Jul 2001  Treat Williams; Linda Hamilton; Jonathan Jacks...  2001   \n",
       "2  25 Nov 2003  Kira Reed Lorsch; Angela Brubaker; Jeff Nichol...  2002   \n",
       "3  05 Sep 2001  Michel Serrault; Mathilde Seigner; Jean-Paul R...  2001   \n",
       "4  12 Oct 2002  Peter O'Toole; Aidan Gillen; Adrian Lester; Ju...  2002   \n",
       "\n",
       "                   Genre                   Awards  Runtime   Type  \\\n",
       "0         Drama; History   1 win & 2 nominations.  112 min  movie   \n",
       "1  Crime; Drama; Mystery                   1 win.  100 min  movie   \n",
       "2         Action; Comedy            1 nomination.   91 min  movie   \n",
       "3          Comedy; Drama  3 wins & 2 nominations.  103 min  movie   \n",
       "4                  Drama    1 win & 1 nomination.   85 min  movie   \n",
       "\n",
       "                                              Poster imdbVotes     imdbID  \n",
       "0  http://ia.media-imdb.com/images/M/MV5BMTM1Mjdi...     189.0  tt0210930  \n",
       "1  http://ia.media-imdb.com/images/M/MV5BMjA0NjA2...     603.0  tt0212513  \n",
       "2  http://ia.media-imdb.com/images/M/MV5BMjA3MTQ1...     881.0  tt0235280  \n",
       "3  https://images-na.ssl-images-amazon.com/images...    1715.0  tt0240149  \n",
       "4  http://ia.media-imdb.com/images/M/MV5BOGI4MmIw...     466.0  tt0243904  \n",
       "\n",
       "[5 rows x 21 columns]"
      ]
     },
     "execution_count": 4,
     "metadata": {},
     "output_type": "execute_result"
    }
   ],
   "source": [
    "df.head()"
   ]
  },
  {
   "cell_type": "code",
   "execution_count": 5,
   "metadata": {
    "collapsed": false
   },
   "outputs": [
    {
     "data": {
      "text/html": [
       "<div>\n",
       "<table border=\"1\" class=\"dataframe\">\n",
       "  <thead>\n",
       "    <tr style=\"text-align: right;\">\n",
       "      <th></th>\n",
       "      <th>Title</th>\n",
       "      <th>Awards</th>\n",
       "    </tr>\n",
       "  </thead>\n",
       "  <tbody>\n",
       "    <tr>\n",
       "      <th>0</th>\n",
       "      <td>Who Are You?</td>\n",
       "      <td>1 win &amp; 2 nominations.</td>\n",
       "    </tr>\n",
       "    <tr>\n",
       "      <th>1</th>\n",
       "      <td>Skeletons in the Closet</td>\n",
       "      <td>1 win.</td>\n",
       "    </tr>\n",
       "    <tr>\n",
       "      <th>2</th>\n",
       "      <td>Cheerleader Ninjas</td>\n",
       "      <td>1 nomination.</td>\n",
       "    </tr>\n",
       "    <tr>\n",
       "      <th>3</th>\n",
       "      <td>The Girl from Paris</td>\n",
       "      <td>3 wins &amp; 2 nominations.</td>\n",
       "    </tr>\n",
       "    <tr>\n",
       "      <th>4</th>\n",
       "      <td>The Final Curtain</td>\n",
       "      <td>1 win &amp; 1 nomination.</td>\n",
       "    </tr>\n",
       "    <tr>\n",
       "      <th>5</th>\n",
       "      <td>Crazy/Beautiful</td>\n",
       "      <td>5 nominations.</td>\n",
       "    </tr>\n",
       "    <tr>\n",
       "      <th>6</th>\n",
       "      <td>The Anniversary Party</td>\n",
       "      <td>2 wins &amp; 5 nominations.</td>\n",
       "    </tr>\n",
       "    <tr>\n",
       "      <th>7</th>\n",
       "      <td>The Quiet American</td>\n",
       "      <td>Nominated for 1 Oscar. Another 13 wins &amp; 13 no...</td>\n",
       "    </tr>\n",
       "    <tr>\n",
       "      <th>8</th>\n",
       "      <td>Like Cat and Mouse</td>\n",
       "      <td>5 wins &amp; 4 nominations.</td>\n",
       "    </tr>\n",
       "    <tr>\n",
       "      <th>9</th>\n",
       "      <td>Punch-Drunk Love</td>\n",
       "      <td>Nominated for 1 Golden Globe. Another 14 wins ...</td>\n",
       "    </tr>\n",
       "  </tbody>\n",
       "</table>\n",
       "</div>"
      ],
      "text/plain": [
       "                     Title                                             Awards\n",
       "0             Who Are You?                             1 win & 2 nominations.\n",
       "1  Skeletons in the Closet                                             1 win.\n",
       "2       Cheerleader Ninjas                                      1 nomination.\n",
       "3      The Girl from Paris                            3 wins & 2 nominations.\n",
       "4        The Final Curtain                              1 win & 1 nomination.\n",
       "5          Crazy/Beautiful                                     5 nominations.\n",
       "6    The Anniversary Party                            2 wins & 5 nominations.\n",
       "7       The Quiet American  Nominated for 1 Oscar. Another 13 wins & 13 no...\n",
       "8       Like Cat and Mouse                            5 wins & 4 nominations.\n",
       "9         Punch-Drunk Love  Nominated for 1 Golden Globe. Another 14 wins ..."
      ]
     },
     "execution_count": 5,
     "metadata": {},
     "output_type": "execute_result"
    }
   ],
   "source": [
    "temp_df = df.loc[:,['Title','Awards']]\n",
    "temp_df.head(10)"
   ]
  },
  {
   "cell_type": "code",
   "execution_count": 6,
   "metadata": {
    "collapsed": false
   },
   "outputs": [],
   "source": [
    "check_list_1 = temp_df['Awards'].apply(lambda x:re.findall(r\"for \\d+ ([A-Z a-z]+).\",x)[0] if len(re.findall(r\"for \\d+ (\\w.)\",x))!=0 else \"\").unique()"
   ]
  },
  {
   "cell_type": "code",
   "execution_count": 7,
   "metadata": {
    "collapsed": false
   },
   "outputs": [],
   "source": [
    "check_list_2 = temp_df['Awards'].apply(lambda x:re.findall(r\"Won \\d+ ([A-Z a-z]+).\",x)[0] if len(re.findall(r\"Won \\d+ (\\w.)\",x))!=0 else \"\").unique()"
   ]
  },
  {
   "cell_type": "code",
   "execution_count": 8,
   "metadata": {
    "collapsed": false
   },
   "outputs": [],
   "source": [
    "conbine_list = np.append(check_list_1, check_list_2)\n",
    "check_list = []\n",
    "'''wnl = WordNetLemmatizer()\n",
    "for award in conbine_list:\n",
    "    if award != \"\" and award not in check_list:\n",
    "        check_list.append(wnl.lemmatize(award))'''     # Doesn't work for Proper nouns !\n",
    "\n",
    "for award in conbine_list:\n",
    "    if award != \"\": \n",
    "        if award.endswith('s'):\n",
    "            char_list = list(award)       \n",
    "            char_list.pop()             \n",
    "            word = ''.join(char_list)\n",
    "            if word not in check_list:\n",
    "                check_list.append(word)\n",
    "        else:\n",
    "            if award not in check_list:\n",
    "                check_list.append(award)      "
   ]
  },
  {
   "cell_type": "code",
   "execution_count": 9,
   "metadata": {
    "collapsed": false
   },
   "outputs": [
    {
     "data": {
      "text/plain": [
       "['Oscar', 'Golden Globe', 'Primetime Emmy', 'BAFTA Film Award']"
      ]
     },
     "execution_count": 9,
     "metadata": {},
     "output_type": "execute_result"
    }
   ],
   "source": [
    "check_list"
   ]
  },
  {
   "cell_type": "markdown",
   "metadata": {
    "collapsed": true
   },
   "source": [
    "### Split logic part"
   ]
  },
  {
   "cell_type": "code",
   "execution_count": 10,
   "metadata": {
    "collapsed": false
   },
   "outputs": [],
   "source": [
    "# finding digits which preceded 'win' and 'Won'\n",
    "temp_df['Total_Awards_Won']=temp_df.Awards.apply(lambda x:(int(re.findall(r\"(\\d+) win\",x)[0]) if len(re.findall(r\"(\\d+) win\",x))!=0 else 0) \n",
    "                                                 + (int(re.findall(r\"Won (\\d+)\",x)[0]) if len(re.findall(r\"Won (\\d+)\",x))!=0 else 0))"
   ]
  },
  {
   "cell_type": "code",
   "execution_count": 11,
   "metadata": {
    "collapsed": false
   },
   "outputs": [],
   "source": [
    "#Creating Column Awards_nominated and adding values to it\n",
    "temp_df['Total_Awards_Nominated']=temp_df.Awards.apply(lambda x:(int(re.findall(r\"(\\d+) nom\",x)[0]) if len(re.findall(r\"(\\d+) nom\",x))!=0 else 0)\n",
    "                                        + (int(re.findall(r\"Nominated for (\\d+) Pri\",x)[0]) if len(re.findall(r\"Nominated for (\\d+) Pri\",x))!=0 else 0)\n",
    "                                        + (int(re.findall(r\"Nominated for (\\d+) Osc\",x)[0]) if len(re.findall(r\"Nominated for (\\d+) Osc\",x))!=0 else 0)\n",
    "                                        + (int(re.findall(r\"Nominated for (\\d+) Gol\",x)[0]) if len(re.findall(r\"Nominated for (\\d+) Gol\",x))!=0 else 0)\n",
    "                                        + (int(re.findall(r\"Nominated for (\\d+) BAFTA\",x)[0]) if len(re.findall(r\"Nominated for (\\d+) BAFTA\",x))!=0 else 0))"
   ]
  },
  {
   "cell_type": "code",
   "execution_count": 12,
   "metadata": {
    "collapsed": true
   },
   "outputs": [],
   "source": [
    "#Creating Columns and adding values to them\n",
    "temp_df['Prime_Awards_Nominated']=temp_df.Awards.apply(lambda x:(int(re.findall(r\"Nominated for (\\d+) Pri\",x)[0]) if len(re.findall(r\"Nominated for (\\d+) Pri\",x))!=0 else 0))\n",
    "temp_df['Oscar_Awards_Nominated']=temp_df.Awards.apply(lambda x:(int(re.findall(r\"Nominated for (\\d+) Osc\",x)[0]) if len(re.findall(r\"Nominated for (\\d+) Osc\",x))!=0 else 0))\n",
    "temp_df['Golden_Globe_Awards_Nominated']=temp_df.Awards.apply(lambda x:(int(re.findall(r\"Nominated for (\\d+) Gol\",x)[0]) if len(re.findall(r\"Nominated for (\\d+) Gol\",x))!=0 else 0))\n",
    "temp_df['BAFTA_Awards_Nominated']=temp_df.Awards.apply(lambda x:(int(re.findall(r\"Nominated for (\\d+) BAFTA\",x)[0]) if len(re.findall(r\"Nominated for (\\d+) BAFTA\",x))!=0 else 0))\n"
   ]
  },
  {
   "cell_type": "code",
   "execution_count": 13,
   "metadata": {
    "collapsed": true
   },
   "outputs": [],
   "source": [
    "#Creating Columns and adding values to them\n",
    "temp_df['Prime_Awards_Won']=temp_df.Awards.apply(lambda x:(int(re.findall(r\"Won (\\d+) Pri\",x)[0]) if len(re.findall(r\"Won (\\d+) Pri\",x))!=0 else 0))\n",
    "temp_df['Oscar_Awards_Won']=temp_df.Awards.apply(lambda x:(int(re.findall(r\"Won (\\d+) Osc\",x)[0]) if len(re.findall(r\"Won (\\d+) Osc\",x))!=0 else 0))\n",
    "temp_df['Golden_Globe_Awards_Won']=temp_df.Awards.apply(lambda x:(int(re.findall(r\"Won (\\d+) Gol\",x)[0]) if len(re.findall(r\"Won (\\d+) Gol\",x))!=0 else 0))\n",
    "temp_df['BAFTA_Awards_Won']=temp_df.Awards.apply(lambda x:(int(re.findall(r\"Won (\\d+) BAFTA\",x)[0]) if len(re.findall(r\"Won (\\d+) BAFTA\",x))!=0 else 0))"
   ]
  },
  {
   "cell_type": "code",
   "execution_count": 14,
   "metadata": {
    "collapsed": false
   },
   "outputs": [
    {
     "data": {
      "text/html": [
       "<div>\n",
       "<table border=\"1\" class=\"dataframe\">\n",
       "  <thead>\n",
       "    <tr style=\"text-align: right;\">\n",
       "      <th></th>\n",
       "      <th>Title</th>\n",
       "      <th>Awards</th>\n",
       "      <th>Total_Awards_Won</th>\n",
       "      <th>Total_Awards_Nominated</th>\n",
       "      <th>Prime_Awards_Nominated</th>\n",
       "      <th>Oscar_Awards_Nominated</th>\n",
       "      <th>Golden_Globe_Awards_Nominated</th>\n",
       "      <th>BAFTA_Awards_Nominated</th>\n",
       "      <th>Prime_Awards_Won</th>\n",
       "      <th>Oscar_Awards_Won</th>\n",
       "      <th>Golden_Globe_Awards_Won</th>\n",
       "      <th>BAFTA_Awards_Won</th>\n",
       "    </tr>\n",
       "  </thead>\n",
       "  <tbody>\n",
       "    <tr>\n",
       "      <th>0</th>\n",
       "      <td>Who Are You?</td>\n",
       "      <td>1 win &amp; 2 nominations.</td>\n",
       "      <td>1</td>\n",
       "      <td>2</td>\n",
       "      <td>0</td>\n",
       "      <td>0</td>\n",
       "      <td>0</td>\n",
       "      <td>0</td>\n",
       "      <td>0</td>\n",
       "      <td>0</td>\n",
       "      <td>0</td>\n",
       "      <td>0</td>\n",
       "    </tr>\n",
       "    <tr>\n",
       "      <th>1</th>\n",
       "      <td>Skeletons in the Closet</td>\n",
       "      <td>1 win.</td>\n",
       "      <td>1</td>\n",
       "      <td>0</td>\n",
       "      <td>0</td>\n",
       "      <td>0</td>\n",
       "      <td>0</td>\n",
       "      <td>0</td>\n",
       "      <td>0</td>\n",
       "      <td>0</td>\n",
       "      <td>0</td>\n",
       "      <td>0</td>\n",
       "    </tr>\n",
       "    <tr>\n",
       "      <th>2</th>\n",
       "      <td>Cheerleader Ninjas</td>\n",
       "      <td>1 nomination.</td>\n",
       "      <td>0</td>\n",
       "      <td>1</td>\n",
       "      <td>0</td>\n",
       "      <td>0</td>\n",
       "      <td>0</td>\n",
       "      <td>0</td>\n",
       "      <td>0</td>\n",
       "      <td>0</td>\n",
       "      <td>0</td>\n",
       "      <td>0</td>\n",
       "    </tr>\n",
       "    <tr>\n",
       "      <th>3</th>\n",
       "      <td>The Girl from Paris</td>\n",
       "      <td>3 wins &amp; 2 nominations.</td>\n",
       "      <td>3</td>\n",
       "      <td>2</td>\n",
       "      <td>0</td>\n",
       "      <td>0</td>\n",
       "      <td>0</td>\n",
       "      <td>0</td>\n",
       "      <td>0</td>\n",
       "      <td>0</td>\n",
       "      <td>0</td>\n",
       "      <td>0</td>\n",
       "    </tr>\n",
       "    <tr>\n",
       "      <th>4</th>\n",
       "      <td>The Final Curtain</td>\n",
       "      <td>1 win &amp; 1 nomination.</td>\n",
       "      <td>1</td>\n",
       "      <td>1</td>\n",
       "      <td>0</td>\n",
       "      <td>0</td>\n",
       "      <td>0</td>\n",
       "      <td>0</td>\n",
       "      <td>0</td>\n",
       "      <td>0</td>\n",
       "      <td>0</td>\n",
       "      <td>0</td>\n",
       "    </tr>\n",
       "  </tbody>\n",
       "</table>\n",
       "</div>"
      ],
      "text/plain": [
       "                     Title                   Awards  Total_Awards_Won  \\\n",
       "0             Who Are You?   1 win & 2 nominations.                 1   \n",
       "1  Skeletons in the Closet                   1 win.                 1   \n",
       "2       Cheerleader Ninjas            1 nomination.                 0   \n",
       "3      The Girl from Paris  3 wins & 2 nominations.                 3   \n",
       "4        The Final Curtain    1 win & 1 nomination.                 1   \n",
       "\n",
       "   Total_Awards_Nominated  Prime_Awards_Nominated  Oscar_Awards_Nominated  \\\n",
       "0                       2                       0                       0   \n",
       "1                       0                       0                       0   \n",
       "2                       1                       0                       0   \n",
       "3                       2                       0                       0   \n",
       "4                       1                       0                       0   \n",
       "\n",
       "   Golden_Globe_Awards_Nominated  BAFTA_Awards_Nominated  Prime_Awards_Won  \\\n",
       "0                              0                       0                 0   \n",
       "1                              0                       0                 0   \n",
       "2                              0                       0                 0   \n",
       "3                              0                       0                 0   \n",
       "4                              0                       0                 0   \n",
       "\n",
       "   Oscar_Awards_Won  Golden_Globe_Awards_Won  BAFTA_Awards_Won  \n",
       "0                 0                        0                 0  \n",
       "1                 0                        0                 0  \n",
       "2                 0                        0                 0  \n",
       "3                 0                        0                 0  \n",
       "4                 0                        0                 0  "
      ]
     },
     "execution_count": 14,
     "metadata": {},
     "output_type": "execute_result"
    }
   ],
   "source": [
    "temp_df.head()"
   ]
  },
  {
   "cell_type": "code",
   "execution_count": 15,
   "metadata": {
    "collapsed": true
   },
   "outputs": [],
   "source": [
    "temp_df.to_csv('outputs/awards_split.csv', index=False)"
   ]
  },
  {
   "cell_type": "markdown",
   "metadata": {},
   "source": [
    "## Code referenced from Raju Singh."
   ]
  },
  {
   "cell_type": "code",
   "execution_count": null,
   "metadata": {
    "collapsed": true
   },
   "outputs": [],
   "source": []
  }
 ],
 "metadata": {
  "anaconda-cloud": {},
  "kernelspec": {
   "display_name": "Python [Root]",
   "language": "python",
   "name": "Python [Root]"
  },
  "language_info": {
   "codemirror_mode": {
    "name": "ipython",
    "version": 3
   },
   "file_extension": ".py",
   "mimetype": "text/x-python",
   "name": "python",
   "nbconvert_exporter": "python",
   "pygments_lexer": "ipython3",
   "version": "3.5.2"
  }
 },
 "nbformat": 4,
 "nbformat_minor": 0
}
