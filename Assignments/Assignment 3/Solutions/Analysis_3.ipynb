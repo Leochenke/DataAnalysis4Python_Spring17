{
 "cells": [
  {
   "cell_type": "markdown",
   "metadata": {},
   "source": [
    "## Assignment 3_ Part 2_Question 1\n",
    "- Use 'employee_compensation' data set.\n",
    "- Find out the highest paid departments in each Organization Group by calculating mean of Total Compensation for every department.\n",
    "- Output should contain the Organization Group and the Departments in each organization group with the total compensation **from highest to lowest** value.\n",
    "- Display a few rows of the output **Use df.head()**\n",
    "- Generate a csv output"
   ]
  },
  {
   "cell_type": "code",
   "execution_count": 1,
   "metadata": {
    "collapsed": true
   },
   "outputs": [],
   "source": [
    "import pandas as pd"
   ]
  },
  {
   "cell_type": "code",
   "execution_count": 2,
   "metadata": {
    "collapsed": false
   },
   "outputs": [],
   "source": [
    "df=pd.read_csv(\"Data/employee_compensation.csv\")"
   ]
  },
  {
   "cell_type": "code",
   "execution_count": 3,
   "metadata": {
    "collapsed": false
   },
   "outputs": [
    {
     "data": {
      "text/html": [
       "<div>\n",
       "<table border=\"1\" class=\"dataframe\">\n",
       "  <thead>\n",
       "    <tr style=\"text-align: right;\">\n",
       "      <th></th>\n",
       "      <th>Year Type</th>\n",
       "      <th>Year</th>\n",
       "      <th>Organization Group Code</th>\n",
       "      <th>Organization Group</th>\n",
       "      <th>Department Code</th>\n",
       "      <th>Department</th>\n",
       "      <th>Union Code</th>\n",
       "      <th>Union</th>\n",
       "      <th>Job Family Code</th>\n",
       "      <th>Job Family</th>\n",
       "      <th>...</th>\n",
       "      <th>Employee Identifier</th>\n",
       "      <th>Salaries</th>\n",
       "      <th>Overtime</th>\n",
       "      <th>Other Salaries</th>\n",
       "      <th>Total Salary</th>\n",
       "      <th>Retirement</th>\n",
       "      <th>Health/Dental</th>\n",
       "      <th>Other Benefits</th>\n",
       "      <th>Total Benefits</th>\n",
       "      <th>Total Compensation</th>\n",
       "    </tr>\n",
       "  </thead>\n",
       "  <tbody>\n",
       "    <tr>\n",
       "      <th>0</th>\n",
       "      <td>Calendar</td>\n",
       "      <td>2013</td>\n",
       "      <td>2</td>\n",
       "      <td>Public Works, Transportation &amp; Commerce</td>\n",
       "      <td>AIR</td>\n",
       "      <td>Airport Commission</td>\n",
       "      <td>38.0</td>\n",
       "      <td>Plumbers and Pipefitters, Local 38</td>\n",
       "      <td>7300</td>\n",
       "      <td>Journeyman Trade</td>\n",
       "      <td>...</td>\n",
       "      <td>52206</td>\n",
       "      <td>98528.52</td>\n",
       "      <td>0.00</td>\n",
       "      <td>3955.59</td>\n",
       "      <td>102484.11</td>\n",
       "      <td>20142.55</td>\n",
       "      <td>12918.24</td>\n",
       "      <td>8371.76</td>\n",
       "      <td>41432.55</td>\n",
       "      <td>143916.66</td>\n",
       "    </tr>\n",
       "    <tr>\n",
       "      <th>1</th>\n",
       "      <td>Fiscal</td>\n",
       "      <td>2015</td>\n",
       "      <td>4</td>\n",
       "      <td>Community Health</td>\n",
       "      <td>DPH</td>\n",
       "      <td>Public Health</td>\n",
       "      <td>790.0</td>\n",
       "      <td>SEIU - Miscellaneous, Local 1021</td>\n",
       "      <td>2600</td>\n",
       "      <td>Dietary &amp; Food</td>\n",
       "      <td>...</td>\n",
       "      <td>52950</td>\n",
       "      <td>69169.82</td>\n",
       "      <td>755.02</td>\n",
       "      <td>4179.08</td>\n",
       "      <td>74103.92</td>\n",
       "      <td>15641.92</td>\n",
       "      <td>12499.30</td>\n",
       "      <td>5669.02</td>\n",
       "      <td>33810.24</td>\n",
       "      <td>107914.16</td>\n",
       "    </tr>\n",
       "    <tr>\n",
       "      <th>2</th>\n",
       "      <td>Calendar</td>\n",
       "      <td>2016</td>\n",
       "      <td>3</td>\n",
       "      <td>Human Welfare &amp; Neighborhood Development</td>\n",
       "      <td>WOM</td>\n",
       "      <td>Department of the Status of Women</td>\n",
       "      <td>323.0</td>\n",
       "      <td>Members of Boards and Commissions</td>\n",
       "      <td>0900</td>\n",
       "      <td>Management</td>\n",
       "      <td>...</td>\n",
       "      <td>33958</td>\n",
       "      <td>200.00</td>\n",
       "      <td>0.00</td>\n",
       "      <td>0.00</td>\n",
       "      <td>200.00</td>\n",
       "      <td>0.00</td>\n",
       "      <td>51.45</td>\n",
       "      <td>15.83</td>\n",
       "      <td>67.28</td>\n",
       "      <td>267.28</td>\n",
       "    </tr>\n",
       "    <tr>\n",
       "      <th>3</th>\n",
       "      <td>Calendar</td>\n",
       "      <td>2016</td>\n",
       "      <td>6</td>\n",
       "      <td>General Administration &amp; Finance</td>\n",
       "      <td>HRD</td>\n",
       "      <td>Human Resources</td>\n",
       "      <td>790.0</td>\n",
       "      <td>SEIU - Miscellaneous, Local 1021</td>\n",
       "      <td>8100</td>\n",
       "      <td>Legal &amp; Court</td>\n",
       "      <td>...</td>\n",
       "      <td>33073</td>\n",
       "      <td>1783.00</td>\n",
       "      <td>0.00</td>\n",
       "      <td>0.00</td>\n",
       "      <td>1783.00</td>\n",
       "      <td>325.05</td>\n",
       "      <td>257.23</td>\n",
       "      <td>153.85</td>\n",
       "      <td>736.13</td>\n",
       "      <td>2519.13</td>\n",
       "    </tr>\n",
       "    <tr>\n",
       "      <th>4</th>\n",
       "      <td>Fiscal</td>\n",
       "      <td>2015</td>\n",
       "      <td>5</td>\n",
       "      <td>Culture &amp; Recreation</td>\n",
       "      <td>REC</td>\n",
       "      <td>Recreation and Park Commission</td>\n",
       "      <td>790.0</td>\n",
       "      <td>SEIU - Miscellaneous, Local 1021</td>\n",
       "      <td>9900</td>\n",
       "      <td>Public Service Aide</td>\n",
       "      <td>...</td>\n",
       "      <td>15849</td>\n",
       "      <td>1102.50</td>\n",
       "      <td>0.00</td>\n",
       "      <td>0.00</td>\n",
       "      <td>1102.50</td>\n",
       "      <td>0.00</td>\n",
       "      <td>538.82</td>\n",
       "      <td>85.36</td>\n",
       "      <td>624.18</td>\n",
       "      <td>1726.68</td>\n",
       "    </tr>\n",
       "  </tbody>\n",
       "</table>\n",
       "<p>5 rows × 22 columns</p>\n",
       "</div>"
      ],
      "text/plain": [
       "  Year Type  Year  Organization Group Code  \\\n",
       "0  Calendar  2013                        2   \n",
       "1    Fiscal  2015                        4   \n",
       "2  Calendar  2016                        3   \n",
       "3  Calendar  2016                        6   \n",
       "4    Fiscal  2015                        5   \n",
       "\n",
       "                         Organization Group Department Code  \\\n",
       "0   Public Works, Transportation & Commerce             AIR   \n",
       "1                          Community Health             DPH   \n",
       "2  Human Welfare & Neighborhood Development             WOM   \n",
       "3          General Administration & Finance             HRD   \n",
       "4                      Culture & Recreation             REC   \n",
       "\n",
       "                          Department  Union Code  \\\n",
       "0                 Airport Commission        38.0   \n",
       "1                      Public Health       790.0   \n",
       "2  Department of the Status of Women       323.0   \n",
       "3                    Human Resources       790.0   \n",
       "4     Recreation and Park Commission       790.0   \n",
       "\n",
       "                                Union Job Family Code           Job Family  \\\n",
       "0  Plumbers and Pipefitters, Local 38            7300     Journeyman Trade   \n",
       "1    SEIU - Miscellaneous, Local 1021            2600       Dietary & Food   \n",
       "2   Members of Boards and Commissions            0900           Management   \n",
       "3    SEIU - Miscellaneous, Local 1021            8100        Legal & Court   \n",
       "4    SEIU - Miscellaneous, Local 1021            9900  Public Service Aide   \n",
       "\n",
       "          ...         Employee Identifier  Salaries  Overtime  Other Salaries  \\\n",
       "0         ...                       52206  98528.52      0.00         3955.59   \n",
       "1         ...                       52950  69169.82    755.02         4179.08   \n",
       "2         ...                       33958    200.00      0.00            0.00   \n",
       "3         ...                       33073   1783.00      0.00            0.00   \n",
       "4         ...                       15849   1102.50      0.00            0.00   \n",
       "\n",
       "   Total Salary  Retirement  Health/Dental  Other Benefits  Total Benefits  \\\n",
       "0     102484.11    20142.55       12918.24         8371.76        41432.55   \n",
       "1      74103.92    15641.92       12499.30         5669.02        33810.24   \n",
       "2        200.00        0.00          51.45           15.83           67.28   \n",
       "3       1783.00      325.05         257.23          153.85          736.13   \n",
       "4       1102.50        0.00         538.82           85.36          624.18   \n",
       "\n",
       "   Total Compensation  \n",
       "0           143916.66  \n",
       "1           107914.16  \n",
       "2              267.28  \n",
       "3             2519.13  \n",
       "4             1726.68  \n",
       "\n",
       "[5 rows x 22 columns]"
      ]
     },
     "execution_count": 3,
     "metadata": {},
     "output_type": "execute_result"
    }
   ],
   "source": [
    "df.head()"
   ]
  },
  {
   "cell_type": "code",
   "execution_count": 4,
   "metadata": {
    "collapsed": true
   },
   "outputs": [],
   "source": [
    "temp_df = round(df.groupby(['Organization Group','Department'], as_index=False)['Total Compensation'].mean(),2)"
   ]
  },
  {
   "cell_type": "code",
   "execution_count": 5,
   "metadata": {
    "collapsed": false
   },
   "outputs": [
    {
     "data": {
      "text/html": [
       "<div>\n",
       "<table border=\"1\" class=\"dataframe\">\n",
       "  <thead>\n",
       "    <tr style=\"text-align: right;\">\n",
       "      <th></th>\n",
       "      <th>Organization Group</th>\n",
       "      <th>Department</th>\n",
       "      <th>Total Compensation</th>\n",
       "    </tr>\n",
       "  </thead>\n",
       "  <tbody>\n",
       "    <tr>\n",
       "      <th>0</th>\n",
       "      <td>Community Health</td>\n",
       "      <td>Public Health</td>\n",
       "      <td>96190.19</td>\n",
       "    </tr>\n",
       "    <tr>\n",
       "      <th>1</th>\n",
       "      <td>Culture &amp; Recreation</td>\n",
       "      <td>Academy of Sciences</td>\n",
       "      <td>107319.73</td>\n",
       "    </tr>\n",
       "    <tr>\n",
       "      <th>2</th>\n",
       "      <td>Culture &amp; Recreation</td>\n",
       "      <td>Arts Commission</td>\n",
       "      <td>94339.60</td>\n",
       "    </tr>\n",
       "    <tr>\n",
       "      <th>3</th>\n",
       "      <td>Culture &amp; Recreation</td>\n",
       "      <td>Asian Art Museum</td>\n",
       "      <td>71401.52</td>\n",
       "    </tr>\n",
       "    <tr>\n",
       "      <th>4</th>\n",
       "      <td>Culture &amp; Recreation</td>\n",
       "      <td>Fine Arts Museum</td>\n",
       "      <td>44205.44</td>\n",
       "    </tr>\n",
       "  </tbody>\n",
       "</table>\n",
       "</div>"
      ],
      "text/plain": [
       "     Organization Group           Department  Total Compensation\n",
       "0      Community Health        Public Health            96190.19\n",
       "1  Culture & Recreation  Academy of Sciences           107319.73\n",
       "2  Culture & Recreation      Arts Commission            94339.60\n",
       "3  Culture & Recreation     Asian Art Museum            71401.52\n",
       "4  Culture & Recreation     Fine Arts Museum            44205.44"
      ]
     },
     "execution_count": 5,
     "metadata": {},
     "output_type": "execute_result"
    }
   ],
   "source": [
    "temp_df.head()"
   ]
  },
  {
   "cell_type": "code",
   "execution_count": 6,
   "metadata": {
    "collapsed": false
   },
   "outputs": [
    {
     "data": {
      "text/html": [
       "<div>\n",
       "<table border=\"1\" class=\"dataframe\">\n",
       "  <thead>\n",
       "    <tr style=\"text-align: right;\">\n",
       "      <th></th>\n",
       "      <th></th>\n",
       "      <th>Department</th>\n",
       "      <th>Total Compensation</th>\n",
       "    </tr>\n",
       "    <tr>\n",
       "      <th>Organization Group</th>\n",
       "      <th></th>\n",
       "      <th></th>\n",
       "      <th></th>\n",
       "    </tr>\n",
       "  </thead>\n",
       "  <tbody>\n",
       "    <tr>\n",
       "      <th>Community Health</th>\n",
       "      <th>0</th>\n",
       "      <td>Public Health</td>\n",
       "      <td>96190.19</td>\n",
       "    </tr>\n",
       "    <tr>\n",
       "      <th rowspan=\"4\" valign=\"top\">Culture &amp; Recreation</th>\n",
       "      <th>5</th>\n",
       "      <td>Law Library</td>\n",
       "      <td>188424.36</td>\n",
       "    </tr>\n",
       "    <tr>\n",
       "      <th>1</th>\n",
       "      <td>Academy of Sciences</td>\n",
       "      <td>107319.73</td>\n",
       "    </tr>\n",
       "    <tr>\n",
       "      <th>2</th>\n",
       "      <td>Arts Commission</td>\n",
       "      <td>94339.60</td>\n",
       "    </tr>\n",
       "    <tr>\n",
       "      <th>8</th>\n",
       "      <td>War Memorial</td>\n",
       "      <td>76250.07</td>\n",
       "    </tr>\n",
       "  </tbody>\n",
       "</table>\n",
       "</div>"
      ],
      "text/plain": [
       "                                 Department  Total Compensation\n",
       "Organization Group                                             \n",
       "Community Health     0        Public Health            96190.19\n",
       "Culture & Recreation 5          Law Library           188424.36\n",
       "                     1  Academy of Sciences           107319.73\n",
       "                     2      Arts Commission            94339.60\n",
       "                     8         War Memorial            76250.07"
      ]
     },
     "execution_count": 6,
     "metadata": {},
     "output_type": "execute_result"
    }
   ],
   "source": [
    "sorted_df = temp_df.groupby(['Organization Group'])[['Department','Total Compensation']].apply(lambda x:x.sort_values('Total Compensation', ascending=False))\n",
    "sorted_df.head()"
   ]
  },
  {
   "cell_type": "code",
   "execution_count": 7,
   "metadata": {
    "collapsed": false
   },
   "outputs": [
    {
     "data": {
      "text/html": [
       "<div>\n",
       "<table border=\"1\" class=\"dataframe\">\n",
       "  <thead>\n",
       "    <tr style=\"text-align: right;\">\n",
       "      <th></th>\n",
       "      <th>Department</th>\n",
       "      <th>Total Compensation</th>\n",
       "    </tr>\n",
       "    <tr>\n",
       "      <th>Organization Group</th>\n",
       "      <th></th>\n",
       "      <th></th>\n",
       "    </tr>\n",
       "  </thead>\n",
       "  <tbody>\n",
       "    <tr>\n",
       "      <th>Community Health</th>\n",
       "      <td>Public Health</td>\n",
       "      <td>96190.19</td>\n",
       "    </tr>\n",
       "    <tr>\n",
       "      <th>Culture &amp; Recreation</th>\n",
       "      <td>Law Library</td>\n",
       "      <td>188424.36</td>\n",
       "    </tr>\n",
       "    <tr>\n",
       "      <th>Culture &amp; Recreation</th>\n",
       "      <td>Academy of Sciences</td>\n",
       "      <td>107319.73</td>\n",
       "    </tr>\n",
       "    <tr>\n",
       "      <th>Culture &amp; Recreation</th>\n",
       "      <td>Arts Commission</td>\n",
       "      <td>94339.60</td>\n",
       "    </tr>\n",
       "    <tr>\n",
       "      <th>Culture &amp; Recreation</th>\n",
       "      <td>War Memorial</td>\n",
       "      <td>76250.07</td>\n",
       "    </tr>\n",
       "  </tbody>\n",
       "</table>\n",
       "</div>"
      ],
      "text/plain": [
       "                               Department  Total Compensation\n",
       "Organization Group                                           \n",
       "Community Health            Public Health            96190.19\n",
       "Culture & Recreation          Law Library           188424.36\n",
       "Culture & Recreation  Academy of Sciences           107319.73\n",
       "Culture & Recreation      Arts Commission            94339.60\n",
       "Culture & Recreation         War Memorial            76250.07"
      ]
     },
     "execution_count": 7,
     "metadata": {},
     "output_type": "execute_result"
    }
   ],
   "source": [
    "sorted_df = sorted_df.reset_index(level=1, drop=True)\n",
    "sorted_df.head()"
   ]
  },
  {
   "cell_type": "code",
   "execution_count": 8,
   "metadata": {
    "collapsed": false
   },
   "outputs": [],
   "source": [
    "final_output_df = sorted_df.reset_index()"
   ]
  },
  {
   "cell_type": "code",
   "execution_count": 9,
   "metadata": {
    "collapsed": false
   },
   "outputs": [
    {
     "data": {
      "text/html": [
       "<div>\n",
       "<table border=\"1\" class=\"dataframe\">\n",
       "  <thead>\n",
       "    <tr style=\"text-align: right;\">\n",
       "      <th></th>\n",
       "      <th>Organization Group</th>\n",
       "      <th>Department</th>\n",
       "      <th>Total Compensation</th>\n",
       "    </tr>\n",
       "  </thead>\n",
       "  <tbody>\n",
       "    <tr>\n",
       "      <th>0</th>\n",
       "      <td>Community Health</td>\n",
       "      <td>Public Health</td>\n",
       "      <td>96190.19</td>\n",
       "    </tr>\n",
       "    <tr>\n",
       "      <th>1</th>\n",
       "      <td>Culture &amp; Recreation</td>\n",
       "      <td>Law Library</td>\n",
       "      <td>188424.36</td>\n",
       "    </tr>\n",
       "    <tr>\n",
       "      <th>2</th>\n",
       "      <td>Culture &amp; Recreation</td>\n",
       "      <td>Academy of Sciences</td>\n",
       "      <td>107319.73</td>\n",
       "    </tr>\n",
       "    <tr>\n",
       "      <th>3</th>\n",
       "      <td>Culture &amp; Recreation</td>\n",
       "      <td>Arts Commission</td>\n",
       "      <td>94339.60</td>\n",
       "    </tr>\n",
       "    <tr>\n",
       "      <th>4</th>\n",
       "      <td>Culture &amp; Recreation</td>\n",
       "      <td>War Memorial</td>\n",
       "      <td>76250.07</td>\n",
       "    </tr>\n",
       "  </tbody>\n",
       "</table>\n",
       "</div>"
      ],
      "text/plain": [
       "     Organization Group           Department  Total Compensation\n",
       "0      Community Health        Public Health            96190.19\n",
       "1  Culture & Recreation          Law Library           188424.36\n",
       "2  Culture & Recreation  Academy of Sciences           107319.73\n",
       "3  Culture & Recreation      Arts Commission            94339.60\n",
       "4  Culture & Recreation         War Memorial            76250.07"
      ]
     },
     "execution_count": 9,
     "metadata": {},
     "output_type": "execute_result"
    }
   ],
   "source": [
    "final_output_df.head()"
   ]
  },
  {
   "cell_type": "code",
   "execution_count": 10,
   "metadata": {
    "collapsed": true
   },
   "outputs": [],
   "source": [
    "final_output_df.to_csv('outputs/sorted_department_by_compensation.csv', index=False)"
   ]
  },
  {
   "cell_type": "code",
   "execution_count": null,
   "metadata": {
    "collapsed": true
   },
   "outputs": [],
   "source": []
  }
 ],
 "metadata": {
  "kernelspec": {
   "display_name": "Python [Root]",
   "language": "python",
   "name": "Python [Root]"
  },
  "language_info": {
   "codemirror_mode": {
    "name": "ipython",
    "version": 3
   },
   "file_extension": ".py",
   "mimetype": "text/x-python",
   "name": "python",
   "nbconvert_exporter": "python",
   "pygments_lexer": "ipython3",
   "version": "3.5.2"
  }
 },
 "nbformat": 4,
 "nbformat_minor": 0
}
